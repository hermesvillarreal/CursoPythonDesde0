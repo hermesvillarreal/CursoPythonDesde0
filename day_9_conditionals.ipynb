{
  "nbformat": 4,
  "nbformat_minor": 0,
  "metadata": {
    "colab": {
      "provenance": [],
      "collapsed_sections": [],
      "authorship_tag": "ABX9TyOtmSosf2ORAcoImXbF77fK",
      "include_colab_link": true
    },
    "kernelspec": {
      "name": "python3",
      "display_name": "Python 3"
    },
    "language_info": {
      "name": "python"
    }
  },
  "cells": [
    {
      "cell_type": "markdown",
      "metadata": {
        "id": "view-in-github",
        "colab_type": "text"
      },
      "source": [
        "<a href=\"https://colab.research.google.com/github/hermesvillarreal/CursoPythonDesde0/blob/main/day_9_conditionals.ipynb\" target=\"_parent\"><img src=\"https://colab.research.google.com/assets/colab-badge.svg\" alt=\"Open In Colab\"/></a>"
      ]
    },
    {
      "cell_type": "markdown",
      "source": [
        "# Exercises: Level 1"
      ],
      "metadata": {
        "id": "sfXkvsQbFlgx"
      }
    },
    {
      "cell_type": "markdown",
      "source": [
        "1.  Get user input using input(“Enter your age: ”). If user is 18 or older, give feedback: You are old enough to drive. If below 18 give feedback to wait for the missing amount of years. Output:\n",
        "    ```sh\n",
        "    Enter your age: 30\n",
        "    You are old enough to learn to drive.\n",
        "    Output:\n",
        "    Enter your age: 15\n",
        "    You need 3 more years to learn to drive.\n",
        "    ```"
      ],
      "metadata": {
        "id": "Q-bTBt6-FsfW"
      }
    },
    {
      "cell_type": "code",
      "source": [
        "age = int(input('Enter your age: '))\n",
        "if age >= 18:\n",
        "  print('You are old enough to learn to drive.')\n",
        "else:\n",
        "  print(f'You need {18-age} more years to learn to drive.')"
      ],
      "metadata": {
        "id": "ZC_lwNIyJmBe",
        "colab": {
          "base_uri": "https://localhost:8080/"
        },
        "outputId": "dae352c9-16b5-477c-e4af-aef9b74a80f2"
      },
      "execution_count": 6,
      "outputs": [
        {
          "output_type": "stream",
          "name": "stdout",
          "text": [
            "Enter your age: 12\n",
            "You need 6 more years to learn to drive.\n"
          ]
        }
      ]
    },
    {
      "cell_type": "markdown",
      "source": [
        "2.  Compare the values of my_age and your_age using if … else. Who is older (me or you)? Use input(“Enter your age: ”) to get the age as input. You can use a nested condition to print 'year' for 1 year difference in age, 'years' for bigger differences, and a custom text if my_age = your_age. Output:\n",
        "  ```sh\n",
        "  Enter your age: 30\n",
        "  You are 5 years older than me.\n",
        "  ```"
      ],
      "metadata": {
        "id": "7erIegUCF3Cj"
      }
    },
    {
      "cell_type": "code",
      "source": [
        "my_age = int(input('Enter my age: '))\n",
        "your_age = int(input('Enter your age: '))\n",
        "dif_age = my_age - your_age\n",
        "\n",
        "if dif_age == 0:\n",
        "  print('You are same years than me.')\n",
        "elif dif_age < 0:\n",
        "  if dif_age == -1:\n",
        "    print(f'You are 1 year older than me.')\n",
        "  else:\n",
        "    print(f'You are {abs(dif_age)} years older than me.')\n",
        "else: # dif_age > 0\n",
        "  if dif_age == 1:\n",
        "    print(f'You are 1 year younger than me.')\n",
        "  else:\n",
        "    print(f'You are {dif_age} years younger than me.')"
      ],
      "metadata": {
        "id": "mZjrML7ZJk46",
        "colab": {
          "base_uri": "https://localhost:8080/"
        },
        "outputId": "4b2515bd-601a-4d12-ecc4-b8d9ee1d70f8"
      },
      "execution_count": 12,
      "outputs": [
        {
          "output_type": "stream",
          "name": "stdout",
          "text": [
            "Enter my age: 45\n",
            "Enter your age: 49\n",
            "You are 4 years older than me.\n"
          ]
        }
      ]
    },
    {
      "cell_type": "markdown",
      "source": [
        "3.  Get two numbers from the user using input prompt. If a is greater than b return a is greater than b, if a is less b return a is smaller than b, else a is equal to b. Output:\n",
        "\n",
        "  ```sh\n",
        "  Enter number one: 4\n",
        "  Enter number two: 3\n",
        "  4 is greater than 3\n",
        "  ```"
      ],
      "metadata": {
        "id": "N3pqIIm2HhlG"
      }
    },
    {
      "cell_type": "code",
      "source": [
        "a = int(input('Enter number one: '))\n",
        "b = int(input('Enter number two: '))\n",
        "\n",
        "print(f'{a} is greater than {b}') if a > b else print('{a} is smaller than {b}') if a < b else print(f'{a} is equal to5 {b}')"
      ],
      "metadata": {
        "id": "xCRtYA6-JkgN",
        "colab": {
          "base_uri": "https://localhost:8080/"
        },
        "outputId": "57cc0ed3-d028-45cf-e2c8-1f3ac453f46a"
      },
      "execution_count": 16,
      "outputs": [
        {
          "output_type": "stream",
          "name": "stdout",
          "text": [
            "Enter number one: 5\n",
            "Enter number two: 5\n",
            "5 is equal to5 5\n"
          ]
        }
      ]
    },
    {
      "cell_type": "markdown",
      "source": [
        "# Exercises: Level 2"
      ],
      "metadata": {
        "id": "vWjkIvRZHktm"
      }
    },
    {
      "cell_type": "markdown",
      "source": [
        "   1. Write a code which gives grade to students according to theirs scores:\n",
        "   \n",
        "        ```sh\n",
        "        90-100, A\n",
        "        70-89, B\n",
        "        60-69, C\n",
        "        50-59, D\n",
        "        0-49, F\n",
        "        ```"
      ],
      "metadata": {
        "id": "oloyY0bzIWHP"
      }
    },
    {
      "cell_type": "code",
      "source": [
        "a = int(input('Enter points: '))\n",
        "\n",
        "if a >= 90 and a <= 100:\n",
        "  print('A')\n",
        "elif a >= 70 and a <= 89:\n",
        "  print('B')\n",
        "elif a >= 60 and a <= 69:\n",
        "  print('C')\n",
        "elif a >= 50 and a <= 59:\n",
        "  print('D')\n",
        "elif a >= 0 and a <= 49:\n",
        "  print('F')\n",
        "else:\n",
        "  print(f'Nota no definida para {a}')"
      ],
      "metadata": {
        "id": "Ul5yhQKCJjAA",
        "colab": {
          "base_uri": "https://localhost:8080/"
        },
        "outputId": "a4d38fa6-24b4-4fa8-deb1-61f7687b57c8"
      },
      "execution_count": 44,
      "outputs": [
        {
          "output_type": "stream",
          "name": "stdout",
          "text": [
            "Enter points: 79\n",
            "B\n"
          ]
        }
      ]
    },
    {
      "cell_type": "code",
      "source": [
        "a = int(input('Enter points: '))\n",
        "\n",
        "Notas = '90-100 70-89 60-69 50-59 0-49'.split()\n",
        "Grado = 'A B C D F'.split()\n",
        "for i in range(0, len(Notas)):\n",
        "  Eval = Notas[i].split('-')\n",
        "  if a >= int(Eval[0]) and a <= int(Eval[1]):\n",
        "    print(Grado[i])\n",
        "    break  "
      ],
      "metadata": {
        "colab": {
          "base_uri": "https://localhost:8080/"
        },
        "id": "pLI2ltbQGEJj",
        "outputId": "1973e46c-7da2-44f8-bfb1-5392534ba8f1"
      },
      "execution_count": 62,
      "outputs": [
        {
          "output_type": "stream",
          "name": "stdout",
          "text": [
            "Enter points: 26\n",
            "F\n"
          ]
        }
      ]
    },
    {
      "cell_type": "markdown",
      "source": [
        "2. Check if the season is Autumn, Winter, Spring or Summer. If the user input is:\n",
        "    September, October or November, the season is Autumn.\n",
        "    December, January or February, the season is Winter.\n",
        "    March, April or May, the season is Spring\n",
        "    June, July or August, the season is Summer\n"
      ],
      "metadata": {
        "id": "rgRr3BL9Io6-"
      }
    },
    {
      "cell_type": "code",
      "source": [
        "Season = 'Autumn, Winter, Spring, Summer'.split(', ')\n",
        "Mes = input('Mes del Año: ')\n",
        "if Mes in 'September, October, November'.split(', '):\n",
        "   print(Season[0])\n",
        "elif Mes in 'December, January, February'.split(', '): \n",
        "   print(Season[1])\n",
        "elif Mes in 'March, April, May'.split(', '): \n",
        "   print(Season[2])\n",
        "elif Mes in 'June, July, August'.split(', '):\n",
        "   print(Season[3])\n",
        "else: \n",
        "   print(f'{Mes} no es un mes válido')\n"
      ],
      "metadata": {
        "id": "_9Y106F0JhPr",
        "colab": {
          "base_uri": "https://localhost:8080/"
        },
        "outputId": "e05ffeb7-eb55-4284-d182-7c9660daf035"
      },
      "execution_count": 72,
      "outputs": [
        {
          "output_type": "stream",
          "name": "stdout",
          "text": [
            "Mes del Año: January\n",
            "Winter\n"
          ]
        }
      ]
    },
    {
      "cell_type": "markdown",
      "source": [
        "3.  The following list contains some fruits:\n",
        "    ```sh\n",
        "    fruits = ['banana', 'orange', 'mango', 'lemon']\n",
        "    ```\n",
        "    If a fruit doesn't exist in the list add the fruit to the list and print the modified list. If the fruit exists print('That fruit already exist in the list') \n"
      ],
      "metadata": {
        "id": "0UAdT4BQI1bb"
      }
    },
    {
      "cell_type": "code",
      "source": [
        "fruits = ['banana', 'orange', 'mango', 'lemon']\n",
        "\n",
        "fruit = input('Entre una fruta: ')\n",
        "\n",
        "if (fruit in fruits):\n",
        "  print('That fruit already exist in the list')\n",
        "else:\n",
        "  fruits.append(fruit)\n",
        "\n",
        "fruits"
      ],
      "metadata": {
        "id": "YlSpHUgZJgw1",
        "colab": {
          "base_uri": "https://localhost:8080/"
        },
        "outputId": "01fe0290-e318-4f7d-adbb-f1db92d7d83b"
      },
      "execution_count": 73,
      "outputs": [
        {
          "name": "stdout",
          "output_type": "stream",
          "text": [
            "Entre una frutamamon\n"
          ]
        },
        {
          "output_type": "execute_result",
          "data": {
            "text/plain": [
              "['banana', 'orange', 'mango', 'lemon', 'mamon']"
            ]
          },
          "metadata": {},
          "execution_count": 73
        }
      ]
    },
    {
      "cell_type": "markdown",
      "source": [
        "# Exercises: Level 3"
      ],
      "metadata": {
        "id": "xLVTCv9II7P7"
      }
    },
    {
      "cell_type": "markdown",
      "source": [
        "   1. Here we have a person dictionary. Feel free to modify it!\n",
        "   \n",
        "```py\n",
        "        person={\n",
        "    'first_name': 'Asabeneh',\n",
        "    'last_name': 'Yetayeh',\n",
        "    'age': 250,\n",
        "    'country': 'Finland',\n",
        "    'is_marred': True,\n",
        "    'skills': ['JavaScript', 'React', 'Node', 'MongoDB', 'Python'],\n",
        "    'address': {\n",
        "        'street': 'Space street',\n",
        "        'zipcode': '02210'\n",
        "    }\n",
        "    }\n",
        "```\n",
        "\n",
        "     * Check if the person dictionary has skills key, if so print out the middle skill in the skills list.\n",
        "     * Check if the person dictionary has skills key, if so check if the person has 'Python' skill and print out the result.\n",
        "     * If a person skills has only JavaScript and React, print('He is a front end developer'), if the person skills has Node, Python, MongoDB, print('He is a backend developer'), if the person skills has React, Node and MongoDB, Print('He is a fullstack developer'), else print('unknown title') - for more accurate results more conditions can be nested!\n",
        "     * If the person is married and if he lives in Finland, print the information in the following format:\n",
        "\n",
        "```py\n",
        "    Asabeneh Yetayeh lives in Finland. He is married.\n",
        "```\n"
      ],
      "metadata": {
        "id": "0cP553WpJBGp"
      }
    },
    {
      "cell_type": "code",
      "source": [
        "person={\n",
        "    'first_name': 'Hermes',\n",
        "    'last_name': 'Villarreal',\n",
        "    'age': 45,\n",
        "    'country': 'Panama',\n",
        "    'is_marred': True,\n",
        "    'skills': ['JavaScript', 'React', 'Node', 'MongoDB', 'Python'],\n",
        "    'address': {\n",
        "        'street': 'Space street',\n",
        "        'zipcode': '02210'\n",
        "    }\n",
        "    }\n",
        "\n",
        "# remueve un skills para comprobar el if\n",
        "#skills = person['skills']\n",
        "#skills.remove('React')\n",
        "\n",
        "if 'skills' in person:\n",
        "  print(person['skills'][len(person['skills'])//2])\n",
        "  print('Tiene la habilidad de Python') if 'Python' in person['skills'] else None\n",
        "  if {'React', 'Node', 'MongoDB'}.issubset(set(person['skills'])):\n",
        "    print('He is a fullstack developer')\n",
        "  elif {'JavaScript','React'}.issuperset(set(person['skills'])):\n",
        "    print('He is a front end developer')\n",
        "  elif {'Node', 'Python', 'MongoDB'}.issubset(set(person['skills'])):\n",
        "    print('He is a backend developer')\n",
        "  else:\n",
        "    print('unknown title')\n",
        "\n",
        "if 'is_marred' in person:\n",
        "  if person['is_marred'] == True:\n",
        "    if 'country' in person:\n",
        "      if person['country'] == 'Panama':\n",
        "        print(f\"{person['first_name']} {person['last_name']} lives in {person['country']}. He is married.\")\n",
        "  "
      ],
      "metadata": {
        "id": "54dK-AgyJc8u",
        "colab": {
          "base_uri": "https://localhost:8080/"
        },
        "outputId": "9d9a86cc-0ac6-497b-9ed4-fc58da780a4e"
      },
      "execution_count": 94,
      "outputs": [
        {
          "output_type": "stream",
          "name": "stdout",
          "text": [
            "Node\n",
            "Tiene la habilidad de Python\n",
            "He is a fullstack developer\n",
            "Hermes Villarreal lives in Panama. He is married.\n"
          ]
        }
      ]
    }
  ]
}