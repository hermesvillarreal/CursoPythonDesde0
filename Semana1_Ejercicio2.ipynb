{
  "nbformat": 4,
  "nbformat_minor": 0,
  "metadata": {
    "colab": {
      "name": "Semana1 - Ejercicio2.ipynb",
      "provenance": [],
      "authorship_tag": "ABX9TyMrpB/cux5AR3FZv8eX4yZE",
      "include_colab_link": true
    },
    "kernelspec": {
      "name": "python3",
      "display_name": "Python 3"
    },
    "language_info": {
      "name": "python"
    }
  },
  "cells": [
    {
      "cell_type": "markdown",
      "metadata": {
        "id": "view-in-github",
        "colab_type": "text"
      },
      "source": [
        "<a href=\"https://colab.research.google.com/github/hermesvillarreal/CursoPythonDesde0/blob/main/Semana1_Ejercicio2.ipynb\" target=\"_parent\"><img src=\"https://colab.research.google.com/assets/colab-badge.svg\" alt=\"Open In Colab\"/></a>"
      ]
    },
    {
      "cell_type": "markdown",
      "source": [
        "**Ejercicio N2**\n",
        "\n",
        "Escribe un programa que muestre por pantalla el resultado de la siguiente operacion aritmética ((3 + 2)/(2 * 5))^2"
      ],
      "metadata": {
        "id": "B5jdQQc7EeNZ"
      }
    },
    {
      "cell_type": "code",
      "source": [
        "print (((3 + 2)/(2 * 5))**2)"
      ],
      "metadata": {
        "colab": {
          "base_uri": "https://localhost:8080/"
        },
        "id": "lGs_2u1uEhym",
        "outputId": "b5681bc7-9813-42cb-ebed-a076dbd0dfbc"
      },
      "execution_count": null,
      "outputs": [
        {
          "output_type": "stream",
          "name": "stdout",
          "text": [
            "0.25\n"
          ]
        }
      ]
    }
  ]
}