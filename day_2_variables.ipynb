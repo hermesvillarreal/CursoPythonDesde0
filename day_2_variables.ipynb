{
  "nbformat": 4,
  "nbformat_minor": 0,
  "metadata": {
    "colab": {
      "provenance": [],
      "mount_file_id": "1p8q5X2Gj-BUwRNfIpPdOnarbyelOj4CN",
      "authorship_tag": "ABX9TyO0UCPtkMLLJF6FL0RO0DW5",
      "include_colab_link": true
    },
    "kernelspec": {
      "name": "python3",
      "display_name": "Python 3"
    },
    "language_info": {
      "name": "python"
    }
  },
  "cells": [
    {
      "cell_type": "markdown",
      "metadata": {
        "id": "view-in-github",
        "colab_type": "text"
      },
      "source": [
        "<a href=\"https://colab.research.google.com/github/hermesvillarreal/30-Days-Of-Python-master/blob/main/variables.ipynb\" target=\"_parent\"><img src=\"https://colab.research.google.com/assets/colab-badge.svg\" alt=\"Open In Colab\"/></a>"
      ]
    },
    {
      "cell_type": "markdown",
      "source": [
        "# Exercises: Level 1"
      ],
      "metadata": {
        "id": "rqWdRU8NlcR0"
      }
    },
    {
      "cell_type": "code",
      "source": [
        "# Day 2: 30 Days of python programming"
      ],
      "metadata": {
        "id": "DiuUrrDmNqlq"
      },
      "execution_count": 1,
      "outputs": []
    },
    {
      "cell_type": "code",
      "source": [
        "first_name = 'Hermes'\n",
        "last_name = 'Villarreal'\n",
        "full_name = first_name + ' ' + last_name\n",
        "country = 'Panama'\n",
        "city = 'PAnama'\n",
        "age = 45\n",
        "year = 1977\n",
        "is_married = True\n",
        "is_true = True\n",
        "is_light_on = False\n",
        "\n",
        "country, city, age, year = 'Panama', 'Panama', 45, 1977"
      ],
      "metadata": {
        "id": "rv89nfAwlX_C"
      },
      "execution_count": 8,
      "outputs": []
    },
    {
      "cell_type": "markdown",
      "source": [
        "# Exercises: Level 2"
      ],
      "metadata": {
        "id": "k94wwSc9lfZz"
      }
    },
    {
      "cell_type": "markdown",
      "source": [
        "1. Check the data type of all your variables using type() built-in function"
      ],
      "metadata": {
        "id": "Np9tdQ_yRKcP"
      }
    },
    {
      "cell_type": "code",
      "source": [
        "print(type(first_name))\n",
        "print(type(last_name))\n",
        "print(type(full_name))\n",
        "print(type(country))\n",
        "print(type(city))\n",
        "print(type(age))\n",
        "print(type(year))\n",
        "print(type(is_married))\n",
        "print(type(is_true))\n",
        "print(type(is_light_on))\n"
      ],
      "metadata": {
        "colab": {
          "base_uri": "https://localhost:8080/"
        },
        "id": "OgBofgRwlljI",
        "outputId": "603b04c3-c3e6-4668-b270-b0c700ea576f"
      },
      "execution_count": 9,
      "outputs": [
        {
          "output_type": "stream",
          "name": "stdout",
          "text": [
            "<class 'str'>\n",
            "<class 'str'>\n",
            "<class 'str'>\n",
            "<class 'str'>\n",
            "<class 'str'>\n",
            "<class 'int'>\n",
            "<class 'int'>\n",
            "<class 'bool'>\n",
            "<class 'bool'>\n",
            "<class 'bool'>\n"
          ]
        }
      ]
    },
    {
      "cell_type": "markdown",
      "source": [
        "2. Using the len() built-in function, find the length of your first name"
      ],
      "metadata": {
        "id": "jK0qO3p9RTvO"
      }
    },
    {
      "cell_type": "code",
      "source": [
        "len(first_name)"
      ],
      "metadata": {
        "colab": {
          "base_uri": "https://localhost:8080/"
        },
        "id": "-qo4M6nLRCxE",
        "outputId": "6e3abd6d-7506-4ef9-c772-2d9dbc0636fd"
      },
      "execution_count": 31,
      "outputs": [
        {
          "output_type": "execute_result",
          "data": {
            "text/plain": [
              "6"
            ]
          },
          "metadata": {},
          "execution_count": 31
        }
      ]
    },
    {
      "cell_type": "markdown",
      "source": [
        "3. Compare the length of your first name and your last name"
      ],
      "metadata": {
        "id": "Y7xdAEQ7ReUU"
      }
    },
    {
      "cell_type": "code",
      "source": [
        "len(first_name) == len(last_name)"
      ],
      "metadata": {
        "colab": {
          "base_uri": "https://localhost:8080/"
        },
        "id": "eFoq1TA8RfzP",
        "outputId": "fc20c030-f919-4c4d-c9f2-c2136fa74a50"
      },
      "execution_count": 27,
      "outputs": [
        {
          "output_type": "execute_result",
          "data": {
            "text/plain": [
              "False"
            ]
          },
          "metadata": {},
          "execution_count": 27
        }
      ]
    },
    {
      "cell_type": "markdown",
      "source": [
        "4. Declare 5 as num_one and 4 as num_two"
      ],
      "metadata": {
        "id": "kaYjj23fRxFE"
      }
    },
    {
      "cell_type": "code",
      "source": [
        "num_one, num_two = 5, 4\n",
        "\n",
        "# Add num_one and num_two and assign the value to a variable total\n",
        "total = num_one + num_two\n",
        "\n",
        "# Subtract num_two from num_one and assign the value to a variable diff\n",
        "diff = num_one - num_two\n",
        "\n",
        "# Multiply num_two and num_one and assign the value to a variable product\n",
        "product = num_one * num_two\n",
        "\n",
        "# Divide num_one by num_two and assign the value to a variable division\n",
        "division = num_one / num_two\n",
        "\n",
        "# Use modulus division to find num_two divided by num_one and assign the value to a variable remainder\n",
        "remainder = num_one % num_two\n",
        "\n",
        "# Calculate num_one to the power of num_two and assign the value to a variable exp\n",
        "exp = num_one ** num_two\n",
        "\n",
        "# Find floor division of num_one by num_two and assign the value to a variable floor_division\n",
        "floor_division = num_one // num_two\n"
      ],
      "metadata": {
        "id": "_oyyrMMzRy5h"
      },
      "execution_count": 28,
      "outputs": []
    },
    {
      "cell_type": "markdown",
      "source": [
        "5. The radius of a circle is 30 meters"
      ],
      "metadata": {
        "id": "k5S6GjCrTlXc"
      }
    },
    {
      "cell_type": "code",
      "source": [
        "pi = 3.141592\n",
        "r = 30"
      ],
      "metadata": {
        "id": "qEAjnDlhVPHZ"
      },
      "execution_count": 29,
      "outputs": []
    },
    {
      "cell_type": "code",
      "source": [
        "# Calculate the area of a circle and assign the value to a variable name of area_of_circle\n",
        "# A = π r²\n",
        "area_of_circle = pi * r ** 2\n",
        "\n",
        "# Calculate the circumference of a circle and assign the value to a variable name of circum_of_circle\n",
        "# C = π d\n",
        "# C = 2 r }π\n",
        "circum_of_circle = 2 * r * pi \n",
        "\n",
        "# Take radius as user input and calculate the area.\n",
        "r = int(input('radio: '))\n",
        "area = pi * r ** 2"
      ],
      "metadata": {
        "colab": {
          "base_uri": "https://localhost:8080/"
        },
        "id": "mK25ZB8QTkVO",
        "outputId": "c625acd9-cb27-4a1d-e735-42690b4db195"
      },
      "execution_count": 30,
      "outputs": [
        {
          "name": "stdout",
          "output_type": "stream",
          "text": [
            "radio30\n"
          ]
        }
      ]
    },
    {
      "cell_type": "markdown",
      "source": [
        "6. Use the built-in input function to get first name, last name, country and age from a user and store the value to their corresponding variable names"
      ],
      "metadata": {
        "id": "JELT_1JilV46"
      }
    },
    {
      "cell_type": "code",
      "source": [
        "first_name = input('Nombre: ') \n",
        "last_name = input('Apellido: ') \n",
        "country = input('Pais: ')\n",
        "age = input('Edad: ')"
      ],
      "metadata": {
        "colab": {
          "base_uri": "https://localhost:8080/"
        },
        "id": "anmWT4o1lx02",
        "outputId": "cc223c66-6803-4aa9-cf44-9d1831c384c6"
      },
      "execution_count": 25,
      "outputs": [
        {
          "name": "stdout",
          "output_type": "stream",
          "text": [
            "Nombre: Hermes\n",
            "Apellido: Villarreal\n",
            "Pais: Panama\n",
            "Edad: 45\n"
          ]
        }
      ]
    },
    {
      "cell_type": "markdown",
      "source": [
        "7. Run help('keywords') in Python shell or in your file to check for the Python reserved words or keywords"
      ],
      "metadata": {
        "id": "KetSLE7aX7jB"
      }
    },
    {
      "cell_type": "code",
      "source": [
        "help('keywords')"
      ],
      "metadata": {
        "colab": {
          "base_uri": "https://localhost:8080/"
        },
        "id": "vcQLq8JvX9gO",
        "outputId": "23c75dc6-29bb-4195-97e6-7d04ae4d02b1"
      },
      "execution_count": 26,
      "outputs": [
        {
          "output_type": "stream",
          "name": "stdout",
          "text": [
            "\n",
            "Here is a list of the Python keywords.  Enter any keyword to get more help.\n",
            "\n",
            "False               class               from                or\n",
            "None                continue            global              pass\n",
            "True                def                 if                  raise\n",
            "and                 del                 import              return\n",
            "as                  elif                in                  try\n",
            "assert              else                is                  while\n",
            "async               except              lambda              with\n",
            "await               finally             nonlocal            yield\n",
            "break               for                 not                 \n",
            "\n"
          ]
        }
      ]
    }
  ]
}