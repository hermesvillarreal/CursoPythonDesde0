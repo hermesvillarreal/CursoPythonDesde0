{
  "nbformat": 4,
  "nbformat_minor": 0,
  "metadata": {
    "colab": {
      "provenance": [],
      "collapsed_sections": [],
      "authorship_tag": "ABX9TyN/dePG0uLhTmXXzKWjUH2C",
      "include_colab_link": true
    },
    "kernelspec": {
      "name": "python3",
      "display_name": "Python 3"
    },
    "language_info": {
      "name": "python"
    }
  },
  "cells": [
    {
      "cell_type": "markdown",
      "metadata": {
        "id": "view-in-github",
        "colab_type": "text"
      },
      "source": [
        "<a href=\"https://colab.research.google.com/github/hermesvillarreal/CursoPythonDesde0/blob/main/day_13_list_comprehension.ipynb\" target=\"_parent\"><img src=\"https://colab.research.google.com/assets/colab-badge.svg\" alt=\"Open In Colab\"/></a>"
      ]
    },
    {
      "cell_type": "markdown",
      "source": [
        "# 💻 Exercises: Day 13"
      ],
      "metadata": {
        "id": "31w17HL2HZe8"
      }
    },
    {
      "cell_type": "markdown",
      "source": [
        "1. Filter only negative and zero in the list using list comprehension\n",
        "   ```py\n",
        "   numbers = [-4, -3, -2, -1, 0, 2, 4, 6]\n",
        "   ```"
      ],
      "metadata": {
        "id": "tBT2E21sHbZ0"
      }
    },
    {
      "cell_type": "code",
      "source": [
        "numbers = [-4, -3, -2, -1, 0, 2, 4, 6]\n",
        "\n",
        "print([n for n in numbers if n > 0])"
      ],
      "metadata": {
        "colab": {
          "base_uri": "https://localhost:8080/"
        },
        "id": "Jd4J7l-VIfmB",
        "outputId": "42e9c186-dd47-4a11-f241-d5d9839ab09c"
      },
      "execution_count": 43,
      "outputs": [
        {
          "output_type": "stream",
          "name": "stdout",
          "text": [
            "[2, 4, 6]\n"
          ]
        }
      ]
    },
    {
      "cell_type": "markdown",
      "source": [
        "2. Flatten the following list of lists of lists to a one dimensional list :\n",
        "\n",
        "   ```py\n",
        "   list_of_lists =[[[1, 2, 3]], [[4, 5, 6]], [[7, 8, 9]]]\n",
        "   output\n",
        "   [1, 2, 3, 4, 5, 6, 7, 8, 9]\n",
        "   ```\n",
        "\n"
      ],
      "metadata": {
        "id": "ah8p_cK8Htaq"
      }
    },
    {
      "cell_type": "code",
      "source": [
        "list_of_lists =[[[1, 2, 3]], [[4, 5, 6]], [[7, 8, 9]]]\n",
        "\n",
        "print([n for cubo in list_of_lists for row in cubo for n in row])"
      ],
      "metadata": {
        "colab": {
          "base_uri": "https://localhost:8080/"
        },
        "id": "egsLH6WVIEKr",
        "outputId": "52712eb7-ee80-4623-e3a6-a30292dd2824"
      },
      "execution_count": 44,
      "outputs": [
        {
          "output_type": "stream",
          "name": "stdout",
          "text": [
            "[1, 2, 3, 4, 5, 6, 7, 8, 9]\n"
          ]
        }
      ]
    },
    {
      "cell_type": "markdown",
      "source": [
        "3. Using list comprehension create the following list of tuples:\n",
        "   ```py\n",
        "   [(0, 1, 0, 0, 0, 0, 0),\n",
        "   (1, 1, 1, 1, 1, 1, 1),\n",
        "   (2, 1, 2, 4, 8, 16, 32),\n",
        "   (3, 1, 3, 9, 27, 81, 243),\n",
        "   (4, 1, 4, 16, 64, 256, 1024),\n",
        "   (5, 1, 5, 25, 125, 625, 3125),\n",
        "   (6, 1, 6, 36, 216, 1296, 7776),\n",
        "   (7, 1, 7, 49, 343, 2401, 16807),\n",
        "   (8, 1, 8, 64, 512, 4096, 32768),\n",
        "   (9, 1, 9, 81, 729, 6561, 59049),\n",
        "   (10, 1, 10, 100, 1000, 10000, 100000)]\n",
        "   ```\n"
      ],
      "metadata": {
        "id": "milgcimyHwva"
      }
    },
    {
      "cell_type": "code",
      "source": [
        "print([(n , n**0, n**1, n**2, n**3, n**4, n**5) for n in range(11)])"
      ],
      "metadata": {
        "colab": {
          "base_uri": "https://localhost:8080/"
        },
        "id": "vm_Aon0eIDhn",
        "outputId": "caca3132-320e-4014-d0cf-1a5ef1d5c8b4"
      },
      "execution_count": 42,
      "outputs": [
        {
          "output_type": "stream",
          "name": "stdout",
          "text": [
            "[(0, 1, 0, 0, 0, 0, 0), (1, 1, 1, 1, 1, 1, 1), (2, 1, 2, 4, 8, 16, 32), (3, 1, 3, 9, 27, 81, 243), (4, 1, 4, 16, 64, 256, 1024), (5, 1, 5, 25, 125, 625, 3125), (6, 1, 6, 36, 216, 1296, 7776), (7, 1, 7, 49, 343, 2401, 16807), (8, 1, 8, 64, 512, 4096, 32768), (9, 1, 9, 81, 729, 6561, 59049), (10, 1, 10, 100, 1000, 10000, 100000)]\n"
          ]
        }
      ]
    },
    {
      "cell_type": "markdown",
      "source": [
        "4. Flatten the following list to a new list:\n",
        "   ```py\n",
        "   countries = [[('Finland', 'Helsinki')], [('Sweden', 'Stockholm')], [('Norway', 'Oslo')]]\n",
        "   output:\n",
        "   [['FINLAND','FIN', 'HELSINKI'], ['SWEDEN', 'SWE', 'STOCKHOLM'], ['NORWAY', 'NOR', 'OSLO']]\n",
        "   ```\n"
      ],
      "metadata": {
        "id": "DydYosK-H0RL"
      }
    },
    {
      "cell_type": "code",
      "source": [
        "countries = [[('Finland', 'Helsinki')], [('Sweden', 'Stockholm')], [('Norway', 'Oslo')]]\n",
        "print([[tupla[0].upper(), tupla[0][:3].upper(), tupla[1].upper()] for lista in countries for tupla in lista])"
      ],
      "metadata": {
        "colab": {
          "base_uri": "https://localhost:8080/"
        },
        "id": "5ay7IRjIIC4j",
        "outputId": "2f48fbeb-6ed6-4265-bc9e-1a17001563db"
      },
      "execution_count": 64,
      "outputs": [
        {
          "output_type": "stream",
          "name": "stdout",
          "text": [
            "[['FINLAND', 'FIN', 'HELSINKI'], ['SWEDEN', 'SWE', 'STOCKHOLM'], ['NORWAY', 'NOR', 'OSLO']]\n"
          ]
        }
      ]
    },
    {
      "cell_type": "markdown",
      "source": [
        "5. Change the following list to a list of dictionaries:\n",
        "   ```py\n",
        "   countries = [[('Finland', 'Helsinki')], [('Sweden', 'Stockholm')], [('Norway', 'Oslo')]]\n",
        "   output:\n",
        "   [{'country': 'FINLAND', 'city': 'HELSINKI'},\n",
        "   {'country': 'SWEDEN', 'city': 'STOCKHOLM'},\n",
        "   {'country': 'NORWAY', 'city': 'OSLO'}]\n",
        "   ```\n"
      ],
      "metadata": {
        "id": "sD3adJQRH4Mr"
      }
    },
    {
      "cell_type": "code",
      "source": [
        "countries = [[('Finland', 'Helsinki')], [('Sweden', 'Stockholm')], [('Norway', 'Oslo')]]\n",
        "print([{'country': tupla[0].upper(), 'city': tupla[1].upper()} for lista in countries for tupla in lista])"
      ],
      "metadata": {
        "colab": {
          "base_uri": "https://localhost:8080/"
        },
        "id": "zmVSuU2NICG6",
        "outputId": "1002ce22-206d-49ff-c63a-1eb644319854"
      },
      "execution_count": 69,
      "outputs": [
        {
          "output_type": "stream",
          "name": "stdout",
          "text": [
            "[{'country': 'FINLAND', 'city': 'HELSINKI'}, {'country': 'SWEDEN', 'city': 'STOCKHOLM'}, {'country': 'NORWAY', 'city': 'OSLO'}]\n"
          ]
        }
      ]
    },
    {
      "cell_type": "markdown",
      "source": [
        "6. Change the following list of lists to a list of concatenated strings:\n",
        "   ```py\n",
        "   names = [[('Asabeneh', 'Yetayeh')], [('David', 'Smith')], [('Donald', 'Trump')], [('Bill', 'Gates')]]\n",
        "   output\n",
        "   ['Asabeneh Yetaeyeh', 'David Smith', 'Donald Trump', 'Bill Gates']\n",
        "   ```\n"
      ],
      "metadata": {
        "id": "_UQKsFxJH7hL"
      }
    },
    {
      "cell_type": "code",
      "source": [
        "names = [[('Asabeneh', 'Yetayeh')], [('David', 'Smith')], [('Donald', 'Trump')], [('Bill', 'Gates')]]\n",
        "print([f'{tupla[0]} {tupla[1]}' for lista in names for tupla in lista])"
      ],
      "metadata": {
        "colab": {
          "base_uri": "https://localhost:8080/"
        },
        "id": "Tj_nDmBOIBiu",
        "outputId": "ea571c20-fe08-44f7-d918-cccb170a2988"
      },
      "execution_count": 70,
      "outputs": [
        {
          "output_type": "stream",
          "name": "stdout",
          "text": [
            "['Asabeneh Yetayeh', 'David Smith', 'Donald Trump', 'Bill Gates']\n"
          ]
        }
      ]
    },
    {
      "cell_type": "markdown",
      "source": [
        "7. Write a lambda function which can solve a slope or y-intercept of linear functions.\n"
      ],
      "metadata": {
        "id": "TyGL8oUKH-Yw"
      }
    },
    {
      "cell_type": "code",
      "source": [
        "slope = lambda x, y: (y[1] - x[1])/(y[0] - x[0])\n",
        "y_intercept = lambda x, y: x[1] - slope(x, y) * x[0]\n",
        "e_lineal = lambda x, y: f'Y = {slope(x,y):.2f}X + {y_intercept(x,y)}'\n",
        "\n",
        "print(e_lineal((0,-2),(1,0)))\n"
      ],
      "metadata": {
        "colab": {
          "base_uri": "https://localhost:8080/"
        },
        "id": "lt6ruadRH_0_",
        "outputId": "88290517-1e82-4ff6-b834-6d19d707b0d3"
      },
      "execution_count": 86,
      "outputs": [
        {
          "output_type": "stream",
          "name": "stdout",
          "text": [
            "Y = 2.00X + -2.0\n"
          ]
        }
      ]
    }
  ]
}