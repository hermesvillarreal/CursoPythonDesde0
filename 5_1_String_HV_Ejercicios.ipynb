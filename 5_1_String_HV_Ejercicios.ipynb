{
  "nbformat": 4,
  "nbformat_minor": 0,
  "metadata": {
    "colab": {
      "provenance": [],
      "include_colab_link": true
    },
    "kernelspec": {
      "name": "python3",
      "display_name": "Python 3"
    },
    "language_info": {
      "name": "python"
    }
  },
  "cells": [
    {
      "cell_type": "markdown",
      "metadata": {
        "id": "view-in-github",
        "colab_type": "text"
      },
      "source": [
        "<a href=\"https://colab.research.google.com/github/hermesvillarreal/CursoPythonDesde0/blob/main/5_1_String_HV_Ejercicios.ipynb\" target=\"_parent\"><img src=\"https://colab.research.google.com/assets/colab-badge.svg\" alt=\"Open In Colab\"/></a>"
      ]
    },
    {
      "cell_type": "markdown",
      "source": [
        "# Python Desde Cero 🐍\n",
        "\n",
        "Pyladies Panamá 🌻\n",
        "\n",
        "2022\n",
        "\n",
        "\n",
        "---\n",
        "\n",
        "Day 3 - PythonDesdeCero Challenge\n",
        "* Sábado 03/Septiembre/2022\n",
        "\n",
        "\n",
        "---\n",
        "Autor: Asabeneh \n",
        "\n",
        "Referencia: https://github.com/Asabeneh/30-Days-Of-Python/blob/master/04_Day_Strings/04_strings.md\n"
      ],
      "metadata": {
        "id": "5k4E3v5YNrIe"
      }
    },
    {
      "cell_type": "markdown",
      "source": [
        "# Ejercicio #1\n",
        "Concatene la cadena: 'Thirty', 'Days', 'Of', 'Python' en una sola cadena.\n",
        "\n",
        "Resultado esperado: 'Thirty Days Of Python'.\n"
      ],
      "metadata": {
        "id": "G8fz24IWN7mc"
      }
    },
    {
      "cell_type": "code",
      "source": [
        "lista = ['Thirty', 'Days', 'Of', 'Python']\n",
        "\n",
        "print(' '.join(lista))\n"
      ],
      "metadata": {
        "id": "PFempzqFNq4a",
        "colab": {
          "base_uri": "https://localhost:8080/"
        },
        "outputId": "f1311b3e-7bd1-491b-ce5c-cf34209b6473"
      },
      "execution_count": 11,
      "outputs": [
        {
          "output_type": "stream",
          "name": "stdout",
          "text": [
            "Thirty Days Of Python\n"
          ]
        }
      ]
    },
    {
      "cell_type": "markdown",
      "source": [
        "\n",
        "# Ejercicio #2\n",
        "Concatena la siguientes cadenas 'Coding', 'For' , 'All' a una sola cadena.\n",
        "\n",
        "Resultado esperado: 'Coding For All'.\n"
      ],
      "metadata": {
        "id": "r0gmfhSHOPrr"
      }
    },
    {
      "cell_type": "code",
      "execution_count": 17,
      "metadata": {
        "id": "6WmrZ2fWNkcV",
        "colab": {
          "base_uri": "https://localhost:8080/"
        },
        "outputId": "c5a7a1f3-b170-4640-8620-3376dcff9a2a"
      },
      "outputs": [
        {
          "output_type": "stream",
          "name": "stdout",
          "text": [
            "Coding For All\n"
          ]
        }
      ],
      "source": [
        "lista = [ 'Coding', 'For' , 'All' ]\n",
        "\n",
        "print(' '.join(lista))"
      ]
    },
    {
      "cell_type": "markdown",
      "source": [
        "\n",
        "# Ejercicio #3\n",
        "Declare una variable llamada company y asígnele como valor inicial:  \"Coding For All\".\n"
      ],
      "metadata": {
        "id": "jrSjQbLTOSN8"
      }
    },
    {
      "cell_type": "code",
      "source": [
        "company = \"Coding For All\""
      ],
      "metadata": {
        "id": "SDM0prnNOVKF"
      },
      "execution_count": 31,
      "outputs": []
    },
    {
      "cell_type": "markdown",
      "source": [
        "\n",
        "# Ejercicio #4\n",
        "Imprima la variable company con la función print().\n"
      ],
      "metadata": {
        "id": "VYFUE6Z3OVio"
      }
    },
    {
      "cell_type": "code",
      "source": [
        "print(company)"
      ],
      "metadata": {
        "id": "Xi3CkFRpOXfF",
        "colab": {
          "base_uri": "https://localhost:8080/"
        },
        "outputId": "244ed504-71c8-4cc2-f934-96707af6fcb3"
      },
      "execution_count": 30,
      "outputs": [
        {
          "output_type": "stream",
          "name": "stdout",
          "text": [
            "coding for all\n"
          ]
        }
      ]
    },
    {
      "cell_type": "markdown",
      "source": [
        "# Ejercicio #5\n",
        "Imprima el tamaño de la variable company usando los métodos / funciones len() y print().\n"
      ],
      "metadata": {
        "id": "zHn62dwGOX1D"
      }
    },
    {
      "cell_type": "code",
      "source": [
        "print(len(company))"
      ],
      "metadata": {
        "id": "wU-iAFVZObCm",
        "colab": {
          "base_uri": "https://localhost:8080/"
        },
        "outputId": "deb3a499-bdc6-4e54-97a7-c52b5bfbb826"
      },
      "execution_count": 20,
      "outputs": [
        {
          "output_type": "stream",
          "name": "stdout",
          "text": [
            "14\n"
          ]
        }
      ]
    },
    {
      "cell_type": "markdown",
      "source": [
        "# Ejercicio #6\n",
        "Cambie todos los caracteres a letras mayúsculas usando la función upper()\n"
      ],
      "metadata": {
        "id": "trHPqUhaOamy"
      }
    },
    {
      "cell_type": "code",
      "source": [
        "print(company.upper())"
      ],
      "metadata": {
        "id": "tR7OtTpxOeJW",
        "colab": {
          "base_uri": "https://localhost:8080/"
        },
        "outputId": "dddeca51-abbf-4361-f4c8-f87198dfe777"
      },
      "execution_count": 33,
      "outputs": [
        {
          "output_type": "stream",
          "name": "stdout",
          "text": [
            "CODING FOR ALL\n"
          ]
        }
      ]
    },
    {
      "cell_type": "markdown",
      "source": [
        "\n",
        "# Ejercicio #7\n",
        "Cambie todos los carateres a letras minúsculas usando la función lower()"
      ],
      "metadata": {
        "id": "3cAvlreEOenO"
      }
    },
    {
      "cell_type": "code",
      "source": [
        "print(company.lower())"
      ],
      "metadata": {
        "id": "A7djNEaIOgxX",
        "colab": {
          "base_uri": "https://localhost:8080/",
          "height": 36
        },
        "outputId": "5133bb3d-7c93-43f0-aa3c-3105f95fad44"
      },
      "execution_count": 27,
      "outputs": [
        {
          "output_type": "execute_result",
          "data": {
            "text/plain": [
              "'coding for all'"
            ],
            "application/vnd.google.colaboratory.intrinsic+json": {
              "type": "string"
            }
          },
          "metadata": {},
          "execution_count": 27
        }
      ]
    },
    {
      "cell_type": "markdown",
      "source": [
        "\n",
        "# Ejercicio #8\n",
        "Use las funciones: capitalize(), title(), swapcase(), para la cadena: \"Coding For All\". \n"
      ],
      "metadata": {
        "id": "QdvgLuXFOg8G"
      }
    },
    {
      "cell_type": "code",
      "source": [
        "print(company.capitalize())\n",
        "print(company.title())\n",
        "print(company.swapcase())"
      ],
      "metadata": {
        "id": "qxVPmSE1OiZJ",
        "colab": {
          "base_uri": "https://localhost:8080/"
        },
        "outputId": "5b97725f-2ea0-4c80-aca9-e6f4565824a2"
      },
      "execution_count": 32,
      "outputs": [
        {
          "output_type": "stream",
          "name": "stdout",
          "text": [
            "Coding for all\n",
            "Coding For All\n",
            "cODING fOR aLL\n"
          ]
        }
      ]
    },
    {
      "cell_type": "markdown",
      "source": [
        "\n",
        "# Ejercicio #9\n",
        "Reemplace la palabra \"Coding\" en la cadena 'Coding For All' a Python.\n"
      ],
      "metadata": {
        "id": "F3ZJqTILOiot"
      }
    },
    {
      "cell_type": "code",
      "source": [
        "print(company.replace('Coding', 'Python'))"
      ],
      "metadata": {
        "id": "sIdc27O0Okcz",
        "colab": {
          "base_uri": "https://localhost:8080/"
        },
        "outputId": "c5f460f3-5796-45fc-99c3-f782681b3fe5"
      },
      "execution_count": 36,
      "outputs": [
        {
          "output_type": "stream",
          "name": "stdout",
          "text": [
            "Python For All\n"
          ]
        }
      ]
    },
    {
      "cell_type": "markdown",
      "source": [
        "\n",
        "# Ejercicio #10\n",
        "\n",
        "Valida si la cadena \"Coding For All\" contiene una palabra Coding usando el método index o otros métodos."
      ],
      "metadata": {
        "id": "bTlQGxRROkvD"
      }
    },
    {
      "cell_type": "code",
      "source": [
        "if(company.find('Python') >= 1):\n",
        "  print('No lo contiene')\n",
        "else:\n",
        "  print('Lo contiene')"
      ],
      "metadata": {
        "id": "ceabOGnTQnlQ",
        "colab": {
          "base_uri": "https://localhost:8080/"
        },
        "outputId": "69ac3a24-63fd-4a74-97a3-eb6b30f6aaac"
      },
      "execution_count": 40,
      "outputs": [
        {
          "output_type": "stream",
          "name": "stdout",
          "text": [
            "Lo contiene\n"
          ]
        }
      ]
    }
  ]
}