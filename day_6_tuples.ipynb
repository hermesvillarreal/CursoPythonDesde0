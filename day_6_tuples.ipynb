{
  "nbformat": 4,
  "nbformat_minor": 0,
  "metadata": {
    "colab": {
      "provenance": [],
      "authorship_tag": "ABX9TyOsvZRmzz7ofm15neLJNmXg",
      "include_colab_link": true
    },
    "kernelspec": {
      "name": "python3",
      "display_name": "Python 3"
    },
    "language_info": {
      "name": "python"
    }
  },
  "cells": [
    {
      "cell_type": "markdown",
      "metadata": {
        "id": "view-in-github",
        "colab_type": "text"
      },
      "source": [
        "<a href=\"https://colab.research.google.com/github/hermesvillarreal/30-Days-Of-Python-master/blob/main/06_Day_Tuples/day_6_tuples.ipynb\" target=\"_parent\"><img src=\"https://colab.research.google.com/assets/colab-badge.svg\" alt=\"Open In Colab\"/></a>"
      ]
    },
    {
      "cell_type": "markdown",
      "source": [
        "# Ejercicios: Nivel 1\n"
      ],
      "metadata": {
        "id": "YfACl87O7Hna"
      }
    },
    {
      "cell_type": "markdown",
      "source": [
        "1. Crear una tupla vacía"
      ],
      "metadata": {
        "id": "hcTiu2D07Nm5"
      }
    },
    {
      "cell_type": "code",
      "execution_count": 24,
      "metadata": {
        "id": "5mNF9sTGzKDx"
      },
      "outputs": [],
      "source": [
        "# metodo 1\n",
        "tpl = ()"
      ]
    },
    {
      "cell_type": "code",
      "source": [
        "# metodo 2\n",
        "tpl = tuple()"
      ],
      "metadata": {
        "id": "e3j71FNi7zK8"
      },
      "execution_count": 25,
      "outputs": []
    },
    {
      "cell_type": "markdown",
      "source": [
        "2. Crea una tupla que contenga los nombres de tus hermanas y tus hermanos (los hermanos imaginarios están bien)"
      ],
      "metadata": {
        "id": "t4BKQzTo7Ql_"
      }
    },
    {
      "cell_type": "code",
      "source": [
        "tpl_brothers = ('Felix', 'Gabriel', 'Raziel')\n",
        "tpl_sisters = ('Sarah', 'Moon', 'Clotilde')"
      ],
      "metadata": {
        "id": "hispjvZ77_El"
      },
      "execution_count": 26,
      "outputs": []
    },
    {
      "cell_type": "markdown",
      "source": [
        "3. Unir tuplas de hermanos y hermanas y asignarlas a hermanos\n"
      ],
      "metadata": {
        "id": "hQaEgrnp7VtR"
      }
    },
    {
      "cell_type": "code",
      "source": [
        "tpl_siblings = tpl_brothers + tpl_sisters\n",
        "print(tpl_siblings)"
      ],
      "metadata": {
        "colab": {
          "base_uri": "https://localhost:8080/"
        },
        "id": "I2yy9IV38x58",
        "outputId": "00be8a61-98bc-450f-d6ef-80b55276b6ac"
      },
      "execution_count": 27,
      "outputs": [
        {
          "output_type": "stream",
          "name": "stdout",
          "text": [
            "('Felix', 'Gabriel', 'Raziel', 'Sarah', 'Moon', 'Clotilde')\n"
          ]
        }
      ]
    },
    {
      "cell_type": "markdown",
      "source": [
        "4. ¿Cuántos hermanos tiene usted?"
      ],
      "metadata": {
        "id": "46zu7GOV7eH6"
      }
    },
    {
      "cell_type": "code",
      "source": [
        "print(len(tpl_siblings))"
      ],
      "metadata": {
        "colab": {
          "base_uri": "https://localhost:8080/"
        },
        "id": "ei_70aXi8-H5",
        "outputId": "587bb8c4-55da-469f-ce55-39563c971a2c"
      },
      "execution_count": 28,
      "outputs": [
        {
          "output_type": "stream",
          "name": "stdout",
          "text": [
            "6\n"
          ]
        }
      ]
    },
    {
      "cell_type": "markdown",
      "source": [
        "5. Modifique la tupla de hermanos y agregue el nombre de su padre y madre y asígnelo a family_members"
      ],
      "metadata": {
        "id": "pwL-Q12Z7a3y"
      }
    },
    {
      "cell_type": "code",
      "execution_count": 30,
      "metadata": {
        "colab": {
          "base_uri": "https://localhost:8080/"
        },
        "id": "AZzt2HZ-5tps",
        "outputId": "8c76b0dd-d550-40a2-b175-1a34a30e3b67"
      },
      "outputs": [
        {
          "output_type": "stream",
          "name": "stdout",
          "text": [
            "('Felix', 'Gabriel', 'Raziel', 'Sarah', 'Moon', 'Clotilde', 'Hermes', 'Kathia')\n"
          ]
        }
      ],
      "source": [
        "lst_siblings = list(tpl_siblings)\n",
        "lst_siblings.extend(['Hermes', 'Kathia'])\n",
        "\n",
        "family_members = tuple(lst_siblings)\n",
        "print(family_members)"
      ]
    },
    {
      "cell_type": "markdown",
      "source": [
        "# Ejercicios: Nivel 2\n"
      ],
      "metadata": {
        "id": "FgnKCbvZ-S1p"
      }
    },
    {
      "cell_type": "markdown",
      "source": [
        "1. Desempaquetar hermanos y padres de family_members\n"
      ],
      "metadata": {
        "id": "amJEf6gX-eIV"
      }
    },
    {
      "cell_type": "code",
      "source": [
        "tpl_siblings = family_members[:-2]\n",
        "tpl_parents = family_members[-2:]\n",
        "print(tpl_siblings)\n",
        "print(tpl_parents)"
      ],
      "metadata": {
        "colab": {
          "base_uri": "https://localhost:8080/"
        },
        "id": "lhvygjht_nq6",
        "outputId": "b5ae2592-1466-4f48-91e5-01b71fc2acc7"
      },
      "execution_count": 33,
      "outputs": [
        {
          "output_type": "stream",
          "name": "stdout",
          "text": [
            "('Felix', 'Gabriel', 'Raziel', 'Sarah', 'Moon', 'Clotilde')\n",
            "('Hermes', 'Kathia')\n"
          ]
        }
      ]
    },
    {
      "cell_type": "markdown",
      "source": [
        "2. Cree tuplas de frutas, verduras y productos animales. Une las tres tuplas y asígnalas a una variable llamada food_stuff_tp."
      ],
      "metadata": {
        "id": "H5uTgkW7-iWU"
      }
    },
    {
      "cell_type": "code",
      "source": [
        "fruits_tp = ('Mango', 'Piña', 'Mamon')\n",
        "vegetables_tp = ('Tomate', 'Pepino', 'Apio')\n",
        "animal_products_tp = ('Carne', 'Leche', 'Queso')\n",
        "\n",
        "food_stuff_tp = fruits_tp + vegetables_tp + animal_products_tp\n",
        "print(food_stuff_tp)"
      ],
      "metadata": {
        "colab": {
          "base_uri": "https://localhost:8080/"
        },
        "id": "-h7RgtzrAeXQ",
        "outputId": "20e981da-0034-45ca-cff2-19b057ee6fc1"
      },
      "execution_count": 34,
      "outputs": [
        {
          "output_type": "stream",
          "name": "stdout",
          "text": [
            "('Mango', 'Piña', 'Mamon', 'Tomate', 'Pepino', 'Apio', 'Carne', 'Leche', 'Queso')\n"
          ]
        }
      ]
    },
    {
      "cell_type": "markdown",
      "source": [
        "3. Cambie la tupla about food_stuff_tp a una lista food_stuff_lt\n"
      ],
      "metadata": {
        "id": "Q6UDnKBa-l5v"
      }
    },
    {
      "cell_type": "code",
      "source": [
        "food_stuff_lt = list(food_stuff_tp)\n",
        "print(food_stuff_lt)"
      ],
      "metadata": {
        "colab": {
          "base_uri": "https://localhost:8080/"
        },
        "id": "VGi5F3TlBSk-",
        "outputId": "872d6e1d-b6fa-4439-ece8-d2a959e41c8b"
      },
      "execution_count": 35,
      "outputs": [
        {
          "output_type": "stream",
          "name": "stdout",
          "text": [
            "['Mango', 'Piña', 'Mamon', 'Tomate', 'Pepino', 'Apio', 'Carne', 'Leche', 'Queso']\n"
          ]
        }
      ]
    },
    {
      "cell_type": "markdown",
      "source": [
        "4. Rebane el artículo o artículos del medio de la tupla food_stuff_tp o la lista food_stuff_lt."
      ],
      "metadata": {
        "id": "QP5j8dUy_DxK"
      }
    },
    {
      "cell_type": "code",
      "source": [
        "print(food_stuff_tp[1:-1])"
      ],
      "metadata": {
        "colab": {
          "base_uri": "https://localhost:8080/"
        },
        "id": "QwAg_eGyBcmB",
        "outputId": "286b449b-85a9-4909-d7e7-cb0706a1d1d5"
      },
      "execution_count": 39,
      "outputs": [
        {
          "output_type": "stream",
          "name": "stdout",
          "text": [
            "('Piña', 'Mamon', 'Tomate', 'Pepino', 'Apio', 'Carne', 'Leche')\n"
          ]
        }
      ]
    },
    {
      "cell_type": "markdown",
      "source": [
        "5. Cortar los primeros tres elementos y los últimos tres elementos de la lista food_staff_lt"
      ],
      "metadata": {
        "id": "E-OX0RLM_D-p"
      }
    },
    {
      "cell_type": "code",
      "source": [
        "print(food_stuff_tp[:3])\n",
        "print(food_stuff_tp[-3:])"
      ],
      "metadata": {
        "colab": {
          "base_uri": "https://localhost:8080/"
        },
        "id": "pd_z8iVfCRef",
        "outputId": "83e5fc6a-cf2b-44b2-bdb4-a248893d6ac0"
      },
      "execution_count": 37,
      "outputs": [
        {
          "output_type": "stream",
          "name": "stdout",
          "text": [
            "('Mango', 'Piña', 'Mamon')\n",
            "('Carne', 'Leche', 'Queso')\n"
          ]
        }
      ]
    },
    {
      "cell_type": "markdown",
      "source": [
        "6. Eliminar completamente la tupla food_staff_tp\n"
      ],
      "metadata": {
        "id": "_eUEpVp0_EKD"
      }
    },
    {
      "cell_type": "code",
      "source": [
        "del food_stuff_tp"
      ],
      "metadata": {
        "id": "HxQfYC1rCotw"
      },
      "execution_count": 40,
      "outputs": []
    },
    {
      "cell_type": "markdown",
      "source": [
        "7. Compruebe si existe un elemento en la tupla:\n",
        "* Comprobar si 'Estonia' es un país nórdico\n",
        "* Comprobar si 'Islandia' es un país nórdico\n",
        "```\n",
        "nordic_countries = ('Denmark', 'Finland','Iceland', 'Norway', 'Sweden')\n",
        "```"
      ],
      "metadata": {
        "id": "BE4wm0VW_EVV"
      }
    },
    {
      "cell_type": "code",
      "source": [
        "nordic_countries = ('Denmark', 'Finland','Iceland', 'Norway', 'Sweden')"
      ],
      "metadata": {
        "id": "olJzrbvSDA8P"
      },
      "execution_count": 41,
      "outputs": []
    },
    {
      "cell_type": "code",
      "source": [
        "'Estonian' in nordic_countries"
      ],
      "metadata": {
        "colab": {
          "base_uri": "https://localhost:8080/"
        },
        "id": "cO4rTYRhDLtA",
        "outputId": "8505bdbf-5d81-4179-86f7-46898c249b99"
      },
      "execution_count": 42,
      "outputs": [
        {
          "output_type": "execute_result",
          "data": {
            "text/plain": [
              "False"
            ]
          },
          "metadata": {},
          "execution_count": 42
        }
      ]
    },
    {
      "cell_type": "code",
      "source": [
        "'Iceland' in nordic_countries"
      ],
      "metadata": {
        "colab": {
          "base_uri": "https://localhost:8080/"
        },
        "id": "A98lBDNqDT0h",
        "outputId": "b05ee625-f017-455c-ae0f-5b01fffe9ee2"
      },
      "execution_count": 43,
      "outputs": [
        {
          "output_type": "execute_result",
          "data": {
            "text/plain": [
              "True"
            ]
          },
          "metadata": {},
          "execution_count": 43
        }
      ]
    }
  ]
}