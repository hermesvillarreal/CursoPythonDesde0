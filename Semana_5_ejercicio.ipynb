{
  "nbformat": 4,
  "nbformat_minor": 0,
  "metadata": {
    "colab": {
      "provenance": [],
      "authorship_tag": "ABX9TyOs38JSG5vhSDJWcYqvtR2z",
      "include_colab_link": true
    },
    "kernelspec": {
      "name": "python3",
      "display_name": "Python 3"
    },
    "language_info": {
      "name": "python"
    }
  },
  "cells": [
    {
      "cell_type": "markdown",
      "metadata": {
        "id": "view-in-github",
        "colab_type": "text"
      },
      "source": [
        "<a href=\"https://colab.research.google.com/github/hermesvillarreal/CursoPythonDesde0/blob/main/Semana_5_ejercicio.ipynb\" target=\"_parent\"><img src=\"https://colab.research.google.com/assets/colab-badge.svg\" alt=\"Open In Colab\"/></a>"
      ]
    },
    {
      "cell_type": "markdown",
      "source": [
        "ejercicio 1"
      ],
      "metadata": {
        "id": "Dq2054v6W39M"
      }
    },
    {
      "cell_type": "code",
      "execution_count": null,
      "metadata": {
        "colab": {
          "base_uri": "https://localhost:8080/"
        },
        "id": "jM3rHfZWTO5v",
        "outputId": "8b283522-3c9a-41fa-82b1-d97396a0a8ab"
      },
      "outputs": [
        {
          "name": "stdout",
          "output_type": "stream",
          "text": [
            "entre el valor de n: 3\n"
          ]
        }
      ],
      "source": [
        "n = input(\"entre el valor de n: \")\n",
        "n = int(n)"
      ]
    },
    {
      "cell_type": "code",
      "source": [
        "suma = n * (n + 1) / 2 if n > 1 else None"
      ],
      "metadata": {
        "id": "Za-QukERT4fu"
      },
      "execution_count": null,
      "outputs": []
    },
    {
      "cell_type": "code",
      "source": [
        "print (f'{int(suma)} = {n} * ({n} + 1) / 2')"
      ],
      "metadata": {
        "colab": {
          "base_uri": "https://localhost:8080/"
        },
        "id": "UhyGSkr8VzHi",
        "outputId": "58e8b7cf-da5b-4535-cdf4-33f30814f59b"
      },
      "execution_count": 13,
      "outputs": [
        {
          "output_type": "stream",
          "name": "stdout",
          "text": [
            "6 = 3 * (3 + 1) / 2\n"
          ]
        }
      ]
    },
    {
      "cell_type": "markdown",
      "source": [
        "ejercicio 2"
      ],
      "metadata": {
        "id": "CFi-OthFW-uU"
      }
    },
    {
      "cell_type": "code",
      "source": [
        "NOMBRE = input('entre nombre: ')"
      ],
      "metadata": {
        "colab": {
          "base_uri": "https://localhost:8080/"
        },
        "id": "EYYueKSMXBn6",
        "outputId": "248437d4-5def-4d27-add7-25ead26ec108"
      },
      "execution_count": 23,
      "outputs": [
        {
          "name": "stdout",
          "output_type": "stream",
          "text": [
            "entre nombre: Kathia\n"
          ]
        }
      ]
    },
    {
      "cell_type": "code",
      "source": [
        "print (f'el usuario {NOMBRE.upper()} tiene {len(NOMBRE)} letras')"
      ],
      "metadata": {
        "colab": {
          "base_uri": "https://localhost:8080/"
        },
        "id": "SaOSRmqIXlfF",
        "outputId": "2d8431f3-3120-46d0-a53f-8b06a09977a4"
      },
      "execution_count": 24,
      "outputs": [
        {
          "output_type": "stream",
          "name": "stdout",
          "text": [
            "el usuario KATHIA tiene 6 letras\n"
          ]
        }
      ]
    },
    {
      "cell_type": "markdown",
      "source": [
        "ejercicio 3"
      ],
      "metadata": {
        "id": "-D9Mnfn8ZCly"
      }
    },
    {
      "cell_type": "code",
      "source": [
        "phone = input('entre telefono :')"
      ],
      "metadata": {
        "colab": {
          "base_uri": "https://localhost:8080/"
        },
        "id": "AId-i5tQZFhd",
        "outputId": "6147f84d-049b-49dc-a45f-26a741151314"
      },
      "execution_count": 25,
      "outputs": [
        {
          "name": "stdout",
          "output_type": "stream",
          "text": [
            "entre telefono :+507-62225301-01\n"
          ]
        }
      ]
    },
    {
      "cell_type": "code",
      "source": [
        "if phone.count('-') < 2:\n",
        "  print('formato invalido. se espera [codigo de pais]-[telefono]-[extension]')\n",
        "else:\n",
        "  guion1 = phone.find('-')\n",
        "  guion2 = phone.rfind('-')\n",
        "  #print (guion1)\n",
        "  #print (guion2)\n",
        "  print (phone[guion1+1:guion2])"
      ],
      "metadata": {
        "colab": {
          "base_uri": "https://localhost:8080/"
        },
        "id": "03BSj5-WaRec",
        "outputId": "19b791cb-0bc9-4978-94db-bbd045c032a3"
      },
      "execution_count": 33,
      "outputs": [
        {
          "output_type": "stream",
          "name": "stdout",
          "text": [
            "62225301\n"
          ]
        }
      ]
    },
    {
      "cell_type": "markdown",
      "source": [
        "ejercicio 4"
      ],
      "metadata": {
        "id": "pQwIW8GugW7n"
      }
    },
    {
      "cell_type": "code",
      "source": [
        "\n",
        "frase = input ('entre frase: ')"
      ],
      "metadata": {
        "colab": {
          "base_uri": "https://localhost:8080/"
        },
        "id": "ZCaD-J1AgZpw",
        "outputId": "e27a81c3-562d-4e4d-88e5-1572584a1745"
      },
      "execution_count": 36,
      "outputs": [
        {
          "name": "stdout",
          "output_type": "stream",
          "text": [
            "entre frase: El maximo intentó por hoy\n"
          ]
        }
      ]
    },
    {
      "cell_type": "code",
      "source": [
        "print (frase[::-1])"
      ],
      "metadata": {
        "colab": {
          "base_uri": "https://localhost:8080/"
        },
        "id": "ubEdxrLHglAp",
        "outputId": "6087552e-3d7b-41a3-aa93-1879876e6c61"
      },
      "execution_count": 37,
      "outputs": [
        {
          "output_type": "stream",
          "name": "stdout",
          "text": [
            "yoh rop ótnetni omixam lE\n"
          ]
        }
      ]
    },
    {
      "cell_type": "code",
      "source": [
        "cad = frase.split()\n",
        "print (' '.join(cad[::-1]))"
      ],
      "metadata": {
        "colab": {
          "base_uri": "https://localhost:8080/"
        },
        "id": "1eQRIiW0hF-1",
        "outputId": "d61fde73-e8af-449e-83d5-348d9498d542"
      },
      "execution_count": 62,
      "outputs": [
        {
          "output_type": "stream",
          "name": "stdout",
          "text": [
            "hoy por intentó maximo El\n"
          ]
        }
      ]
    }
  ]
}