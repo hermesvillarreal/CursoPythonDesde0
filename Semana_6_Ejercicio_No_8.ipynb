{
  "nbformat": 4,
  "nbformat_minor": 0,
  "metadata": {
    "colab": {
      "provenance": [],
      "authorship_tag": "ABX9TyO8WrcnqhXZzwXsyYejHQMf",
      "include_colab_link": true
    },
    "kernelspec": {
      "name": "python3",
      "display_name": "Python 3"
    },
    "language_info": {
      "name": "python"
    }
  },
  "cells": [
    {
      "cell_type": "markdown",
      "metadata": {
        "id": "view-in-github",
        "colab_type": "text"
      },
      "source": [
        "<a href=\"https://colab.research.google.com/github/hermesvillarreal/CursoPythonDesde0/blob/main/Semana_6_Ejercicio_No_8.ipynb\" target=\"_parent\"><img src=\"https://colab.research.google.com/assets/colab-badge.svg\" alt=\"Open In Colab\"/></a>"
      ]
    },
    {
      "cell_type": "markdown",
      "source": [
        "# Semana 6 - Ejercicio No 8\n",
        "Calculo del IMC\n",
        "                    IMC = peso (Kg) \n",
        "                  -------------------\n",
        "                  estatura * estatura "
      ],
      "metadata": {
        "id": "HsSLuFdG4ICm"
      }
    },
    {
      "cell_type": "code",
      "execution_count": 6,
      "metadata": {
        "colab": {
          "base_uri": "https://localhost:8080/"
        },
        "id": "JWbNodPT2Pec",
        "outputId": "894bc350-47d6-4153-8649-ccbecd7dadc0"
      },
      "outputs": [
        {
          "output_type": "stream",
          "name": "stdout",
          "text": [
            "Entre peso (Kg): 105\n",
            "Entre estatura (mts): 1.75\n",
            "IMC = 34.29\n"
          ]
        }
      ],
      "source": [
        "peso = input(\"Entre peso (Kg): \")\n",
        "peso = float(peso)\n",
        "\n",
        "estatura = input(\"Entre estatura (mts): \")\n",
        "estatura = float(estatura)\n",
        "\n",
        "IMC = peso / estatura ** 2\n",
        "IMC = peso / estatura / estatura\n",
        "IMC = peso / (estatura * estatura)\n",
        "print (f\"IMC = {IMC:.2f}\")"
      ]
    }
  ]
}