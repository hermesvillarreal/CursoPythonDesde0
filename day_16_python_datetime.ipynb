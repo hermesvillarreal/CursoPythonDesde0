{
  "nbformat": 4,
  "nbformat_minor": 0,
  "metadata": {
    "colab": {
      "provenance": [],
      "collapsed_sections": [],
      "authorship_tag": "ABX9TyO7273246aCylK95dCYlc7D",
      "include_colab_link": true
    },
    "kernelspec": {
      "name": "python3",
      "display_name": "Python 3"
    },
    "language_info": {
      "name": "python"
    }
  },
  "cells": [
    {
      "cell_type": "markdown",
      "metadata": {
        "id": "view-in-github",
        "colab_type": "text"
      },
      "source": [
        "<a href=\"https://colab.research.google.com/github/hermesvillarreal/CursoPythonDesde0/blob/main/day_16_python_datetime.ipynb\" target=\"_parent\"><img src=\"https://colab.research.google.com/assets/colab-badge.svg\" alt=\"Open In Colab\"/></a>"
      ]
    },
    {
      "cell_type": "markdown",
      "source": [
        "# Ejercicios: Día 16"
      ],
      "metadata": {
        "id": "Tw9UQhGyS1Fv"
      }
    },
    {
      "cell_type": "markdown",
      "source": [
        "1. Obtenga el día, mes, año, hora, minuto y marca de tiempo actual del módulo de fecha y hora.\n",
        "2. Formatee la fecha actual usando este formato: \"%m/%d/%Y, %H:%M:%S\")\n",
        "3. Hoy es 5 de diciembre de 2019. Cambie esta cadena de tiempo a tiempo.\n",
        "4. Calcula la diferencia horaria entre ahora y el año nuevo.\n",
        "5. Calcula la diferencia horaria entre el 1 de enero de 1970 y ahora.\n",
        "6. Piensa, ¿para qué puedes usar el módulo de fecha y hora? Ejemplos:\n",
        " * Análisis de series temporales\n",
        " * Para obtener una marca de tiempo de cualquier actividad en una aplicación\n",
        "Agregar publicaciones en un blog"
      ],
      "metadata": {
        "id": "reeCkHoVS_7E"
      }
    },
    {
      "cell_type": "code",
      "source": [
        "from datetime import datetime"
      ],
      "metadata": {
        "id": "sx8Pxwk5S-4_"
      },
      "execution_count": 1,
      "outputs": []
    },
    {
      "cell_type": "code",
      "source": [
        "#1\n",
        "ahora = datetime.now()\n",
        "dia, mes, hora, minuto = ahora.day, ahora.month, ahora.hour, ahora.minute\n",
        "print(f'{dia}, {mes}, {hora}, {minuto}')"
      ],
      "metadata": {
        "colab": {
          "base_uri": "https://localhost:8080/"
        },
        "id": "up5t_L8MS7az",
        "outputId": "aec563b2-0dab-40bb-fdd9-1322bf89843e"
      },
      "execution_count": 2,
      "outputs": [
        {
          "output_type": "stream",
          "name": "stdout",
          "text": [
            "4, 10, 2, 14\n"
          ]
        }
      ]
    },
    {
      "cell_type": "code",
      "source": [
        "#2\n",
        "print(ahora.strftime(\"%m/%d/%Y, %H:%M:%S\"))"
      ],
      "metadata": {
        "colab": {
          "base_uri": "https://localhost:8080/"
        },
        "id": "vsnmJ875QQRC",
        "outputId": "543ffe0a-9b16-4062-a5ec-5230408e7374"
      },
      "execution_count": 4,
      "outputs": [
        {
          "output_type": "stream",
          "name": "stdout",
          "text": [
            "10/04/2022, 02:14:33\n"
          ]
        }
      ]
    },
    {
      "cell_type": "code",
      "source": [
        "#3\n",
        "hoyes = datetime(2019, 12, 5)\n",
        "print(hoyes)"
      ],
      "metadata": {
        "colab": {
          "base_uri": "https://localhost:8080/"
        },
        "id": "1NRv2CTUyMp9",
        "outputId": "61e430cd-3c66-4769-94bc-2fce4ee236c5"
      },
      "execution_count": 5,
      "outputs": [
        {
          "output_type": "stream",
          "name": "stdout",
          "text": [
            "2019-12-05 00:00:00\n"
          ]
        }
      ]
    },
    {
      "cell_type": "code",
      "source": [
        "#4 \n",
        "hoyes = datetime.now()\n",
        "nuevoa= datetime(2023,1,1)\n",
        "dif = nuevoa - hoyes\n",
        "print(hoyes, nuevoa, dif)"
      ],
      "metadata": {
        "colab": {
          "base_uri": "https://localhost:8080/"
        },
        "id": "TzsknDN5zDeH",
        "outputId": "8606f0ee-b7f5-4d43-dc9f-4050e86e01f9"
      },
      "execution_count": 8,
      "outputs": [
        {
          "output_type": "stream",
          "name": "stdout",
          "text": [
            "2022-10-04 02:24:01.823903 2023-01-01 00:00:00 88 days, 21:35:58.176097\n"
          ]
        }
      ]
    },
    {
      "cell_type": "code",
      "source": [
        "#5\n",
        "a1970 = datetime(1970,1,1)\n",
        "hoyes = datetime.now()\n",
        "dif = hoyes - a1970\n",
        "print(dif)"
      ],
      "metadata": {
        "colab": {
          "base_uri": "https://localhost:8080/"
        },
        "id": "AGdRD49Oz_Dm",
        "outputId": "712eab8c-5c55-4f06-c660-0829194f01cd"
      },
      "execution_count": 10,
      "outputs": [
        {
          "output_type": "stream",
          "name": "stdout",
          "text": [
            "19269 days, 2:27:35.457130\n"
          ]
        }
      ]
    }
  ]
}