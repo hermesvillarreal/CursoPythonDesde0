{
  "nbformat": 4,
  "nbformat_minor": 0,
  "metadata": {
    "colab": {
      "provenance": [],
      "authorship_tag": "ABX9TyPYHvZS83dlWloklCVZjjtO",
      "include_colab_link": true
    },
    "kernelspec": {
      "name": "python3",
      "display_name": "Python 3"
    },
    "language_info": {
      "name": "python"
    }
  },
  "cells": [
    {
      "cell_type": "markdown",
      "metadata": {
        "id": "view-in-github",
        "colab_type": "text"
      },
      "source": [
        "<a href=\"https://colab.research.google.com/github/hermesvillarreal/30-Days-Of-Python-master/blob/main/day_3.ipynb\" target=\"_parent\"><img src=\"https://colab.research.google.com/assets/colab-badge.svg\" alt=\"Open In Colab\"/></a>"
      ]
    },
    {
      "cell_type": "markdown",
      "source": [
        "# Exercises - Day 3"
      ],
      "metadata": {
        "id": "LjE1iklbcIdQ"
      }
    },
    {
      "cell_type": "markdown",
      "source": [
        "1. Declare your age as integer variable"
      ],
      "metadata": {
        "id": "8mnt-NCcb4UO"
      }
    },
    {
      "cell_type": "code",
      "execution_count": 1,
      "metadata": {
        "id": "S7g6IR9BbRCB"
      },
      "outputs": [],
      "source": [
        "age = 45"
      ]
    },
    {
      "cell_type": "markdown",
      "source": [
        "2. Declare your height as a float variable"
      ],
      "metadata": {
        "id": "_pxVcUUbcCW8"
      }
    },
    {
      "cell_type": "code",
      "source": [
        "altura = 1.65"
      ],
      "metadata": {
        "id": "AOYfSubDcDgE"
      },
      "execution_count": 2,
      "outputs": []
    },
    {
      "cell_type": "markdown",
      "source": [
        "3. Declare a variable that store a complex number"
      ],
      "metadata": {
        "id": "lWUkqs6ccQjK"
      }
    },
    {
      "cell_type": "code",
      "source": [
        "num_complejo = 5j"
      ],
      "metadata": {
        "id": "5COvYouEcjjM"
      },
      "execution_count": 3,
      "outputs": []
    },
    {
      "cell_type": "markdown",
      "source": [
        "4. Write a script that prompts the user to enter base and height of the triangle and calculate an area of this triangle (area = 0.5 x b x h)"
      ],
      "metadata": {
        "id": "n0bLTxhUdCNi"
      }
    },
    {
      "cell_type": "code",
      "source": [
        "base = int(input('Enter base: '))\n",
        "height = int(input('Enter height: '))\n",
        "print('The area of the triangle is ', 0.5 * base * height)"
      ],
      "metadata": {
        "colab": {
          "base_uri": "https://localhost:8080/"
        },
        "id": "ILMJs7lydD8K",
        "outputId": "3afe7393-70ac-48d0-c952-f2be53e3074e"
      },
      "execution_count": 6,
      "outputs": [
        {
          "output_type": "stream",
          "name": "stdout",
          "text": [
            "Enter base: 20\n",
            "Enter height: 10\n",
            "The area of the triangle is  100.0\n"
          ]
        }
      ]
    },
    {
      "cell_type": "markdown",
      "source": [
        "5. Write a script that prompts the user to enter side a, side b, and side c of the triangle. Calculate the perimeter of the triangle (perimeter = a + b + c)"
      ],
      "metadata": {
        "id": "faKkjDRed8yA"
      }
    },
    {
      "cell_type": "code",
      "source": [
        "a = int(input('Enter side a: '))\n",
        "b = int(input('Enter side b: '))\n",
        "c = int(input('Enter side c: '))\n",
        "print('The perimeter of the triangle is', a + b + c)"
      ],
      "metadata": {
        "colab": {
          "base_uri": "https://localhost:8080/"
        },
        "id": "gtKSBd7Md95y",
        "outputId": "1cf185ce-3e31-4846-ca1b-2f1d9f62b41a"
      },
      "execution_count": 8,
      "outputs": [
        {
          "output_type": "stream",
          "name": "stdout",
          "text": [
            "Enter side a: 5\n",
            "Enter side b: 4\n",
            "Enter side c: 3\n",
            "The perimeter of the triangle is 12\n"
          ]
        }
      ]
    },
    {
      "cell_type": "markdown",
      "source": [
        "6. Get length and width of a rectangle using prompt. Calculate its area (area = length x width) and perimeter (perimeter = 2 x (length + width))"
      ],
      "metadata": {
        "id": "LP2UCrGReptd"
      }
    },
    {
      "cell_type": "code",
      "source": [
        "length = int(input('Enter length: '))\n",
        "width = int(input('Enter width: '))\n",
        "print('area (area = length x width)', length * width)\n",
        "print('perimeter (perimeter = 2 x (length + width)', 2 * (length + width))"
      ],
      "metadata": {
        "colab": {
          "base_uri": "https://localhost:8080/"
        },
        "id": "rJltO5Zpeq5L",
        "outputId": "d0ace2da-c872-4918-bd7d-651d1823d864"
      },
      "execution_count": 11,
      "outputs": [
        {
          "output_type": "stream",
          "name": "stdout",
          "text": [
            "Enter length: 3\n",
            "Enter width: 4\n",
            "area (area = length x width) 12\n",
            "perimeter (perimeter = 2 x (length + width) 14\n"
          ]
        }
      ]
    },
    {
      "cell_type": "markdown",
      "source": [
        "7. Get radius of a circle using prompt. Calculate the area (area = pi x r x r) and circumference (c = 2 x pi x r) where pi = 3.14."
      ],
      "metadata": {
        "id": "pj6bNILMf8MR"
      }
    },
    {
      "cell_type": "code",
      "source": [
        "r = int(input('Enter radio: '))\n",
        "pi = 3.14\n",
        "print('area (area = pi x r x r)', pi * r * r)\n",
        "print('circumference (c = 2 x pi x r)', 2 * pi * r)"
      ],
      "metadata": {
        "colab": {
          "base_uri": "https://localhost:8080/"
        },
        "id": "CN-UL34MgAfx",
        "outputId": "6281b842-14e6-4a06-f8ec-62c6097f9469"
      },
      "execution_count": 12,
      "outputs": [
        {
          "output_type": "stream",
          "name": "stdout",
          "text": [
            "Enter radio: 1\n",
            "area (area = pi x r x r) 3.14\n",
            "circumference (c = 2 x pi x r) 6.28\n"
          ]
        }
      ]
    },
    {
      "cell_type": "markdown",
      "source": [
        "8. Calculate the slope, x-intercept and y-intercept of y = 2x -2"
      ],
      "metadata": {
        "id": "q81XpaPGglbX"
      }
    },
    {
      "cell_type": "code",
      "source": [
        "x1 = 0\n",
        "y1 = 2 * x1 - 2\n",
        "\n",
        "y2 = 0\n",
        "x2 = (y2 + 2) / 2\n",
        "\n",
        "print ('x-intercept ({},{})\\ny-intercept ({},{})'.format(x1, y1, x2, y2))"
      ],
      "metadata": {
        "colab": {
          "base_uri": "https://localhost:8080/"
        },
        "id": "TnS0o7BEgnL1",
        "outputId": "33cf0d3d-3c4d-4ceb-fc6d-2b3714c14f44"
      },
      "execution_count": 20,
      "outputs": [
        {
          "output_type": "stream",
          "name": "stdout",
          "text": [
            "x-intercept (0,-2)\n",
            "y-intercept (1.0,0)\n"
          ]
        }
      ]
    },
    {
      "cell_type": "markdown",
      "source": [
        "9. Slope is (m = y2-y1/x2-x1). Find the slope and Euclidean distance between point (2, 2) and point (6,10)"
      ],
      "metadata": {
        "id": "HCCRCsFMlSiU"
      }
    },
    {
      "cell_type": "code",
      "source": [
        "x1, y1 = 2, 2\n",
        "x2, y2 = 6, 10\n",
        "\n",
        "m = (y2-y1)/(x2-x1)"
      ],
      "metadata": {
        "id": "GvQ_qYuUlUwG"
      },
      "execution_count": 4,
      "outputs": []
    },
    {
      "cell_type": "markdown",
      "source": [
        "10. Compare the slopes in tasks 8 and 9"
      ],
      "metadata": {
        "id": "Sn6NhNj-PImd"
      }
    },
    {
      "cell_type": "code",
      "source": [
        "2.0 == m"
      ],
      "metadata": {
        "colab": {
          "base_uri": "https://localhost:8080/"
        },
        "id": "ndXnlFuOPLcv",
        "outputId": "6a60304f-221e-46d6-bf70-04d2971966d4"
      },
      "execution_count": 9,
      "outputs": [
        {
          "output_type": "execute_result",
          "data": {
            "text/plain": [
              "True"
            ]
          },
          "metadata": {},
          "execution_count": 9
        }
      ]
    },
    {
      "cell_type": "markdown",
      "source": [
        "11. Calculate the value of y (y = x^2 + 6x + 9). Try to use different x values and figure out at what x value y is going to be 0."
      ],
      "metadata": {
        "id": "7XluRY5OQyUY"
      }
    },
    {
      "cell_type": "code",
      "source": [
        "x = -3\n",
        "y = x ** 2 + 6 * x + 9\n",
        "y = (x + 3)(x + 3)\n",
        "y = (x + 3) ** 2\n",
        "# x = -3 | x = -3\n",
        "print(y)"
      ],
      "metadata": {
        "colab": {
          "base_uri": "https://localhost:8080/"
        },
        "id": "7H6Kkj6QQz2n",
        "outputId": "f7aff8c2-3092-4de2-fd25-9e2bfad90b8f"
      },
      "execution_count": 11,
      "outputs": [
        {
          "output_type": "stream",
          "name": "stdout",
          "text": [
            "0\n",
            "0\n"
          ]
        }
      ]
    },
    {
      "cell_type": "markdown",
      "source": [
        "12. Find the length of 'python' and 'dragon' and make a falsy comparison statement."
      ],
      "metadata": {
        "id": "JRGTrBdbS7rz"
      }
    },
    {
      "cell_type": "code",
      "source": [
        "len('python') is not len('dragon')"
      ],
      "metadata": {
        "colab": {
          "base_uri": "https://localhost:8080/"
        },
        "id": "K8NghBzNS-8z",
        "outputId": "f89d9541-f950-4774-a2ba-802d0057c88d"
      },
      "execution_count": 13,
      "outputs": [
        {
          "output_type": "execute_result",
          "data": {
            "text/plain": [
              "False"
            ]
          },
          "metadata": {},
          "execution_count": 13
        }
      ]
    },
    {
      "cell_type": "markdown",
      "source": [
        "13. Use and operator to check if 'on' is found in both 'python' and 'dragon'"
      ],
      "metadata": {
        "id": "E0d3jUvOTZ7d"
      }
    },
    {
      "cell_type": "code",
      "source": [
        "'on' in 'python' and 'on' in 'dragon'"
      ],
      "metadata": {
        "colab": {
          "base_uri": "https://localhost:8080/"
        },
        "id": "whREOprmTbLB",
        "outputId": "2b8bca4c-2446-4eb5-a757-22108f324805"
      },
      "execution_count": 14,
      "outputs": [
        {
          "output_type": "execute_result",
          "data": {
            "text/plain": [
              "True"
            ]
          },
          "metadata": {},
          "execution_count": 14
        }
      ]
    },
    {
      "cell_type": "markdown",
      "source": [
        "14. I hope this course is not full of jargon. Use in operator to check if jargon is in the sentence."
      ],
      "metadata": {
        "id": "nE3DkspvT453"
      }
    },
    {
      "cell_type": "code",
      "source": [
        "'jargon' in 'I hope this course is not full of jargon'"
      ],
      "metadata": {
        "colab": {
          "base_uri": "https://localhost:8080/"
        },
        "id": "hCc1SE55T6dn",
        "outputId": "f254c83e-4dcc-475f-d757-346f1b582116"
      },
      "execution_count": 15,
      "outputs": [
        {
          "output_type": "execute_result",
          "data": {
            "text/plain": [
              "True"
            ]
          },
          "metadata": {},
          "execution_count": 15
        }
      ]
    },
    {
      "cell_type": "markdown",
      "source": [
        "15. There is no 'on' in both dragon and python"
      ],
      "metadata": {
        "id": "QqHvd0tTUPoX"
      }
    },
    {
      "cell_type": "code",
      "source": [
        "'on' is not 'dragon' and 'on' is not 'python'"
      ],
      "metadata": {
        "colab": {
          "base_uri": "https://localhost:8080/"
        },
        "id": "_1DQYRUWUTWc",
        "outputId": "2dcfde25-200a-4b45-f2c3-aa7eb2d4c563"
      },
      "execution_count": 16,
      "outputs": [
        {
          "output_type": "execute_result",
          "data": {
            "text/plain": [
              "True"
            ]
          },
          "metadata": {},
          "execution_count": 16
        }
      ]
    },
    {
      "cell_type": "markdown",
      "source": [
        "16. Find the length of the text python and convert the value to float and convert it to string"
      ],
      "metadata": {
        "id": "fcbA8e0ZVCO2"
      }
    },
    {
      "cell_type": "code",
      "source": [
        "str(float(len('python')))"
      ],
      "metadata": {
        "colab": {
          "base_uri": "https://localhost:8080/",
          "height": 35
        },
        "id": "QGUWPYGmVDnM",
        "outputId": "d10a1b79-ac95-45ab-cd4f-a08b9f9e73eb"
      },
      "execution_count": 19,
      "outputs": [
        {
          "output_type": "execute_result",
          "data": {
            "text/plain": [
              "'6.0'"
            ],
            "application/vnd.google.colaboratory.intrinsic+json": {
              "type": "string"
            }
          },
          "metadata": {},
          "execution_count": 19
        }
      ]
    },
    {
      "cell_type": "markdown",
      "source": [
        "17. Even numbers are divisible by 2 and the remainder is zero. How do you check if a number is even or not using python?"
      ],
      "metadata": {
        "id": "8fIlxXnbVoD2"
      }
    },
    {
      "cell_type": "code",
      "source": [
        "n = int(input('Enter n: '))\n",
        "n % 2 is 0"
      ],
      "metadata": {
        "colab": {
          "base_uri": "https://localhost:8080/"
        },
        "id": "OCsCuXKTVpqG",
        "outputId": "7e3692e8-6234-443f-cad2-359efc6ec4c7"
      },
      "execution_count": 26,
      "outputs": [
        {
          "name": "stdout",
          "output_type": "stream",
          "text": [
            "Enter n: 5\n"
          ]
        },
        {
          "output_type": "execute_result",
          "data": {
            "text/plain": [
              "False"
            ]
          },
          "metadata": {},
          "execution_count": 26
        }
      ]
    },
    {
      "cell_type": "markdown",
      "source": [
        "18. Check if the floor division of 7 by 3 is equal to the int converted value of 2.7"
      ],
      "metadata": {
        "id": "eKDvyasBWcCH"
      }
    },
    {
      "cell_type": "code",
      "source": [
        "7 // 3 is int(2.7)"
      ],
      "metadata": {
        "colab": {
          "base_uri": "https://localhost:8080/"
        },
        "id": "uXn0-jsBWdxK",
        "outputId": "5b3fb9bf-db61-49be-eb92-22dbf0b4801b"
      },
      "execution_count": 32,
      "outputs": [
        {
          "output_type": "execute_result",
          "data": {
            "text/plain": [
              "True"
            ]
          },
          "metadata": {},
          "execution_count": 32
        }
      ]
    },
    {
      "cell_type": "markdown",
      "source": [
        "19. Check if type of '10' is equal to type of 10"
      ],
      "metadata": {
        "id": "C_0_QGYJXLvm"
      }
    },
    {
      "cell_type": "code",
      "source": [
        "type('10') is type(10)"
      ],
      "metadata": {
        "colab": {
          "base_uri": "https://localhost:8080/"
        },
        "id": "Su6zDc2vXWVg",
        "outputId": "b84c4a33-14e9-4b70-d233-2875d1b5dfbb"
      },
      "execution_count": 36,
      "outputs": [
        {
          "output_type": "execute_result",
          "data": {
            "text/plain": [
              "False"
            ]
          },
          "metadata": {},
          "execution_count": 36
        }
      ]
    },
    {
      "cell_type": "markdown",
      "source": [
        "20. Check if int('9.8') is equal to 10"
      ],
      "metadata": {
        "id": "qSMkDeaQXuLa"
      }
    },
    {
      "cell_type": "code",
      "source": [
        "int(float('9.8')) is 10"
      ],
      "metadata": {
        "colab": {
          "base_uri": "https://localhost:8080/"
        },
        "id": "ICL2KXbiXvrM",
        "outputId": "f2f03e7c-dbf5-4df9-cf71-0185a456a9b2"
      },
      "execution_count": 43,
      "outputs": [
        {
          "output_type": "execute_result",
          "data": {
            "text/plain": [
              "False"
            ]
          },
          "metadata": {},
          "execution_count": 43
        }
      ]
    },
    {
      "cell_type": "markdown",
      "source": [
        "21. Writ a script that prompts the user to enter hours and rate per hour. Calculate pay of the person?"
      ],
      "metadata": {
        "id": "npMqYbVvY5HB"
      }
    },
    {
      "cell_type": "code",
      "source": [
        "hours = int(input('Enter hours: '))\n",
        "rate_per_hour = float(input('Enter rate per hour: '))\n",
        "print('Your weekly earning is', hours * rate_per_hour) "
      ],
      "metadata": {
        "colab": {
          "base_uri": "https://localhost:8080/"
        },
        "id": "1OKxaX7HY6rz",
        "outputId": "e4a9338f-0666-4aea-973c-1bc4c627b4a5"
      },
      "execution_count": 44,
      "outputs": [
        {
          "output_type": "stream",
          "name": "stdout",
          "text": [
            "Enter hours: 40\n",
            "Enter rate per hour: 28\n",
            "Your weekly earning is 1120.0\n"
          ]
        }
      ]
    },
    {
      "cell_type": "markdown",
      "source": [
        "22. Write a script that prompts the user to enter number of years. Calculate the number of seconds a person can live. Assume a person can live hundred years"
      ],
      "metadata": {
        "id": "eW8kz1oDZujL"
      }
    },
    {
      "cell_type": "code",
      "source": [
        "years = int(input('Enter number of years you have lived: '))\n",
        "seconds = int(years * 365.25 * 86400.0)\n",
        "print(\"You have lived for {} seconds.\".format(seconds)) "
      ],
      "metadata": {
        "colab": {
          "base_uri": "https://localhost:8080/"
        },
        "id": "MSP8xeuIZv7c",
        "outputId": "f142bddc-8104-4f48-9508-40bc3a934ab0"
      },
      "execution_count": 58,
      "outputs": [
        {
          "output_type": "stream",
          "name": "stdout",
          "text": [
            "Enter number of years you have lived: 100\n",
            "You have lived for 3155760000 seconds.\n"
          ]
        }
      ]
    },
    {
      "cell_type": "markdown",
      "source": [
        "23. Write a Python script that displays the following table\n",
        "```\n",
        "1 1 1 1 1\n",
        "2 1 2 4 8\n",
        "3 1 3 9 27\n",
        "4 1 4 16 64\n",
        "5 1 5 25 125\n",
        "```"
      ],
      "metadata": {
        "id": "08QgdgCIe-lD"
      }
    },
    {
      "cell_type": "code",
      "source": [
        "for i in range(1,6):\n",
        "  print (i, i**0, i**1,i**2,i**3)"
      ],
      "metadata": {
        "colab": {
          "base_uri": "https://localhost:8080/"
        },
        "id": "DV4JcmhEe_5j",
        "outputId": "4d7f2723-67fa-4197-d50c-2d57fa5f070c"
      },
      "execution_count": 63,
      "outputs": [
        {
          "output_type": "stream",
          "name": "stdout",
          "text": [
            "1 1 1 1 1\n",
            "2 1 2 4 8\n",
            "3 1 3 9 27\n",
            "4 1 4 16 64\n",
            "5 1 5 25 125\n"
          ]
        }
      ]
    }
  ]
}