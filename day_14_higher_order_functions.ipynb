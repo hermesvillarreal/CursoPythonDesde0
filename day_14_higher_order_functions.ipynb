{
  "nbformat": 4,
  "nbformat_minor": 0,
  "metadata": {
    "colab": {
      "provenance": [],
      "authorship_tag": "ABX9TyMqm6NVBgk9r8/Uiw3jxnyT",
      "include_colab_link": true
    },
    "kernelspec": {
      "name": "python3",
      "display_name": "Python 3"
    },
    "language_info": {
      "name": "python"
    }
  },
  "cells": [
    {
      "cell_type": "markdown",
      "metadata": {
        "id": "view-in-github",
        "colab_type": "text"
      },
      "source": [
        "<a href=\"https://colab.research.google.com/github/hermesvillarreal/CursoPythonDesde0/blob/main/day_14_higher_order_functions.ipynb\" target=\"_parent\"><img src=\"https://colab.research.google.com/assets/colab-badge.svg\" alt=\"Open In Colab\"/></a>"
      ]
    },
    {
      "cell_type": "markdown",
      "source": [
        "# 💻 Exercises: Day 14\n"
      ],
      "metadata": {
        "id": "sUduxOugcR6D"
      }
    },
    {
      "cell_type": "markdown",
      "source": [
        "```py\n",
        "countries = ['Estonia', 'Finland', 'Sweden', 'Denmark', 'Norway', 'Iceland']\n",
        "names = ['Asabeneh', 'Lidiya', 'Ermias', 'Abraham']\n",
        "numbers = [1, 2, 3, 4, 5, 6, 7, 8, 9, 10]\n",
        "```"
      ],
      "metadata": {
        "id": "K-iNaFYIcUBh"
      }
    },
    {
      "cell_type": "code",
      "execution_count": null,
      "metadata": {
        "id": "RW0-TrhFd9sG"
      },
      "outputs": [],
      "source": []
    },
    {
      "cell_type": "markdown",
      "source": [
        "## Exercises: Level 1"
      ],
      "metadata": {
        "id": "fF4WJY4Ccfy6"
      }
    },
    {
      "cell_type": "markdown",
      "source": [
        "1. Explain the difference between map, filter, and reduce.\n",
        "2. Explain the difference between higher order function, closure and decorator\n",
        "3. Define a call function before map, filter or reduce, see examples.\n",
        "4. Use for loop to print each country in the countries list.\n",
        "5. Use for to print each name in the names list.\n",
        "6. Use for to print each number in the numbers list."
      ],
      "metadata": {
        "id": "5xjvRw67clWF"
      }
    },
    {
      "cell_type": "markdown",
      "source": [
        "## Exercises: Level 2"
      ],
      "metadata": {
        "id": "nsIy_FkncpIE"
      }
    },
    {
      "cell_type": "markdown",
      "source": [
        "1. Use map to create a new list by changing each country to uppercase in the countries list\n",
        "1. Use map to create a new list by changing each number to its square in the numbers list\n",
        "1. Use map to change each name to uppercase in the names list\n",
        "1. Use filter to filter out countries containing 'land'.\n",
        "1. Use filter to filter out countries having exactly six characters.\n",
        "1. Use filter to filter out countries containing six letters and more in the country list.\n",
        "1. Use filter to filter out countries starting with an 'E'\n",
        "1. Chain two or more list iterators (eg. arr.map(callback).filter(callback).reduce(callback))\n",
        "1. Declare a function called get_string_lists which takes a list as a parameter and then returns a list containing only string items.\n",
        "1. Use reduce to sum all the numbers in the numbers list.\n",
        "1. Use reduce to concatenate all the countries and to produce this sentence: Estonia, Finland, Sweden, Denmark, Norway, and Iceland are north European countries\n",
        "1. Declare a function called categorize_countries that returns a list of countries with some common pattern (you can find the [countries list](https://github.com/Asabeneh/30-Days-Of-Python/blob/master/data/countries.py) in this repository as countries.js(eg 'land', 'ia', 'island', 'stan')).\n",
        "1. Create a function returning a dictionary, where keys stand for starting letters of countries and values are the number of country names starting with that letter.\n",
        "2. Declare a get_first_ten_countries function - it returns a list of first ten countries from the countries.js list in the data folder.\n",
        "1. Declare a get_last_ten_countries function that returns the last ten countries in the countries list."
      ],
      "metadata": {
        "id": "qXJy3u3nctVk"
      }
    },
    {
      "cell_type": "markdown",
      "source": [
        "## Exercises: Level 3"
      ],
      "metadata": {
        "id": "mXtErvn-cxbP"
      }
    },
    {
      "cell_type": "markdown",
      "source": [
        "1. Use the countries_data.py (https://github.com/Asabeneh/30-Days-Of-Python/blob/master/data/countries-data.py) file and follow the tasks below:\n",
        "   - Sort countries by name, by capital, by population\n",
        "   - Sort out the ten most spoken languages by location.\n",
        "   - Sort out the ten most populated countries."
      ],
      "metadata": {
        "id": "CaxymmJXc1JC"
      }
    }
  ]
}