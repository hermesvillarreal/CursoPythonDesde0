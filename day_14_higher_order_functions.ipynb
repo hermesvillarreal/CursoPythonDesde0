{
  "nbformat": 4,
  "nbformat_minor": 0,
  "metadata": {
    "colab": {
      "provenance": [],
      "authorship_tag": "ABX9TyPtjiSG3GCgwqj5phEiDIfo",
      "include_colab_link": true
    },
    "kernelspec": {
      "name": "python3",
      "display_name": "Python 3"
    },
    "language_info": {
      "name": "python"
    }
  },
  "cells": [
    {
      "cell_type": "markdown",
      "metadata": {
        "id": "view-in-github",
        "colab_type": "text"
      },
      "source": [
        "<a href=\"https://colab.research.google.com/github/hermesvillarreal/CursoPythonDesde0/blob/main/day_14_higher_order_functions.ipynb\" target=\"_parent\"><img src=\"https://colab.research.google.com/assets/colab-badge.svg\" alt=\"Open In Colab\"/></a>"
      ]
    },
    {
      "cell_type": "markdown",
      "source": [
        "# 💻 Exercises: Day 14\n"
      ],
      "metadata": {
        "id": "sUduxOugcR6D"
      }
    },
    {
      "cell_type": "markdown",
      "source": [
        "```py\n",
        "countries = ['Estonia', 'Finland', 'Sweden', 'Denmark', 'Norway', 'Iceland']\n",
        "names = ['Asabeneh', 'Lidiya', 'Ermias', 'Abraham']\n",
        "numbers = [1, 2, 3, 4, 5, 6, 7, 8, 9, 10]\n",
        "```"
      ],
      "metadata": {
        "id": "K-iNaFYIcUBh"
      }
    },
    {
      "cell_type": "code",
      "execution_count": null,
      "metadata": {
        "id": "RW0-TrhFd9sG"
      },
      "outputs": [],
      "source": [
        "countries = ['Estonia', 'Finland', 'Sweden', 'Denmark', 'Norway', 'Iceland']\n",
        "names = ['Asabeneh', 'Lidiya', 'Ermias', 'Abraham']\n",
        "numbers = [1, 2, 3, 4, 5, 6, 7, 8, 9, 10]"
      ]
    },
    {
      "cell_type": "markdown",
      "source": [
        "## Exercises: Level 1"
      ],
      "metadata": {
        "id": "fF4WJY4Ccfy6"
      }
    },
    {
      "cell_type": "markdown",
      "source": [
        "1. Explain the difference between map, filter, and reduce.\n",
        "2. Explain the difference between higher order function, closure and decorator\n",
        "3. Define a call function before map, filter or reduce, see examples.\n",
        "4. Use for loop to print each country in the countries list.\n",
        "5. Use for to print each name in the names list.\n",
        "6. Use for to print each number in the numbers list."
      ],
      "metadata": {
        "id": "5xjvRw67clWF"
      }
    },
    {
      "cell_type": "code",
      "source": [
        "# 4\n",
        "for country in countries:\n",
        "  print(country)"
      ],
      "metadata": {
        "id": "tCQn6HCTbaa7",
        "outputId": "c7a384e2-0ac2-479b-c413-0ff9505f8d66",
        "colab": {
          "base_uri": "https://localhost:8080/"
        }
      },
      "execution_count": null,
      "outputs": [
        {
          "output_type": "stream",
          "name": "stdout",
          "text": [
            "Estonia\n",
            "Finland\n",
            "Sweden\n",
            "Denmark\n",
            "Norway\n",
            "Iceland\n"
          ]
        }
      ]
    },
    {
      "cell_type": "code",
      "source": [
        "# 5\n",
        "for name in names:\n",
        "  print(name)"
      ],
      "metadata": {
        "id": "0hUAAJdbb7QY",
        "outputId": "49a914b8-2463-417a-a401-3769033e9218",
        "colab": {
          "base_uri": "https://localhost:8080/"
        }
      },
      "execution_count": null,
      "outputs": [
        {
          "output_type": "stream",
          "name": "stdout",
          "text": [
            "Asabeneh\n",
            "Lidiya\n",
            "Ermias\n",
            "Abraham\n"
          ]
        }
      ]
    },
    {
      "cell_type": "code",
      "source": [
        "# 6 \n",
        "for n in numbers:\n",
        "  print(n)"
      ],
      "metadata": {
        "id": "CCjrroiIb7Hn",
        "outputId": "648b017e-b38d-4a1f-ab77-094bc93da6dc",
        "colab": {
          "base_uri": "https://localhost:8080/"
        }
      },
      "execution_count": null,
      "outputs": [
        {
          "output_type": "stream",
          "name": "stdout",
          "text": [
            "1\n",
            "2\n",
            "3\n",
            "4\n",
            "5\n",
            "6\n",
            "7\n",
            "8\n",
            "9\n",
            "10\n"
          ]
        }
      ]
    },
    {
      "cell_type": "markdown",
      "source": [
        "## Exercises: Level 2"
      ],
      "metadata": {
        "id": "nsIy_FkncpIE"
      }
    },
    {
      "cell_type": "markdown",
      "source": [
        "1. Use map to create a new list by changing each country to uppercase in the countries list\n",
        "1. Use map to create a new list by changing each number to its square in the numbers list\n",
        "1. Use map to change each name to uppercase in the names list\n",
        "1. Use filter to filter out countries containing 'land'.\n",
        "1. Use filter to filter out countries having exactly six characters.\n",
        "1. Use filter to filter out countries containing six letters and more in the country list.\n",
        "1. Use filter to filter out countries starting with an 'E'\n",
        "1. Chain two or more list iterators (eg. arr.map(callback).filter(callback).reduce(callback))\n",
        "1. Declare a function called get_string_lists which takes a list as a parameter and then returns a list containing only string items.\n",
        "1. Use reduce to sum all the numbers in the numbers list.\n",
        "1. Use reduce to concatenate all the countries and to produce this sentence: Estonia, Finland, Sweden, Denmark, Norway, and Iceland are north European countries\n",
        "1. Declare a function called categorize_countries that returns a list of countries with some common pattern (you can find the [countries list](https://github.com/Asabeneh/30-Days-Of-Python/blob/master/data/countries.py) in this repository as countries.js(eg 'land', 'ia', 'island', 'stan')).\n",
        "1. Create a function returning a dictionary, where keys stand for starting letters of countries and values are the number of country names starting with that letter.\n",
        "2. Declare a get_first_ten_countries function - it returns a list of first ten countries from the countries.js list in the data folder.\n",
        "1. Declare a get_last_ten_countries function that returns the last ten countries in the countries list."
      ],
      "metadata": {
        "id": "qXJy3u3nctVk"
      }
    },
    {
      "cell_type": "code",
      "source": [
        "# 1\n",
        "def Upper(cadena):\n",
        "  return cadena.upper()\n",
        "\n",
        "countries_upper = list(map(Upper, countries))\n",
        "\n",
        "print(countries, countries_upper)"
      ],
      "metadata": {
        "id": "-FQEg_gwcb_a",
        "outputId": "102c70a5-94d3-44c8-b90b-831658b3b683",
        "colab": {
          "base_uri": "https://localhost:8080/"
        }
      },
      "execution_count": null,
      "outputs": [
        {
          "output_type": "stream",
          "name": "stdout",
          "text": [
            "['Estonia', 'Finland', 'Sweden', 'Denmark', 'Norway', 'Iceland'] ['ESTONIA', 'FINLAND', 'SWEDEN', 'DENMARK', 'NORWAY', 'ICELAND']\n"
          ]
        }
      ]
    },
    {
      "cell_type": "code",
      "source": [
        "# 2 \n",
        "def Cuadrado(n):\n",
        "  return n ** 2\n",
        "\n",
        "numbers_cuadrado = list(map(Cuadrado, numbers))\n",
        "\n",
        "print (numbers, numbers_cuadrado)"
      ],
      "metadata": {
        "id": "_foKGllOeq9m",
        "outputId": "fbf36fb6-7a39-4498-8c23-49884d5697b4",
        "colab": {
          "base_uri": "https://localhost:8080/"
        }
      },
      "execution_count": null,
      "outputs": [
        {
          "output_type": "stream",
          "name": "stdout",
          "text": [
            "[1, 2, 3, 4, 5, 6, 7, 8, 9, 10] [1, 4, 9, 16, 25, 36, 49, 64, 81, 100]\n"
          ]
        }
      ]
    },
    {
      "cell_type": "code",
      "source": [
        "# 3\n",
        "names_upper = list(map(Upper, names))\n",
        "\n",
        "print(names, names_upper)"
      ],
      "metadata": {
        "id": "j3FPxdJWfP3d",
        "outputId": "60d86f8d-275a-4165-f18f-7faee60d0f9a",
        "colab": {
          "base_uri": "https://localhost:8080/"
        }
      },
      "execution_count": null,
      "outputs": [
        {
          "output_type": "stream",
          "name": "stdout",
          "text": [
            "['Asabeneh', 'Lidiya', 'Ermias', 'Abraham'] ['ASABENEH', 'LIDIYA', 'ERMIAS', 'ABRAHAM']\n"
          ]
        }
      ]
    },
    {
      "cell_type": "code",
      "source": [
        "# 4\n",
        "def country_land(country):\n",
        "  return True if country.lower().find('land') >= 0 else None\n",
        "\n",
        "list(filter(country_land, countries))"
      ],
      "metadata": {
        "id": "SISTkXv5fi7v",
        "outputId": "3c2bdacc-1c76-4a6d-8f64-723d6d03192d",
        "colab": {
          "base_uri": "https://localhost:8080/"
        }
      },
      "execution_count": null,
      "outputs": [
        {
          "output_type": "execute_result",
          "data": {
            "text/plain": [
              "['Finland', 'Iceland']"
            ]
          },
          "metadata": {},
          "execution_count": 21
        }
      ]
    },
    {
      "cell_type": "code",
      "source": [
        "# 5\n",
        "def country_len6(country):\n",
        "  return True if len(country) == 6 else None\n",
        "\n",
        "list(filter(country_len6, countries))"
      ],
      "metadata": {
        "id": "FnnPnyQYhhcf",
        "outputId": "106b1758-73ca-41c3-bb75-6172fc060b33",
        "colab": {
          "base_uri": "https://localhost:8080/"
        }
      },
      "execution_count": null,
      "outputs": [
        {
          "output_type": "execute_result",
          "data": {
            "text/plain": [
              "['Sweden', 'Norway']"
            ]
          },
          "metadata": {},
          "execution_count": 22
        }
      ]
    },
    {
      "cell_type": "code",
      "source": [
        "# 6\n",
        "def country_lengte6(country):\n",
        "  return True if len(country) >= 6 else None\n",
        "\n",
        "list(filter(country_lengte6, countries))"
      ],
      "metadata": {
        "id": "1X2f4qsHh1WN",
        "outputId": "8e265933-5f55-4e5d-c419-87cd7aba9ce9",
        "colab": {
          "base_uri": "https://localhost:8080/"
        }
      },
      "execution_count": null,
      "outputs": [
        {
          "output_type": "execute_result",
          "data": {
            "text/plain": [
              "['Estonia', 'Finland', 'Sweden', 'Denmark', 'Norway', 'Iceland']"
            ]
          },
          "metadata": {},
          "execution_count": 24
        }
      ]
    },
    {
      "cell_type": "code",
      "source": [
        "# 7\n",
        "def country_starte(country):\n",
        "  return True if country.startswith('E')  else None\n",
        "\n",
        "list(filter(country_starte, countries))"
      ],
      "metadata": {
        "id": "zMLlewNGiRNM",
        "outputId": "22aea73e-4ec9-46a8-af96-aa113b598ef1",
        "colab": {
          "base_uri": "https://localhost:8080/"
        }
      },
      "execution_count": null,
      "outputs": [
        {
          "output_type": "execute_result",
          "data": {
            "text/plain": [
              "['Estonia']"
            ]
          },
          "metadata": {},
          "execution_count": 25
        }
      ]
    },
    {
      "cell_type": "markdown",
      "source": [
        "## Exercises: Level 3"
      ],
      "metadata": {
        "id": "mXtErvn-cxbP"
      }
    },
    {
      "cell_type": "markdown",
      "source": [
        "1. Use the countries_data.py (https://github.com/Asabeneh/30-Days-Of-Python/blob/master/data/countries-data.py) file and follow the tasks below:\n",
        "   - Sort countries by name, by capital, by population\n",
        "   - Sort out the ten most spoken languages by location.\n",
        "   - Sort out the ten most populated countries."
      ],
      "metadata": {
        "id": "CaxymmJXc1JC"
      }
    }
  ]
}