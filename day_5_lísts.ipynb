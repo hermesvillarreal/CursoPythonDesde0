{
  "nbformat": 4,
  "nbformat_minor": 0,
  "metadata": {
    "colab": {
      "provenance": [],
      "authorship_tag": "ABX9TyMH7trwph1h8h4ZpIpWomAX",
      "include_colab_link": true
    },
    "kernelspec": {
      "name": "python3",
      "display_name": "Python 3"
    },
    "language_info": {
      "name": "python"
    }
  },
  "cells": [
    {
      "cell_type": "markdown",
      "metadata": {
        "id": "view-in-github",
        "colab_type": "text"
      },
      "source": [
        "<a href=\"https://colab.research.google.com/github/hermesvillarreal/30-Days-Of-Python-master/blob/main/day_5_l%C3%ADsts.ipynb\" target=\"_parent\"><img src=\"https://colab.research.google.com/assets/colab-badge.svg\" alt=\"Open In Colab\"/></a>"
      ]
    },
    {
      "cell_type": "markdown",
      "source": [
        "# Ejercicios: Nivel 1"
      ],
      "metadata": {
        "id": "PpXc9mqu1BcG"
      }
    },
    {
      "cell_type": "markdown",
      "source": [
        "1. Declarar una lista vacía"
      ],
      "metadata": {
        "id": "7aowiKqv1F-T"
      }
    },
    {
      "cell_type": "code",
      "execution_count": 22,
      "metadata": {
        "id": "bUzKpb_wsNN1"
      },
      "outputs": [],
      "source": [
        "# metodo1\n",
        "list_m1 = []\n"
      ]
    },
    {
      "cell_type": "code",
      "source": [
        "# metodo2\n",
        "list_m2 = list()"
      ],
      "metadata": {
        "id": "FgmIEEy31Taq"
      },
      "execution_count": 23,
      "outputs": []
    },
    {
      "cell_type": "markdown",
      "source": [
        "2. Declarar una lista con más de 5 elementos"
      ],
      "metadata": {
        "id": "C7KTdRbq1h6z"
      }
    },
    {
      "cell_type": "code",
      "source": [
        "lista_5m = [1, 2, 3, 4, 5]"
      ],
      "metadata": {
        "id": "mmuM9rQ21nCL"
      },
      "execution_count": 33,
      "outputs": []
    },
    {
      "cell_type": "markdown",
      "source": [
        "3. Encuentra la longitud de tu lista"
      ],
      "metadata": {
        "id": "52GKHriK1y5l"
      }
    },
    {
      "cell_type": "code",
      "source": [
        "print(len(lista_5m))"
      ],
      "metadata": {
        "colab": {
          "base_uri": "https://localhost:8080/"
        },
        "id": "g-Qn_BY710rl",
        "outputId": "d7cb325b-4709-4716-d4a7-f5c57e3a7db8"
      },
      "execution_count": 27,
      "outputs": [
        {
          "output_type": "stream",
          "name": "stdout",
          "text": [
            "5\n"
          ]
        }
      ]
    },
    {
      "cell_type": "markdown",
      "source": [
        "4. Obtenga el primer elemento, el elemento del medio y el último elemento de la lista"
      ],
      "metadata": {
        "id": "qwntXwaVMprp"
      }
    },
    {
      "cell_type": "code",
      "source": [
        "print(f'Primer elemento {lista_5m[0]}')\n",
        "print(f'Elemento del medio {lista_5m[len(lista_5m)//2]}')\n",
        "print(f'Ultimo elemento {lista_5m[-1]}')"
      ],
      "metadata": {
        "colab": {
          "base_uri": "https://localhost:8080/"
        },
        "id": "x3iBwQu1MtRh",
        "outputId": "4725b85a-f833-440c-8b2b-0da2c9a9f705"
      },
      "execution_count": 34,
      "outputs": [
        {
          "output_type": "stream",
          "name": "stdout",
          "text": [
            "Primer elemento 1\n",
            "Elemento del medio 3\n",
            "Ultimo elemento 5\n"
          ]
        }
      ]
    },
    {
      "cell_type": "markdown",
      "source": [
        "5. Declare una lista llamada tipos_de_datos_mixtos, ponga su(nombre, edad, altura, estado civil, dirección)"
      ],
      "metadata": {
        "id": "c7UlukIbNrDA"
      }
    },
    {
      "cell_type": "code",
      "source": [
        "tipos_de_datos_mixtos = ['Hermes Villarreal', 45, 1.65, 'Casado', 'Bethania, Ciudad de Panamá, Panamá']"
      ],
      "metadata": {
        "id": "bLAZb5q3Nse8"
      },
      "execution_count": 35,
      "outputs": []
    },
    {
      "cell_type": "markdown",
      "source": [
        "6. Declare una variable de lista llamada it_companies y asigne valores iniciales Facebook, Google, Microsoft, Apple, IBM, Oracle y Amazon."
      ],
      "metadata": {
        "id": "r4f42TT-OFqF"
      }
    },
    {
      "cell_type": "code",
      "source": [
        "it_companies = ['Facebook', 'Google', 'Microsoft', 'Apple', 'IBM', 'Oracle', 'Amazon']"
      ],
      "metadata": {
        "id": "vYpLVPhzOKNX"
      },
      "execution_count": 67,
      "outputs": []
    },
    {
      "cell_type": "markdown",
      "source": [
        "7. Imprime la lista usando print()"
      ],
      "metadata": {
        "id": "kIH_65w3Ox4V"
      }
    },
    {
      "cell_type": "code",
      "source": [
        "print(it_companies)"
      ],
      "metadata": {
        "colab": {
          "base_uri": "https://localhost:8080/"
        },
        "id": "Jd_T7DH3Ozy5",
        "outputId": "495e3ff9-fb6e-43e0-c28a-f25d17470f1f"
      },
      "execution_count": 48,
      "outputs": [
        {
          "output_type": "stream",
          "name": "stdout",
          "text": [
            "['Facebook', 'Google', 'Mi Empresa', 'Apple', 'IISA', 'IBM', 'Oracle', 'Amazon', 'Microsoft']\n"
          ]
        }
      ]
    },
    {
      "cell_type": "markdown",
      "source": [
        "8. Imprimir el número de empresas en la lista"
      ],
      "metadata": {
        "id": "u-e4pOETPAwE"
      }
    },
    {
      "cell_type": "code",
      "source": [
        "print(len(it_companies))"
      ],
      "metadata": {
        "colab": {
          "base_uri": "https://localhost:8080/"
        },
        "id": "2xun13ObPChL",
        "outputId": "dd6f2d8e-0d87-4deb-f913-8b4074b8da07"
      },
      "execution_count": 39,
      "outputs": [
        {
          "output_type": "stream",
          "name": "stdout",
          "text": [
            "7\n"
          ]
        }
      ]
    },
    {
      "cell_type": "markdown",
      "source": [
        "9. Imprimir la primera, segunda y última empresa"
      ],
      "metadata": {
        "id": "HXOl_-t2PJOB"
      }
    },
    {
      "cell_type": "code",
      "source": [
        "print(f'Primera empresa: {it_companies[0]}')\n",
        "print(f'Segunda empresa: {it_companies[1]}')\n",
        "print(f'Ultima empresa:  {it_companies[-1]}')"
      ],
      "metadata": {
        "colab": {
          "base_uri": "https://localhost:8080/"
        },
        "id": "FLqSTMWiPN7a",
        "outputId": "550ac3b0-0ec1-4b73-9acf-8e52143252f7"
      },
      "execution_count": 43,
      "outputs": [
        {
          "output_type": "stream",
          "name": "stdout",
          "text": [
            "Primera empresa: Facebook\n",
            "Segunda empresa: Google\n",
            "Ultima empresa:  Amazon\n"
          ]
        }
      ]
    },
    {
      "cell_type": "markdown",
      "source": [
        "10. Imprimir la lista después de modificar una de las empresas"
      ],
      "metadata": {
        "id": "Ib7eo4gxPxBT"
      }
    },
    {
      "cell_type": "code",
      "source": [
        "it_companies[2] = 'Mi Empresa'\n",
        "print(it_companies)"
      ],
      "metadata": {
        "colab": {
          "base_uri": "https://localhost:8080/"
        },
        "id": "4yXgF1snPyXE",
        "outputId": "c59739a4-8c35-4f8c-aa72-e0d3fe5d03a1"
      },
      "execution_count": 45,
      "outputs": [
        {
          "output_type": "stream",
          "name": "stdout",
          "text": [
            "['Facebook', 'Google', 'Mi Empresa', 'Apple', 'IBM', 'Oracle', 'Amazon']\n"
          ]
        }
      ]
    },
    {
      "cell_type": "markdown",
      "source": [
        "11. Agregar una empresa de TI a it_companies"
      ],
      "metadata": {
        "id": "HMDsw7PUQSVb"
      }
    },
    {
      "cell_type": "code",
      "source": [
        "it_companies.append('Microsoft')"
      ],
      "metadata": {
        "id": "PlOJZGX0QUot"
      },
      "execution_count": 46,
      "outputs": []
    },
    {
      "cell_type": "markdown",
      "source": [
        "12. Inserte una empresa de TI en medio de la lista de empresas"
      ],
      "metadata": {
        "id": "vCOEbog1QegY"
      }
    },
    {
      "cell_type": "code",
      "source": [
        "it_companies.insert(len(it_companies)//2, 'IISA')"
      ],
      "metadata": {
        "id": "NThvuGN4QnUr"
      },
      "execution_count": 47,
      "outputs": []
    },
    {
      "cell_type": "markdown",
      "source": [
        "13. Cambie uno de los nombres de it_companies a mayúsculas (IBM excluido!)"
      ],
      "metadata": {
        "id": "l0bFaA22RsUZ"
      }
    },
    {
      "cell_type": "code",
      "source": [
        "it_companies[0] = it_companies[0].upper()\n",
        "print(it_companies) "
      ],
      "metadata": {
        "colab": {
          "base_uri": "https://localhost:8080/"
        },
        "id": "FW6IFZrTRt9W",
        "outputId": "aea7f9a1-8d13-412c-ae50-27d577d104be"
      },
      "execution_count": 50,
      "outputs": [
        {
          "output_type": "stream",
          "name": "stdout",
          "text": [
            "['FACEBOOK', 'Google', 'Mi Empresa', 'Apple', 'IISA', 'IBM', 'Oracle', 'Amazon', 'Microsoft']\n"
          ]
        }
      ]
    },
    {
      "cell_type": "markdown",
      "source": [
        "14. Únase a it_companies con una cadena '#; '"
      ],
      "metadata": {
        "id": "YU227tZNTCFx"
      }
    },
    {
      "cell_type": "code",
      "source": [
        "print('#;'.join(it_companies))"
      ],
      "metadata": {
        "colab": {
          "base_uri": "https://localhost:8080/"
        },
        "id": "uXxau09ZTD2P",
        "outputId": "1ec40231-24ac-4d0d-db31-d358e96fe9b6"
      },
      "execution_count": 51,
      "outputs": [
        {
          "output_type": "stream",
          "name": "stdout",
          "text": [
            "FACEBOOK#;Google#;Mi Empresa#;Apple#;IISA#;IBM#;Oracle#;Amazon#;Microsoft\n"
          ]
        }
      ]
    },
    {
      "cell_type": "markdown",
      "source": [
        "15. Compruebe si una determinada empresa existe en la lista it_companies."
      ],
      "metadata": {
        "id": "AfIlHM2NTUS3"
      }
    },
    {
      "cell_type": "code",
      "source": [
        "'IBM' in it_companies"
      ],
      "metadata": {
        "colab": {
          "base_uri": "https://localhost:8080/"
        },
        "id": "Nc7yh2fhTV7C",
        "outputId": "e102c377-283e-45f3-84d1-08224d13d093"
      },
      "execution_count": 52,
      "outputs": [
        {
          "output_type": "execute_result",
          "data": {
            "text/plain": [
              "True"
            ]
          },
          "metadata": {},
          "execution_count": 52
        }
      ]
    },
    {
      "cell_type": "markdown",
      "source": [
        "16. Ordenar la lista usando el método sort()"
      ],
      "metadata": {
        "id": "LvHv2DO5Tgdd"
      }
    },
    {
      "cell_type": "code",
      "source": [
        "it_companies.sort()\n",
        "print(it_companies)"
      ],
      "metadata": {
        "colab": {
          "base_uri": "https://localhost:8080/"
        },
        "id": "1nhR5iTaTidx",
        "outputId": "0bbd05cb-08f7-42dd-b2be-128788cdceb4"
      },
      "execution_count": 55,
      "outputs": [
        {
          "output_type": "stream",
          "name": "stdout",
          "text": [
            "['Amazon', 'Apple', 'FACEBOOK', 'Google', 'IBM', 'IISA', 'Mi Empresa', 'Microsoft', 'Oracle']\n"
          ]
        }
      ]
    },
    {
      "cell_type": "markdown",
      "source": [
        "17. Invierta la lista en orden descendente usando el método reverse()"
      ],
      "metadata": {
        "id": "9e7gLiw_T6KR"
      }
    },
    {
      "cell_type": "code",
      "source": [
        "it_companies.sort(reverse=True)\n",
        "print(it_companies)"
      ],
      "metadata": {
        "colab": {
          "base_uri": "https://localhost:8080/"
        },
        "id": "rCmesnX_T89D",
        "outputId": "4dd741b1-a179-4906-8dfb-d7949d262c75"
      },
      "execution_count": 56,
      "outputs": [
        {
          "output_type": "stream",
          "name": "stdout",
          "text": [
            "['Oracle', 'Microsoft', 'Mi Empresa', 'IISA', 'IBM', 'Google', 'FACEBOOK', 'Apple', 'Amazon']\n"
          ]
        }
      ]
    },
    {
      "cell_type": "markdown",
      "source": [
        "18. Rebana las 3 primeras empresas de la lista"
      ],
      "metadata": {
        "id": "tNpOVX_lUGgC"
      }
    },
    {
      "cell_type": "code",
      "source": [
        "print(it_companies[0:3])"
      ],
      "metadata": {
        "colab": {
          "base_uri": "https://localhost:8080/"
        },
        "id": "1CCMo7P0UJVw",
        "outputId": "7c4b71e9-4634-42d8-be08-67dee59cb74b"
      },
      "execution_count": 57,
      "outputs": [
        {
          "output_type": "stream",
          "name": "stdout",
          "text": [
            "['Oracle', 'Microsoft', 'Mi Empresa']\n"
          ]
        }
      ]
    },
    {
      "cell_type": "markdown",
      "source": [
        "19. Rebana las últimas 3 empresas de la lista"
      ],
      "metadata": {
        "id": "PnIi6il0USYe"
      }
    },
    {
      "cell_type": "code",
      "source": [
        "print(it_companies[-3:])"
      ],
      "metadata": {
        "colab": {
          "base_uri": "https://localhost:8080/"
        },
        "id": "lsa9hm2mUXP-",
        "outputId": "3cefc6da-9045-4ebe-8984-a675b27feff4"
      },
      "execution_count": 58,
      "outputs": [
        {
          "output_type": "stream",
          "name": "stdout",
          "text": [
            "['FACEBOOK', 'Apple', 'Amazon']\n"
          ]
        }
      ]
    },
    {
      "cell_type": "markdown",
      "source": [
        "20. Rebane la empresa o empresas intermedias de TI de la lista"
      ],
      "metadata": {
        "id": "F7ZkRUB7U4oC"
      }
    },
    {
      "cell_type": "code",
      "source": [
        "print(it_companies[::len(it_companies)-1])"
      ],
      "metadata": {
        "colab": {
          "base_uri": "https://localhost:8080/"
        },
        "id": "Add73Z20U6NC",
        "outputId": "28daea58-3860-4f3c-bb18-27e5c1437291"
      },
      "execution_count": 59,
      "outputs": [
        {
          "output_type": "stream",
          "name": "stdout",
          "text": [
            "['Oracle', 'Amazon']\n"
          ]
        }
      ]
    },
    {
      "cell_type": "markdown",
      "source": [
        "21. Eliminar la primera empresa de TI de la lista"
      ],
      "metadata": {
        "id": "KCe-xhsXVOVK"
      }
    },
    {
      "cell_type": "code",
      "source": [
        "del it_companies[0]\n",
        "print(it_companies)"
      ],
      "metadata": {
        "colab": {
          "base_uri": "https://localhost:8080/"
        },
        "id": "vRrn5AaAVPys",
        "outputId": "c1889419-9422-4b5e-e97c-5dc3031a30c0"
      },
      "execution_count": 60,
      "outputs": [
        {
          "output_type": "stream",
          "name": "stdout",
          "text": [
            "['Microsoft', 'Mi Empresa', 'IISA', 'IBM', 'Google', 'FACEBOOK', 'Apple', 'Amazon']\n"
          ]
        }
      ]
    },
    {
      "cell_type": "markdown",
      "source": [
        "22. Eliminar la empresa o empresas intermedias de TI de la lista"
      ],
      "metadata": {
        "id": "fCvgQ-gwWS1-"
      }
    },
    {
      "cell_type": "code",
      "source": [
        "del it_companies[1:len(it_companies)-1]\n",
        "print(it_companies)"
      ],
      "metadata": {
        "colab": {
          "base_uri": "https://localhost:8080/"
        },
        "id": "Jg2aIe1_WUgF",
        "outputId": "427f9f2d-4105-4bf3-b5a7-ea2655ad1f98"
      },
      "execution_count": 62,
      "outputs": [
        {
          "output_type": "stream",
          "name": "stdout",
          "text": [
            "['Microsoft', 'Amazon']\n"
          ]
        }
      ]
    },
    {
      "cell_type": "markdown",
      "source": [
        "23. Eliminar la última empresa de TI de la lista"
      ],
      "metadata": {
        "id": "oeU4kNWfXKTD"
      }
    },
    {
      "cell_type": "code",
      "source": [
        "del it_companies[-1]\n",
        "print(it_companies)"
      ],
      "metadata": {
        "colab": {
          "base_uri": "https://localhost:8080/"
        },
        "id": "I1IA6LJAXNPs",
        "outputId": "17b95cc3-071b-4239-ecf6-aeeca8cba868"
      },
      "execution_count": 63,
      "outputs": [
        {
          "output_type": "stream",
          "name": "stdout",
          "text": [
            "['Microsoft']\n"
          ]
        }
      ]
    },
    {
      "cell_type": "markdown",
      "source": [
        "24. Eliminar todas las empresas de TI de la lista"
      ],
      "metadata": {
        "id": "AUxjB0ChXWz_"
      }
    },
    {
      "cell_type": "code",
      "source": [
        "it_companies.clear()\n",
        "print(it_companies)"
      ],
      "metadata": {
        "colab": {
          "base_uri": "https://localhost:8080/"
        },
        "id": "QIFcj8YfXYQF",
        "outputId": "29b54102-4d50-4a8a-d882-65a958921470"
      },
      "execution_count": 64,
      "outputs": [
        {
          "output_type": "stream",
          "name": "stdout",
          "text": [
            "[]\n"
          ]
        }
      ]
    },
    {
      "cell_type": "markdown",
      "source": [
        "25. Destruye la lista de empresas de TI"
      ],
      "metadata": {
        "id": "xG5EFt4OXtnv"
      }
    },
    {
      "cell_type": "code",
      "source": [
        "del it_companies"
      ],
      "metadata": {
        "id": "Vf1Ol4TiXxQ8"
      },
      "execution_count": 68,
      "outputs": []
    },
    {
      "cell_type": "markdown",
      "source": [
        "26. Únete a las siguientes listas:\n",
        "```\n",
        "front_end = ['HTML', 'CSS', 'JS', 'React', 'Redux']\n",
        "back_end = ['Node','Express', 'MongoDB']\n",
        "```\n",
        "\n"
      ],
      "metadata": {
        "id": "OM45MC3BYAe1"
      }
    },
    {
      "cell_type": "code",
      "source": [
        "front_end = ['HTML', 'CSS', 'JS', 'React', 'Redux']\n",
        "back_end = ['Node','Express', 'MongoDB']\n",
        "\n",
        "lista = front_end + back_end\n",
        "print(lista)"
      ],
      "metadata": {
        "colab": {
          "base_uri": "https://localhost:8080/"
        },
        "id": "vwRhDE5BXvFo",
        "outputId": "a16b5c43-6316-47da-a271-28638a086219"
      },
      "execution_count": 71,
      "outputs": [
        {
          "output_type": "stream",
          "name": "stdout",
          "text": [
            "['HTML', 'CSS', 'JS', 'React', 'Redux', 'Node', 'Express', 'MongoDB']\n"
          ]
        }
      ]
    },
    {
      "cell_type": "markdown",
      "source": [
        "27. Después de unir las listas en la pregunta 26. Copie la lista unida y asígnela a una variable full_stack. Luego inserte Python y SQL después de Redux."
      ],
      "metadata": {
        "id": "v1n4hKgpYeED"
      }
    },
    {
      "cell_type": "code",
      "source": [
        "full_stack = lista.copy()\n",
        "iRedux = full_stack.index('Redux')\n",
        "full_stack.insert(iRedux + 1, 'Python')\n",
        "full_stack.insert(iRedux + 2, 'SQL')\n",
        "print (full_stack)"
      ],
      "metadata": {
        "colab": {
          "base_uri": "https://localhost:8080/"
        },
        "id": "SQoZ9vOTYg1E",
        "outputId": "6eb276f5-1ef3-4c89-d1e4-ebc96cb3d388"
      },
      "execution_count": 78,
      "outputs": [
        {
          "output_type": "stream",
          "name": "stdout",
          "text": [
            "['HTML', 'CSS', 'JS', 'React', 'Redux', 'Python', 'SQL', 'Node', 'Express', 'MongoDB']\n"
          ]
        }
      ]
    },
    {
      "cell_type": "markdown",
      "source": [
        "# Ejercicios: Nivel 2"
      ],
      "metadata": {
        "id": "rLzQqaiubrt_"
      }
    },
    {
      "cell_type": "markdown",
      "source": [
        "1. La siguiente es una lista de las edades de 10 estudiantes:\n",
        "```\n",
        "ages = [19, 22, 19, 24, 20, 25, 26, 24, 25, 24]\n",
        "```\n",
        "* Ordena la lista y encuentra la edad mínima y máxima\n",
        "* Agregue la edad mínima y la edad máxima nuevamente a la lista\n",
        "* Encuentre la edad mediana (un elemento intermedio o dos elementos intermedios divididos por dos)\n",
        "* Encuentre la edad promedio (suma de todos los elementos dividida por su número)\n",
        "* Encuentre el rango de las edades (max menos min)\n",
        "* Compare el valor de (mín - promedio) y (máx - promedio), use el método abs()\n",
        "\n"
      ],
      "metadata": {
        "id": "VEXLCpe1bvja"
      }
    },
    {
      "cell_type": "code",
      "source": [
        "ages = [19, 22, 19, 24, 20, 25, 26, 24, 25, 24]\n",
        "\n",
        "ages.sort()\n",
        "#nueva_lista = ages[::len(ages)-1]\n",
        "nueva_lista = list((ages[0], ages[-1]))\n",
        "minimo, maximo = nueva_lista\n",
        "promedio = sum(ages)/len(ages)\n",
        "\n",
        "print(ages)\n",
        "print(f'edad mediana: {ages[len(ages) // 2]}')\n",
        "print(f'edad promedio: {promedio}')\n",
        "print(f'rango de las edades: {maximo - minimo} (de {minimo} a {maximo})')\n",
        "print(f' valor de (mín - promedio): {abs(minimo - promedio):.2f} y (máx - promedio): {abs(maximo - promedio):.2f}')\n"
      ],
      "metadata": {
        "colab": {
          "base_uri": "https://localhost:8080/"
        },
        "id": "xN0r9BM6cG3c",
        "outputId": "cbb1d2ad-d042-468b-d6fb-357f042b67eb"
      },
      "execution_count": 92,
      "outputs": [
        {
          "output_type": "stream",
          "name": "stdout",
          "text": [
            "[19, 19, 20, 22, 24, 24, 24, 25, 25, 26]\n",
            "edad mediana: 24\n",
            "edad promedio: 22.8\n",
            "rango de las edades: 7 (de 19 a 26)\n",
            " valor de (mín - promedio): 3.80 y (máx - promedio): 3.20\n"
          ]
        }
      ]
    },
    {
      "cell_type": "markdown",
      "source": [
        "1. Encuentre el(los) país(es) intermedio(s) en la lista de países"
      ],
      "metadata": {
        "id": "YqCmHOOPC0tB"
      }
    },
    {
      "cell_type": "code",
      "source": [
        "countries = [\n",
        "  'Afghanistan',\n",
        "  'Albania',\n",
        "  'Algeria',\n",
        "  'Andorra',\n",
        "  'Angola',\n",
        "  'Antigua and Barbuda',\n",
        "  'Argentina',\n",
        "  'Armenia',\n",
        "  'Australia',\n",
        "  'Austria',\n",
        "  'Azerbaijan',\n",
        "  'Bahamas',\n",
        "  'Bahrain',\n",
        "  'Bangladesh',\n",
        "  'Barbados',\n",
        "  'Belarus',\n",
        "  'Belgium',\n",
        "  'Belize',\n",
        "  'Benin',\n",
        "  'Bhutan',\n",
        "  'Bolivia',\n",
        "  'Bosnia and Herzegovina',\n",
        "  'Botswana',\n",
        "  'Brazil',\n",
        "  'Brunei',\n",
        "  'Bulgaria',\n",
        "  'Burkina Faso',\n",
        "  'Burundi',\n",
        "  'Cambodia',\n",
        "  'Cameroon',\n",
        "  'Canada',\n",
        "  'Cape Verde',\n",
        "  'Central African Republic',\n",
        "  'Chad',\n",
        "  'Chile',\n",
        "  'China',\n",
        "  'Colombi',\n",
        "  'Comoros',\n",
        "  'Congo (Brazzaville)',\n",
        "  'Congo',\n",
        "  'Costa Rica',\n",
        "  \"Cote d'Ivoire\",\n",
        "  'Croatia',\n",
        "  'Cuba',\n",
        "  'Cyprus',\n",
        "  'Czech Republic',\n",
        "  'Denmark',\n",
        "  'Djibouti',\n",
        "  'Dominica',\n",
        "  'Dominican Republic',\n",
        "  'East Timor (Timor Timur)',\n",
        "  'Ecuador',\n",
        "  'Egypt',\n",
        "  'El Salvador',\n",
        "  'Equatorial Guinea',\n",
        "  'Eritrea',\n",
        "  'Estonia',\n",
        "  'Ethiopia',\n",
        "  'Fiji',\n",
        "  'Finland',\n",
        "  'France',\n",
        "  'Gabon',\n",
        "  'Gambia, The',\n",
        "  'Georgia',\n",
        "  'Germany',\n",
        "  'Ghana',\n",
        "  'Greece',\n",
        "  'Grenada',\n",
        "  'Guatemala',\n",
        "  'Guinea',\n",
        "  'Guinea-Bissau',\n",
        "  'Guyana',\n",
        "  'Haiti',\n",
        "  'Honduras',\n",
        "  'Hungary',\n",
        "  'Iceland',\n",
        "  'India',\n",
        "  'Indonesia',\n",
        "  'Iran',\n",
        "  'Iraq',\n",
        "  'Ireland',\n",
        "  'Israel',\n",
        "  'Italy',\n",
        "  'Jamaica',\n",
        "  'Japan',\n",
        "  'Jordan',\n",
        "  'Kazakhstan',\n",
        "  'Kenya',\n",
        "  'Kiribati',\n",
        "  'Korea, North',\n",
        "  'Korea, South',\n",
        "  'Kuwait',\n",
        "  'Kyrgyzstan',\n",
        "  'Laos',\n",
        "  'Latvia',\n",
        "  'Lebanon',\n",
        "  'Lesotho',\n",
        "  'Liberia',\n",
        "  'Libya',\n",
        "  'Liechtenstein',\n",
        "  'Lithuania',\n",
        "  'Luxembourg',\n",
        "  'Macedonia',\n",
        "  'Madagascar',\n",
        "  'Malawi',\n",
        "  'Malaysia',\n",
        "  'Maldives',\n",
        "  'Mali',\n",
        "  'Malta',\n",
        "  'Marshall Islands',\n",
        "  'Mauritania',\n",
        "  'Mauritius',\n",
        "  'Mexico',\n",
        "  'Micronesia',\n",
        "  'Moldova',\n",
        "  'Monaco',\n",
        "  'Mongolia',\n",
        "  'Morocco',\n",
        "  'Mozambique',\n",
        "  'Myanmar',\n",
        "  'Namibia',\n",
        "  'Nauru',\n",
        "  'Nepal',\n",
        "  'Netherlands',\n",
        "  'New Zealand',\n",
        "  'Nicaragua',\n",
        "  'Niger',\n",
        "  'Nigeria',\n",
        "  'Norway',\n",
        "  'Oman',\n",
        "  'Pakistan',\n",
        "  'Palau',\n",
        "  'Panama',\n",
        "  'Papua New Guinea',\n",
        "  'Paraguay',\n",
        "  'Peru',\n",
        "  'Philippines',\n",
        "  'Poland',\n",
        "  'Portugal',\n",
        "  'Qatar',\n",
        "  'Romania',\n",
        "  'Russia',\n",
        "  'Rwanda',\n",
        "  'Saint Kitts and Nevis',\n",
        "  'Saint Lucia',\n",
        "  'Saint Vincent',\n",
        "  'Samoa',\n",
        "  'San Marino',\n",
        "  'Sao Tome and Principe',\n",
        "  'Saudi Arabia',\n",
        "  'Senegal',\n",
        "  'Serbia and Montenegro',\n",
        "  'Seychelles',\n",
        "  'Sierra Leone',\n",
        "  'Singapore',\n",
        "  'Slovakia',\n",
        "  'Slovenia',\n",
        "  'Solomon Islands',\n",
        "  'Somalia',\n",
        "  'South Africa',\n",
        "  'Spain',\n",
        "  'Sri Lanka',\n",
        "  'Sudan',\n",
        "  'Suriname',\n",
        "  'Swaziland',\n",
        "  'Sweden',\n",
        "  'Switzerland',\n",
        "  'Syria',\n",
        "  'Taiwan',\n",
        "  'Tajikistan',\n",
        "  'Tanzania',\n",
        "  'Thailand',\n",
        "  'Togo',\n",
        "  'Tonga',\n",
        "  'Trinidad and Tobago',\n",
        "  'Tunisia',\n",
        "  'Turkey',\n",
        "  'Turkmenistan',\n",
        "  'Tuvalu',\n",
        "  'Uganda',\n",
        "  'Ukraine',\n",
        "  'United Arab Emirates',\n",
        "  'United Kingdom',\n",
        "  'United States',\n",
        "  'Uruguay',\n",
        "  'Uzbekistan',\n",
        "  'Vanuatu',\n",
        "  'Vatican City',\n",
        "  'Venezuela',\n",
        "  'Vietnam',\n",
        "  'Yemen',\n",
        "  'Zambia',\n",
        "  'Zimbabwe',\n",
        "];"
      ],
      "metadata": {
        "id": "3y6XRNqDC9R1"
      },
      "execution_count": 93,
      "outputs": []
    },
    {
      "cell_type": "code",
      "source": [
        "indice = len(countries) // 2\n",
        "print(countries[indice])"
      ],
      "metadata": {
        "colab": {
          "base_uri": "https://localhost:8080/"
        },
        "id": "y9QlvWqDDNN9",
        "outputId": "96d50e1a-7acd-4db5-a56f-40dffb751979"
      },
      "execution_count": 102,
      "outputs": [
        {
          "output_type": "stream",
          "name": "stdout",
          "text": [
            "Lesotho\n"
          ]
        }
      ]
    },
    {
      "cell_type": "markdown",
      "source": [
        "2. Dividir la lista de países en dos listas iguales si es aunque no sea un país más para la primera mitad."
      ],
      "metadata": {
        "id": "LotwySFSDvIa"
      }
    },
    {
      "cell_type": "code",
      "source": [
        "indice = len(countries) // 2\n",
        "country_list1 = countries[:indice]\n",
        "country_list2 = countries[-indice:]\n",
        "len(country_list1)"
      ],
      "metadata": {
        "colab": {
          "base_uri": "https://localhost:8080/"
        },
        "id": "R9fyTy_3DwsD",
        "outputId": "6a366047-10d7-49f9-dd68-55e6d4eb5890"
      },
      "execution_count": 107,
      "outputs": [
        {
          "output_type": "execute_result",
          "data": {
            "text/plain": [
              "96"
            ]
          },
          "metadata": {},
          "execution_count": 107
        }
      ]
    },
    {
      "cell_type": "markdown",
      "source": [
        "3. ['China', 'Rusia', 'EE. UU.', 'Finlandia', 'Suecia', 'Noruega', 'Dinamarca']. Descomprima los primeros tres países y el resto como países escandinavos."
      ],
      "metadata": {
        "id": "hiszDRf_G7sA"
      }
    },
    {
      "cell_type": "code",
      "source": [
        "pais1, pais2, pais3, *paises_escandinavos = ['China', 'Rusia', 'EE. UU.', 'Finlandia', 'Suecia', 'Noruega', 'Dinamarca']\n",
        "\n",
        "print(pais1, pais2, pais3, paises_escandinavos)"
      ],
      "metadata": {
        "colab": {
          "base_uri": "https://localhost:8080/"
        },
        "id": "0tMSfNcCH8Je",
        "outputId": "1bfbe74f-e65f-4739-a1f4-9d5b5a9e0464"
      },
      "execution_count": 108,
      "outputs": [
        {
          "output_type": "stream",
          "name": "stdout",
          "text": [
            "China Rusia EE. UU. ['Finlandia', 'Suecia', 'Noruega', 'Dinamarca']\n"
          ]
        }
      ]
    }
  ]
}