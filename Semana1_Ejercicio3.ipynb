{
  "nbformat": 4,
  "nbformat_minor": 0,
  "metadata": {
    "colab": {
      "name": "Semana1 - Ejercicio3.ipynb",
      "provenance": [],
      "authorship_tag": "ABX9TyOBgSNHaxXJInLpJ9H6VLR1",
      "include_colab_link": true
    },
    "kernelspec": {
      "name": "python3",
      "display_name": "Python 3"
    },
    "language_info": {
      "name": "python"
    }
  },
  "cells": [
    {
      "cell_type": "markdown",
      "metadata": {
        "id": "view-in-github",
        "colab_type": "text"
      },
      "source": [
        "<a href=\"https://colab.research.google.com/github/hermesvillarreal/CursoPythonDesde0/blob/main/Semana1_Ejercicio3.ipynb\" target=\"_parent\"><img src=\"https://colab.research.google.com/assets/colab-badge.svg\" alt=\"Open In Colab\"/></a>"
      ]
    },
    {
      "cell_type": "markdown",
      "source": [
        "**Ejercicio 3**\n",
        "\n",
        "Escribe un programa que pregunte al usuario el numero de horas trabajadas y el costo por hora.  Después debe mostrar por pantalla la paga que le corresponde."
      ],
      "metadata": {
        "id": "uyxMsAWgE5x4"
      }
    },
    {
      "cell_type": "code",
      "execution_count": null,
      "metadata": {
        "colab": {
          "base_uri": "https://localhost:8080/"
        },
        "id": "hvmNYWSQE1GI",
        "outputId": "fc6b5626-6730-4674-c199-3d1038d3bf0a"
      },
      "outputs": [
        {
          "name": "stdout",
          "output_type": "stream",
          "text": [
            "Numero de horas trabajadas: 40\n",
            "Costo por hora: 10\n"
          ]
        }
      ],
      "source": [
        "ht = int(input(\"Numero de horas trabajadas: \"))\n",
        "ch = float(input(\"Costo por hora: \"))"
      ]
    },
    {
      "cell_type": "code",
      "source": [
        "pago = ht * ch\n",
        "print(\"Paga que corresponde {pg:.2f} dolares\".format(pg = pago))"
      ],
      "metadata": {
        "colab": {
          "base_uri": "https://localhost:8080/"
        },
        "id": "WSPFYVVnFq8P",
        "outputId": "96718dea-8f99-4ddd-f406-4471ed54f135"
      },
      "execution_count": null,
      "outputs": [
        {
          "output_type": "stream",
          "name": "stdout",
          "text": [
            "Paga que corresponde 400.00 dolares\n"
          ]
        }
      ]
    }
  ]
}