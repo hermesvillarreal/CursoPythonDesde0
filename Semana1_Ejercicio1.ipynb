{
  "nbformat": 4,
  "nbformat_minor": 0,
  "metadata": {
    "colab": {
      "name": "Semana1 - Ejercicio1.ipynb",
      "provenance": [],
      "authorship_tag": "ABX9TyMkicauO4FFQPasP6yrSwca",
      "include_colab_link": true
    },
    "kernelspec": {
      "name": "python3",
      "display_name": "Python 3"
    },
    "language_info": {
      "name": "python"
    }
  },
  "cells": [
    {
      "cell_type": "markdown",
      "metadata": {
        "id": "view-in-github",
        "colab_type": "text"
      },
      "source": [
        "<a href=\"https://colab.research.google.com/github/hermesvillarreal/CursoPythonDesde0/blob/main/Semana1_Ejercicio1.ipynb\" target=\"_parent\"><img src=\"https://colab.research.google.com/assets/colab-badge.svg\" alt=\"Open In Colab\"/></a>"
      ]
    },
    {
      "cell_type": "markdown",
      "source": [
        "**Ejercicio N1**\n",
        "\n",
        "Escribir un programa que pregunte el nombre del usuario en la consola (funcion vista en la clase del sábado) y después que el usuario lo introduzca muestre por pantalla la cadena ¡Hola <nombre>!, donde <nombre> es el nombre que el usuario haya introducido."
      ],
      "metadata": {
        "id": "zjMvwiAc-xEi"
      }
    },
    {
      "cell_type": "code",
      "execution_count": null,
      "metadata": {
        "id": "dnO8bSg0p17o",
        "colab": {
          "base_uri": "https://localhost:8080/"
        },
        "outputId": "1a903e7f-ab2e-4bce-a696-f80b0c486731"
      },
      "outputs": [
        {
          "name": "stdout",
          "output_type": "stream",
          "text": [
            "Nombre de Usuario: \n",
            "Hermes\n"
          ]
        }
      ],
      "source": [
        "print (\"Nombre de Usuario: \")\n",
        "nombre = input()"
      ]
    },
    {
      "cell_type": "code",
      "source": [
        "print(\"¡Hola  {}!\".format(nombre))"
      ],
      "metadata": {
        "colab": {
          "base_uri": "https://localhost:8080/"
        },
        "id": "-uqbAJSzAdck",
        "outputId": "e03f9349-80f8-4e18-bf24-c2c66ea45ced"
      },
      "execution_count": null,
      "outputs": [
        {
          "output_type": "stream",
          "name": "stdout",
          "text": [
            "¡Hola  Hermes!\n"
          ]
        }
      ]
    }
  ]
}