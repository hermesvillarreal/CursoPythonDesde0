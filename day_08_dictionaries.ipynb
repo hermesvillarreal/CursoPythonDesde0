{
  "nbformat": 4,
  "nbformat_minor": 0,
  "metadata": {
    "colab": {
      "provenance": [],
      "authorship_tag": "ABX9TyO/J2ytKg72XHN0rEpiBrQB",
      "include_colab_link": true
    },
    "kernelspec": {
      "name": "python3",
      "display_name": "Python 3"
    },
    "language_info": {
      "name": "python"
    }
  },
  "cells": [
    {
      "cell_type": "markdown",
      "metadata": {
        "id": "view-in-github",
        "colab_type": "text"
      },
      "source": [
        "<a href=\"https://colab.research.google.com/github/hermesvillarreal/CursoPythonDesde0/blob/main/day_08_dictionaries.ipynb\" target=\"_parent\"><img src=\"https://colab.research.google.com/assets/colab-badge.svg\" alt=\"Open In Colab\"/></a>"
      ]
    },
    {
      "cell_type": "markdown",
      "source": [
        "# Ejercicios: Día 8"
      ],
      "metadata": {
        "id": "1g250mPAXKRh"
      }
    },
    {
      "cell_type": "markdown",
      "source": [
        "1. Crea un diccionario vacío llamado perro\n"
      ],
      "metadata": {
        "id": "CNHe6wf_XKaS"
      }
    },
    {
      "cell_type": "code",
      "source": [
        "perro = {}"
      ],
      "metadata": {
        "id": "CFdV7R5kX0LC"
      },
      "execution_count": 13,
      "outputs": []
    },
    {
      "cell_type": "markdown",
      "source": [
        "2. Agregue nombre, color, raza, patas, edad al diccionario de perros"
      ],
      "metadata": {
        "id": "JxRVh3kYXK0i"
      }
    },
    {
      "cell_type": "code",
      "source": [
        "perro['nombre'] = 'Luna'\n",
        "perro['color'] = 'Blanco/Crema'\n",
        "perro['raza'] = 'Shih Tzu'\n",
        "perro['patas'] = 4\n",
        "perro['edad'] = 3\n",
        "\n",
        "print(perro)"
      ],
      "metadata": {
        "colab": {
          "base_uri": "https://localhost:8080/"
        },
        "id": "FgmOWgD8YPTA",
        "outputId": "4926abf8-417f-4be2-b8a3-3bd3f8a6544b"
      },
      "execution_count": 15,
      "outputs": [
        {
          "output_type": "stream",
          "name": "stdout",
          "text": [
            "{'nombre': 'Luna', 'color': 'Blanco/Crema', 'raza': 'Shih Tzu', 'patas': 4, 'edad': 3}\n"
          ]
        }
      ]
    },
    {
      "cell_type": "markdown",
      "source": [
        "3. Cree un diccionario para estudiantes y agregue nombre, apellido, sexo, edad, estado civil, habilidades, país, ciudad y dirección como claves para el diccionario."
      ],
      "metadata": {
        "id": "8yGO_FMQXK99"
      }
    },
    {
      "cell_type": "code",
      "source": [
        "estudiantes = {\n",
        "    'nombre': 'Hermes',\n",
        "    'apellido': 'Villarreal',\n",
        "    'sexo': 'Masculino',\n",
        "    'edad': 45,\n",
        "    'estado civil': 'Casado',\n",
        "    'habilidades': ['conductor','programador python','lider'],\n",
        "    'pais': 'Panamá',\n",
        "    'ciudad': 'Panamá',\n",
        "    'direccion': 'Bethania'\n",
        "}\n",
        "\n",
        "print(estudiantes)"
      ],
      "metadata": {
        "colab": {
          "base_uri": "https://localhost:8080/"
        },
        "id": "Tai2IyY6bmJY",
        "outputId": "e316ef8f-a65c-44c3-e9c9-31b625b2cd46"
      },
      "execution_count": 32,
      "outputs": [
        {
          "output_type": "stream",
          "name": "stdout",
          "text": [
            "{'nombre': 'Hermes', 'apellido': 'Villarreal', 'sexo': 'Masculino', 'edad': 45, 'estado civil': 'Casado', 'habilidades': ['conductor', 'programador python', 'lider'], 'pais': 'Panamá', 'ciudad': 'Panamá', 'direccion': 'Bethania'}\n"
          ]
        }
      ]
    },
    {
      "cell_type": "markdown",
      "source": [
        "4. Obtener la longitud del diccionario del estudiante"
      ],
      "metadata": {
        "id": "VOl8QQm-XLGz"
      }
    },
    {
      "cell_type": "code",
      "source": [
        "len(estudiantes)"
      ],
      "metadata": {
        "colab": {
          "base_uri": "https://localhost:8080/"
        },
        "id": "mp1JjE7EdhMj",
        "outputId": "df758e4f-c552-4cb5-d566-2050ff7b2d2f"
      },
      "execution_count": 33,
      "outputs": [
        {
          "output_type": "execute_result",
          "data": {
            "text/plain": [
              "9"
            ]
          },
          "metadata": {},
          "execution_count": 33
        }
      ]
    },
    {
      "cell_type": "markdown",
      "source": [
        "5. Obtenga el valor de las habilidades y verifique el tipo de datos, debe ser una lista"
      ],
      "metadata": {
        "id": "R0QRaWpcXLPg"
      }
    },
    {
      "cell_type": "code",
      "source": [
        "print(estudiantes['habilidades'])\n",
        "print(type(estudiantes['habilidades']))"
      ],
      "metadata": {
        "colab": {
          "base_uri": "https://localhost:8080/"
        },
        "id": "94LBuGvcdpIy",
        "outputId": "865b14a7-ab90-4edb-b450-d34051f7cc3e"
      },
      "execution_count": 34,
      "outputs": [
        {
          "output_type": "stream",
          "name": "stdout",
          "text": [
            "['conductor', 'programador python', 'lider']\n",
            "<class 'list'>\n"
          ]
        }
      ]
    },
    {
      "cell_type": "markdown",
      "source": [
        "6. Modifique los valores de las habilidades agregando una o dos habilidades"
      ],
      "metadata": {
        "id": "rbFp1_b9XLYi"
      }
    },
    {
      "cell_type": "code",
      "source": [
        "estudiantes['habilidades'].append('corredor')\n",
        "estudiantes['habilidades'].append('creativo')\n",
        "print(estudiantes['habilidades'])"
      ],
      "metadata": {
        "colab": {
          "base_uri": "https://localhost:8080/"
        },
        "id": "TBCJ6TsId8rt",
        "outputId": "64ddc58d-41a7-49e3-bc7c-57468b80cef5"
      },
      "execution_count": 35,
      "outputs": [
        {
          "output_type": "stream",
          "name": "stdout",
          "text": [
            "['conductor', 'programador python', 'lider', 'corredor', 'creativo']\n"
          ]
        }
      ]
    },
    {
      "cell_type": "markdown",
      "source": [
        "7. Obtenga las claves del diccionario como una lista"
      ],
      "metadata": {
        "id": "vf1-JWveXLjq"
      }
    },
    {
      "cell_type": "code",
      "source": [
        "estudiantes.keys()"
      ],
      "metadata": {
        "colab": {
          "base_uri": "https://localhost:8080/"
        },
        "id": "S9anTDppeb55",
        "outputId": "b800b44c-101b-4df4-b565-d75f5af54f7f"
      },
      "execution_count": 36,
      "outputs": [
        {
          "output_type": "execute_result",
          "data": {
            "text/plain": [
              "dict_keys(['nombre', 'apellido', 'sexo', 'edad', 'estado civil', 'habilidades', 'pais', 'ciudad', 'direccion'])"
            ]
          },
          "metadata": {},
          "execution_count": 36
        }
      ]
    },
    {
      "cell_type": "markdown",
      "source": [
        "8. Obtenga los valores del diccionario como una lista"
      ],
      "metadata": {
        "id": "euNRLVOKXmak"
      }
    },
    {
      "cell_type": "code",
      "source": [
        "estudiantes.values()"
      ],
      "metadata": {
        "colab": {
          "base_uri": "https://localhost:8080/"
        },
        "id": "hWZHDEc8emZb",
        "outputId": "9a2485b3-0bf5-47bd-e77b-0b4b4080c24a"
      },
      "execution_count": 37,
      "outputs": [
        {
          "output_type": "execute_result",
          "data": {
            "text/plain": [
              "dict_values(['Hermes', 'Villarreal', 'Masculino', 45, 'Casado', ['conductor', 'programador python', 'lider', 'corredor', 'creativo'], 'Panamá', 'Panamá', 'Bethania'])"
            ]
          },
          "metadata": {},
          "execution_count": 37
        }
      ]
    },
    {
      "cell_type": "markdown",
      "source": [
        "9. Cambie el diccionario a una lista de tuplas usando el método items()"
      ],
      "metadata": {
        "id": "2WbappNZXmOE"
      }
    },
    {
      "cell_type": "code",
      "source": [
        "estudiantes.items()"
      ],
      "metadata": {
        "colab": {
          "base_uri": "https://localhost:8080/"
        },
        "id": "6E767ZFee_Df",
        "outputId": "afaaaacc-91fa-484e-eecc-4a984dc6ece8"
      },
      "execution_count": 26,
      "outputs": [
        {
          "output_type": "execute_result",
          "data": {
            "text/plain": [
              "dict_items([('nombre', 'Hermes'), ('apellido', 'Villarreal'), ('sexo', 'Masculino'), ('edad', 45), ('estado civil', 'Casado'), ('habilidades', ['conductor', 'programador python', 'lider', 'corredor', 'creativo']), ('pais', 'Panamá'), ('ciudad', 'Panamá'), ('direccion', 'Bethania')])"
            ]
          },
          "metadata": {},
          "execution_count": 26
        }
      ]
    },
    {
      "cell_type": "markdown",
      "source": [
        "10. Eliminar uno de los elementos del diccionario"
      ],
      "metadata": {
        "id": "N6tj-G94Xl9Z"
      }
    },
    {
      "cell_type": "code",
      "source": [
        "estudiantes.pop('ciudad')\n",
        "print(estudiantes)\n",
        "del estudiantes['direccion']\n",
        "print(estudiantes)"
      ],
      "metadata": {
        "colab": {
          "base_uri": "https://localhost:8080/"
        },
        "id": "_lVmhLX7fnPq",
        "outputId": "a22f0c53-5ebc-485c-a18a-797a4a173481"
      },
      "execution_count": 38,
      "outputs": [
        {
          "output_type": "stream",
          "name": "stdout",
          "text": [
            "{'nombre': 'Hermes', 'apellido': 'Villarreal', 'sexo': 'Masculino', 'edad': 45, 'estado civil': 'Casado', 'habilidades': ['conductor', 'programador python', 'lider', 'corredor', 'creativo'], 'pais': 'Panamá', 'direccion': 'Bethania'}\n",
            "{'nombre': 'Hermes', 'apellido': 'Villarreal', 'sexo': 'Masculino', 'edad': 45, 'estado civil': 'Casado', 'habilidades': ['conductor', 'programador python', 'lider', 'corredor', 'creativo'], 'pais': 'Panamá'}\n"
          ]
        }
      ]
    },
    {
      "cell_type": "markdown",
      "source": [
        "11. Eliminar uno de los diccionarios"
      ],
      "metadata": {
        "id": "RhrGQnjBXlbg"
      }
    },
    {
      "cell_type": "code",
      "source": [
        "del estudiantes"
      ],
      "metadata": {
        "id": "lMJLTKPLgAO5"
      },
      "execution_count": 39,
      "outputs": []
    }
  ]
}