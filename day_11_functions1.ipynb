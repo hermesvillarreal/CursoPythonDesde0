{
  "nbformat": 4,
  "nbformat_minor": 0,
  "metadata": {
    "colab": {
      "provenance": [],
      "collapsed_sections": [],
      "include_colab_link": true
    },
    "kernelspec": {
      "name": "python3",
      "display_name": "Python 3"
    },
    "language_info": {
      "name": "python"
    }
  },
  "cells": [
    {
      "cell_type": "markdown",
      "metadata": {
        "id": "view-in-github",
        "colab_type": "text"
      },
      "source": [
        "<a href=\"https://colab.research.google.com/github/hermesvillarreal/CursoPythonDesde0/blob/main/day_11_functions1.ipynb\" target=\"_parent\"><img src=\"https://colab.research.google.com/assets/colab-badge.svg\" alt=\"Open In Colab\"/></a>"
      ]
    },
    {
      "cell_type": "markdown",
      "source": [
        "# Exercises: Day 11"
      ],
      "metadata": {
        "id": "-2gWBndV0SK3"
      }
    },
    {
      "cell_type": "markdown",
      "source": [
        "## Exercises: Level 1"
      ],
      "metadata": {
        "id": "uGjrERO00avs"
      }
    },
    {
      "cell_type": "markdown",
      "source": [
        "1. Declare a function _add_two_numbers_. It takes two parameters and it returns a sum."
      ],
      "metadata": {
        "id": "uwSFPVSh0cT_"
      }
    },
    {
      "cell_type": "code",
      "source": [
        "def add_two_numbers(a, b):\n",
        "  return a + b\n",
        "\n",
        "print(add_two_numbers (5,4))"
      ],
      "metadata": {
        "colab": {
          "base_uri": "https://localhost:8080/"
        },
        "id": "NmKMRAom4AhM",
        "outputId": "0668f751-1daa-47e2-8bbc-47b039fd35bf"
      },
      "execution_count": null,
      "outputs": [
        {
          "output_type": "stream",
          "name": "stdout",
          "text": [
            "9\n"
          ]
        }
      ]
    },
    {
      "cell_type": "markdown",
      "source": [
        "2. Area of a circle is calculated as follows: area = π x r x r. Write a function that calculates _area_of_circle_."
      ],
      "metadata": {
        "id": "ckotXsgq1KUg"
      }
    },
    {
      "cell_type": "code",
      "source": [
        "def area_of_circle(r):\n",
        "  pi = 3.141592\n",
        "  return pi * r * r\n",
        "\n",
        "print(area_of_circle(10))"
      ],
      "metadata": {
        "colab": {
          "base_uri": "https://localhost:8080/"
        },
        "id": "GBPG8Mnk4A7h",
        "outputId": "24effe92-f5bc-4446-c364-3685f4e9bfc2"
      },
      "execution_count": null,
      "outputs": [
        {
          "output_type": "stream",
          "name": "stdout",
          "text": [
            "314.1592\n"
          ]
        }
      ]
    },
    {
      "cell_type": "markdown",
      "source": [
        "3. Write a function called add_all_nums which takes arbitrary number of arguments and sums all the arguments. Check if all the list items are number types. If not do give a reasonable feedback."
      ],
      "metadata": {
        "id": "2qnejLfg1KUg"
      }
    },
    {
      "cell_type": "code",
      "source": [
        "def add_all_nums(*nums):\n",
        "  return sum(nums)\n",
        "\n",
        "print(add_all_nums(1,2,3,4,5))"
      ],
      "metadata": {
        "colab": {
          "base_uri": "https://localhost:8080/"
        },
        "id": "FCifo8cs4B-U",
        "outputId": "834e318e-d264-4bd0-b276-e852c031c9d3"
      },
      "execution_count": null,
      "outputs": [
        {
          "output_type": "stream",
          "name": "stdout",
          "text": [
            "15\n"
          ]
        }
      ]
    },
    {
      "cell_type": "markdown",
      "source": [
        "4. Temperature in °C can be converted to °F using this formula: °F = (°C x 9/5) + 32. Write a function which converts °C to °F, _convert_celsius_to-fahrenheit_.\n"
      ],
      "metadata": {
        "id": "rBnPi_PX2t7c"
      }
    },
    {
      "cell_type": "code",
      "source": [
        "def convert_celsius_to_fahrenheit(c):\n",
        "  return (float(c) * 9 / 5) + 32\n",
        "\n",
        "print(convert_celsius_to_fahrenheit(100))"
      ],
      "metadata": {
        "colab": {
          "base_uri": "https://localhost:8080/"
        },
        "id": "fS6_9U3z4CXd",
        "outputId": "dfedd6ac-088a-403c-97de-216b92366087"
      },
      "execution_count": null,
      "outputs": [
        {
          "output_type": "stream",
          "name": "stdout",
          "text": [
            "212.0\n"
          ]
        }
      ]
    },
    {
      "cell_type": "markdown",
      "source": [
        "5. Write a function called check-season, it takes a month parameter and returns the season: Autumn, Winter, Spring or Summer."
      ],
      "metadata": {
        "id": "4njNvYgC22DB"
      }
    },
    {
      "cell_type": "code",
      "source": [
        "def check_season(month):\n",
        "  seasons = 'Autumn Winter Spring Summer'.split()\n",
        "  months = 'sep oct nov dec jan feb mar apr may jun jul aug'.split()\n",
        "  try:\n",
        "    return seasons[(months.index(month)) // 3]\n",
        "  except ValueError:\n",
        "    return 'Invalid Month: Should be [jan feb mar apr may jun jul aug sep oct nov dec]'\n",
        "\n",
        "check_season('mar')"
      ],
      "metadata": {
        "colab": {
          "base_uri": "https://localhost:8080/",
          "height": 35
        },
        "id": "oYvIBYWN2tHQ",
        "outputId": "d97e4b91-3781-4816-bb98-46858c5546a8"
      },
      "execution_count": null,
      "outputs": [
        {
          "output_type": "execute_result",
          "data": {
            "text/plain": [
              "'Spring'"
            ],
            "application/vnd.google.colaboratory.intrinsic+json": {
              "type": "string"
            }
          },
          "metadata": {},
          "execution_count": 53
        }
      ]
    },
    {
      "cell_type": "markdown",
      "source": [
        "6. Write a function called calculate_slope which return the slope of a linear equation\n"
      ],
      "metadata": {
        "id": "Z0JmKMf33CPY"
      }
    },
    {
      "cell_type": "code",
      "source": [
        "def calculate_slope(x1,y1,x2,y2): \n",
        "  '''\n",
        "  Y = mX + b\n",
        "  '''\n",
        "  m = (y2 - y1) / (x2 - x1)\n",
        "  return m\n",
        "\n",
        "print(calculate_slope(4,5,8,10))"
      ],
      "metadata": {
        "colab": {
          "base_uri": "https://localhost:8080/"
        },
        "id": "2cAwtypH4DjZ",
        "outputId": "09191ec2-6621-4ca0-e0cd-bba426e1ca7b"
      },
      "execution_count": null,
      "outputs": [
        {
          "output_type": "stream",
          "name": "stdout",
          "text": [
            "1.25\n"
          ]
        }
      ]
    },
    {
      "cell_type": "markdown",
      "source": [
        "7. Quadratic equation is calculated as follows: ax² + bx + c = 0. Write a function which calculates solution set of a quadratic equation, _solve_quadratic_eqn_.\n",
        "\n",
        "![image.png](data:image/png;base64,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)\n"
      ],
      "metadata": {
        "id": "_rg-QHHW3E70"
      }
    },
    {
      "cell_type": "code",
      "source": [
        "def solve_quadratic_eqn(A, B, C):\n",
        "  '''\n",
        "  Ax**2 + Bx + C = 0\n",
        "  '''\n",
        "  if ((B**2)-4*A*C) < 0:\n",
        "    print(\"La solución de la ecuación es con numeros complejos\")\n",
        "  else:\n",
        "    x1 = (-B+(B**2-(4*A*C))**(0.5))/(2*A)  # Fórmula de Bhaskara parte positiva\n",
        "    x2 = (-B-(B**2-(4*A*C))**(0.5))/(2*A)  # Fórmula de Bhaskara parte negativa\n",
        "    print(\"Las soluciones de la ecuación son:\")\n",
        "    print(x1)\n",
        "    print(x2)\n",
        "\n",
        "solve_quadratic_eqn(2, -7, 3)"
      ],
      "metadata": {
        "colab": {
          "base_uri": "https://localhost:8080/"
        },
        "id": "SiSAVAw-4D_N",
        "outputId": "907db294-daa5-45f7-e63a-d9dbec97355d"
      },
      "execution_count": null,
      "outputs": [
        {
          "output_type": "stream",
          "name": "stdout",
          "text": [
            "Las soluciones de la ecuación son:\n",
            "3.0\n",
            "0.5\n"
          ]
        }
      ]
    },
    {
      "cell_type": "markdown",
      "source": [
        "8. Declare a function named print_list. It takes a list as a parameter and it prints out each element of the list.\n"
      ],
      "metadata": {
        "id": "_KHGRhUE3HCe"
      }
    },
    {
      "cell_type": "code",
      "source": [
        "def print_list(lista):\n",
        "  for elemento in lista:\n",
        "    print(elemento)\n",
        "\n",
        "l1 = [1, 2, 3, 'cuatro', {'a', 'b'}]\n",
        "print_list(l1) "
      ],
      "metadata": {
        "colab": {
          "base_uri": "https://localhost:8080/"
        },
        "id": "ZA73Fkie4ESK",
        "outputId": "96d81214-d6dc-4040-a2f9-94ff815e8135"
      },
      "execution_count": null,
      "outputs": [
        {
          "output_type": "stream",
          "name": "stdout",
          "text": [
            "1\n",
            "2\n",
            "3\n",
            "cuatro\n",
            "{'b', 'a'}\n"
          ]
        }
      ]
    },
    {
      "cell_type": "markdown",
      "source": [
        "9. Declare a function named reverse_list. It takes an array as a parameter and it returns the reverse of the array (use loops).\n",
        "\n",
        "```py\n",
        "print(reverse_list([1, 2, 3, 4, 5]))\n",
        "# [5, 4, 3, 2, 1]\n",
        "print(reverse_list1([\"A\", \"B\", \"C\"]))\n",
        "# [\"C\", \"B\", \"A\"]\n",
        "```\n"
      ],
      "metadata": {
        "id": "agSQjecP3I9V"
      }
    },
    {
      "cell_type": "code",
      "source": [
        "def reverse_list(lista):\n",
        "  rlist = []\n",
        "  for elemento in lista[::-1]:\n",
        "    rlist.append(elemento)\n",
        "  return rlist\n",
        "\n",
        "print(reverse_list([\"A\", \"B\", \"C\"])) "
      ],
      "metadata": {
        "colab": {
          "base_uri": "https://localhost:8080/"
        },
        "id": "x1SUUkEE4GmC",
        "outputId": "a799d9cb-40ab-4eb9-bbd5-b289448dfd8e"
      },
      "execution_count": null,
      "outputs": [
        {
          "output_type": "stream",
          "name": "stdout",
          "text": [
            "['C', 'B', 'A']\n"
          ]
        }
      ]
    },
    {
      "cell_type": "markdown",
      "source": [
        "10. Declare a function named capitalize_list_items. It takes a list as a parameter and it returns a capitalized list of items\n"
      ],
      "metadata": {
        "id": "TurltHJc3Moc"
      }
    },
    {
      "cell_type": "code",
      "source": [
        "def capitalize_list_items(lista):\n",
        "  clist = []\n",
        "  for elemento in lista:\n",
        "    clist.append(elemento.upper())\n",
        "  return clist\n",
        "\n",
        "capitalize_list_items(['ene', 'feb', 'mar'])"
      ],
      "metadata": {
        "colab": {
          "base_uri": "https://localhost:8080/"
        },
        "id": "EhImkTPH4HAH",
        "outputId": "efef8f2d-405e-4a8f-8e71-d25005ce5eaa"
      },
      "execution_count": null,
      "outputs": [
        {
          "output_type": "execute_result",
          "data": {
            "text/plain": [
              "['ENE', 'FEB', 'MAR']"
            ]
          },
          "metadata": {},
          "execution_count": 73
        }
      ]
    },
    {
      "cell_type": "markdown",
      "source": [
        "11. Declare a function named add_item. It takes a list and an item parameters. It returns a list with the item added at the end.\n",
        "\n",
        "```py\n",
        "food_staff = ['Potato', 'Tomato', 'Mango', 'Milk'];\n",
        "print(add_item(food_staff, 'Meat'))     # ['Potato', 'Tomato', 'Mango', 'Milk','Meat'];\n",
        "numbers = [2, 3, 7, 9];\n",
        "print(add_item(numbers, 5))      [2, 3, 7, 9, 5]\n",
        "```\n",
        "\n"
      ],
      "metadata": {
        "id": "wRTTbFlP3QID"
      }
    },
    {
      "cell_type": "code",
      "execution_count": 5,
      "metadata": {
        "id": "3UDR3rTh0D9h",
        "colab": {
          "base_uri": "https://localhost:8080/"
        },
        "outputId": "6d24d12a-2b6f-4110-be30-02a9afc7da9a"
      },
      "outputs": [
        {
          "output_type": "stream",
          "name": "stdout",
          "text": [
            "['Potato', 'Tomato', 'Mango', 'Milk', 'Meat']\n",
            "[2, 3, 7, 9, 5]\n"
          ]
        }
      ],
      "source": [
        "def add_item(lista, item):\n",
        "  lista.append(item)\n",
        "  return lista\n",
        "\n",
        "food_staff = ['Potato', 'Tomato', 'Mango', 'Milk'];\n",
        "print(add_item(food_staff, 'Meat')) \n",
        "\n",
        "numbers = [2, 3, 7, 9];\n",
        "print(add_item(numbers, 5))"
      ]
    },
    {
      "cell_type": "markdown",
      "source": [
        "12. Declare a function named remove_item. It takes a list and an item parameters. It returns a list with the item removed from it.\n",
        "\n",
        "```py\n",
        "food_staff = ['Potato', 'Tomato', 'Mango', 'Milk'];\n",
        "print(remove_item(food_staff, 'Mango'))  # ['Potato', 'Tomato', 'Milk'];\n",
        "numbers = [2, 3, 7, 9];\n",
        "print(remove_item(numbers, 3))  # [2, 7, 9]\n",
        "```\n",
        "\n"
      ],
      "metadata": {
        "id": "5UlU9_ny3Ttq"
      }
    },
    {
      "cell_type": "code",
      "source": [
        "def remove_item(lista, item):\n",
        "  lista.remove(item)\n",
        "  return lista\n",
        "\n",
        "food_staff = ['Potato', 'Tomato', 'Mango', 'Milk'];\n",
        "print(remove_item(food_staff, 'Mango'))  # ['Potato', 'Tomato', 'Milk'];\n",
        "numbers = [2, 3, 7, 9];\n",
        "print(remove_item(numbers, 3))  # [2, 7, 9]"
      ],
      "metadata": {
        "id": "a3zPZTYT4Ifq",
        "colab": {
          "base_uri": "https://localhost:8080/"
        },
        "outputId": "d1c213a6-362d-4016-8d6b-a3d98c2640b6"
      },
      "execution_count": 6,
      "outputs": [
        {
          "output_type": "stream",
          "name": "stdout",
          "text": [
            "['Potato', 'Tomato', 'Milk']\n",
            "[2, 7, 9]\n"
          ]
        }
      ]
    },
    {
      "cell_type": "markdown",
      "source": [
        "13. Declare a function named sum_of_numbers. It takes a number parameter and it adds all the numbers in that range.\n",
        "\n",
        "```py\n",
        "print(sum_of_numbers(5))  # 15\n",
        "print(sum_all_numbers(10)) # 55\n",
        "print(sum_all_numbers(100)) # 5050\n",
        "```\n",
        "\n"
      ],
      "metadata": {
        "id": "sXLY4qJ03WZP"
      }
    },
    {
      "cell_type": "code",
      "source": [
        "def sum_of_numbers(n):\n",
        "  return int(n * (n + 1) / 2)\n",
        "\n",
        "print(sum_of_numbers(5))  # 15\n",
        "print(sum_of_numbers(10)) # 55\n",
        "print(sum_of_numbers(100)) # 5050"
      ],
      "metadata": {
        "id": "Qv0blmHf4JoA",
        "colab": {
          "base_uri": "https://localhost:8080/"
        },
        "outputId": "db403671-8867-4478-b744-8252d30dee80"
      },
      "execution_count": 8,
      "outputs": [
        {
          "output_type": "stream",
          "name": "stdout",
          "text": [
            "15\n",
            "55\n",
            "5050\n"
          ]
        }
      ]
    },
    {
      "cell_type": "markdown",
      "source": [
        "14. Declare a function named sum_of_odds. It takes a number parameter and it adds all the odd numbers in that range.\n"
      ],
      "metadata": {
        "id": "wegY15Fh3YsE"
      }
    },
    {
      "cell_type": "code",
      "source": [
        "def sum_of_odds(n):\n",
        "  return sum(range(1,n+1,2))\n",
        "\n",
        "print(sum_of_odds(5))"
      ],
      "metadata": {
        "id": "GAY0RH2Y4KCz",
        "colab": {
          "base_uri": "https://localhost:8080/"
        },
        "outputId": "61415031-90f0-4f4a-9321-4144fe93c7da"
      },
      "execution_count": 9,
      "outputs": [
        {
          "output_type": "stream",
          "name": "stdout",
          "text": [
            "9\n"
          ]
        }
      ]
    },
    {
      "cell_type": "markdown",
      "source": [
        "15. Declare a function named sum_of_even. It takes a number parameter and it adds all the even numbers in that - range.\n"
      ],
      "metadata": {
        "id": "85RDsPaT3asL"
      }
    },
    {
      "cell_type": "code",
      "source": [
        "def sum_of_even(n):\n",
        "  return sum(range(0,n+1,2))\n",
        "\n",
        "print(sum_of_even(5))"
      ],
      "metadata": {
        "id": "m0UA7qrQ4LL4",
        "colab": {
          "base_uri": "https://localhost:8080/"
        },
        "outputId": "d90896dc-832e-45cd-a296-f2e01cb7e850"
      },
      "execution_count": 11,
      "outputs": [
        {
          "output_type": "stream",
          "name": "stdout",
          "text": [
            "6\n"
          ]
        }
      ]
    },
    {
      "cell_type": "markdown",
      "source": [
        "## Exercises: Level 2\n"
      ],
      "metadata": {
        "id": "Fqpc4n5-3k5W"
      }
    },
    {
      "cell_type": "markdown",
      "source": [
        "1.  Declare a function named evens_and_odds . It takes a positive integer as parameter and it counts number of evens and odds in the number.\n",
        "\n",
        "```py\n",
        "    print(evens_and_odds(100))\n",
        "    # The number of odds are 50.\n",
        "    # The number of evens are 51.\n",
        "```\n",
        "\n"
      ],
      "metadata": {
        "id": "eKaJtKxv3m8_"
      }
    },
    {
      "cell_type": "code",
      "source": [
        "def evens_and_odds(n):\n",
        "  return f'The number of odds are {len(range(1,n+1,2))}.\\nThe number of evens are {len(range(0,n+1,2))}.'\n",
        "print(evens_and_odds(100))"
      ],
      "metadata": {
        "id": "Nk5XowrC4Lox",
        "colab": {
          "base_uri": "https://localhost:8080/"
        },
        "outputId": "f89251ed-6194-4727-a8bb-6f75f5fed7dd"
      },
      "execution_count": 14,
      "outputs": [
        {
          "output_type": "stream",
          "name": "stdout",
          "text": [
            "The number of odds are 50.\n",
            "The number of evens are 51.\n"
          ]
        }
      ]
    },
    {
      "cell_type": "markdown",
      "source": [
        "2. Call your function factorial, it takes a whole number as a parameter and it return a factorial of the number"
      ],
      "metadata": {
        "id": "eKYJqBF_3pff"
      }
    },
    {
      "cell_type": "code",
      "source": [
        "def factorial(n):\n",
        "  return n * factorial(n - 1) if n > 1 else 1\n",
        "\n",
        "factorial(5)"
      ],
      "metadata": {
        "id": "CuSBQwno4NBF",
        "colab": {
          "base_uri": "https://localhost:8080/"
        },
        "outputId": "0cbcd979-8ad7-446a-8501-830575236bd0"
      },
      "execution_count": 31,
      "outputs": [
        {
          "output_type": "execute_result",
          "data": {
            "text/plain": [
              "120"
            ]
          },
          "metadata": {},
          "execution_count": 31
        }
      ]
    },
    {
      "cell_type": "code",
      "source": [
        "def factorial_for(n):\n",
        "  f = 1\n",
        "  for i in range(1,n+1)[::-1]:\n",
        "    f = f * i\n",
        "  return f\n",
        "\n",
        "factorial_for(5)"
      ],
      "metadata": {
        "colab": {
          "base_uri": "https://localhost:8080/"
        },
        "id": "cpbGNF6fMu0S",
        "outputId": "fc1326cb-e08a-4b5e-8080-5f80a5fd019e"
      },
      "execution_count": 35,
      "outputs": [
        {
          "output_type": "execute_result",
          "data": {
            "text/plain": [
              "120"
            ]
          },
          "metadata": {},
          "execution_count": 35
        }
      ]
    },
    {
      "cell_type": "markdown",
      "source": [
        "3. Call your function _is_empty_, it takes a parameter and it checks if it is empty or not\n"
      ],
      "metadata": {
        "id": "F6atrbGX3rXn"
      }
    },
    {
      "cell_type": "code",
      "source": [
        "def is_empty(item):\n",
        "  return False if item else True\n",
        "\n",
        "var = ()\n",
        "print(is_empty(var))"
      ],
      "metadata": {
        "id": "DPM9_IbA4NSr",
        "colab": {
          "base_uri": "https://localhost:8080/"
        },
        "outputId": "6d7a5525-425a-42f9-c7ab-a767fa9dfdca"
      },
      "execution_count": 50,
      "outputs": [
        {
          "output_type": "stream",
          "name": "stdout",
          "text": [
            "True\n"
          ]
        }
      ]
    },
    {
      "cell_type": "markdown",
      "source": [
        "4. Write different functions which take lists. They should calculate_mean, calculate_median, calculate_mode, calculate_range, calculate_variance, calculate_std (standard deviation).\n"
      ],
      "metadata": {
        "id": "foCnJiao3tH_"
      }
    },
    {
      "cell_type": "code",
      "source": [
        "def calculate_mean(lista):\n",
        "  return sum(lista)/len(lista)\n",
        "\n",
        "def calculate_median(lista):\n",
        "    lista.sort()\n",
        "    mid = len(lista) // 2\n",
        "    return (lista[mid] + lista[mid+1]) / 2 if len(lista) % 2 else lista[mid]\n",
        "  \n",
        "def calculate_mode(lista):\n",
        "  mayor = 0\n",
        "  moda = []\n",
        "  for elemento in lista:\n",
        "    if elemento in moda:\n",
        "      continue\n",
        "    conteo = lista.count(elemento)\n",
        "    if conteo > mayor:\n",
        "      del moda[:]\n",
        "      moda.append(elemento)\n",
        "      mayor = conteo\n",
        "    elif conteo == mayor:\n",
        "      moda.append(elemento)\n",
        "  return moda\n",
        "\n",
        "def calculate_range(lista):\n",
        "  return (min(lista), max(lista))\n",
        "\n",
        "def calculate_variance(lista):\n",
        "  m = calculate_mean(lista)\n",
        "  return sum((xi - m) ** 2 for xi in lista) / len(lista)\n",
        "\n",
        "def calculate_std(lista):\n",
        "  return calculate_variance(lista)**0.5\n",
        "\n",
        "lista = [-14.82381293, -0.29423447, -13.56067979, -1.6288903, -0.31632439, 0.53459687, -1.34069996, -1.61042692, -4.03220519, -0.24332097]\n",
        "\n",
        "print(calculate_mean(lista))\n",
        "print(calculate_median(lista))\n",
        "print(calculate_mode(lista))\n",
        "print(calculate_range(lista))\n",
        "print(calculate_variance(lista))\n",
        "print(calculate_std(lista))"
      ],
      "metadata": {
        "id": "dre-sv3T4OPD",
        "colab": {
          "base_uri": "https://localhost:8080/"
        },
        "outputId": "eb5a6f73-92dc-49fd-ca73-f418b0dce4b0"
      },
      "execution_count": 87,
      "outputs": [
        {
          "output_type": "stream",
          "name": "stdout",
          "text": [
            "-3.731599804999999\n",
            "-1.34069996\n",
            "[-14.82381293, -13.56067979, -4.03220519, -1.6288903, -1.61042692, -1.34069996, -0.31632439, -0.29423447, -0.24332097, 0.53459687]\n",
            "(-14.82381293, 0.53459687)\n",
            "28.822364260579157\n",
            "5.36864640860051\n"
          ]
        }
      ]
    },
    {
      "cell_type": "markdown",
      "source": [
        "## Exercises: Level 3\n"
      ],
      "metadata": {
        "id": "8z1avnZ23vJB"
      }
    },
    {
      "cell_type": "markdown",
      "source": [
        "1. Write a function called is_prime, which checks if a number is prime.\n"
      ],
      "metadata": {
        "id": "UXYDJrEy3w9h"
      }
    },
    {
      "cell_type": "code",
      "source": [
        "def is_prime(n):\n",
        "  n = abs(n)\n",
        "  p = True\n",
        "  for i in range(2,n//2):\n",
        "    if n % i == 0:\n",
        "      p = False\n",
        "      break\n",
        "  return p\n",
        "\n",
        "print(is_prime(47))"
      ],
      "metadata": {
        "id": "bjXzTaHN4PqG",
        "colab": {
          "base_uri": "https://localhost:8080/"
        },
        "outputId": "b61487d1-e3c6-4889-b005-6900849c1c83"
      },
      "execution_count": 101,
      "outputs": [
        {
          "output_type": "stream",
          "name": "stdout",
          "text": [
            "True\n"
          ]
        }
      ]
    },
    {
      "cell_type": "markdown",
      "source": [
        "2. Write a functions which checks if all items are unique in the list.\n"
      ],
      "metadata": {
        "id": "ce9u2pLG3ywx"
      }
    },
    {
      "cell_type": "code",
      "source": [
        "def unique(lista):\n",
        "  return len(set(lista)) == len(lista)\n",
        "\n",
        "print(unique([1,2,3,4,5]))"
      ],
      "metadata": {
        "id": "QaDpp0zw4ROX",
        "colab": {
          "base_uri": "https://localhost:8080/"
        },
        "outputId": "70f38607-5d23-4769-8ac8-4232fe3b1474"
      },
      "execution_count": 104,
      "outputs": [
        {
          "output_type": "stream",
          "name": "stdout",
          "text": [
            "True\n"
          ]
        }
      ]
    },
    {
      "cell_type": "markdown",
      "source": [
        "3. Write a function which checks if all the items of the list are of the same data type.\n"
      ],
      "metadata": {
        "id": "7BqHGSB031QB"
      }
    },
    {
      "cell_type": "code",
      "source": [
        "def samedatatype(lista):\n",
        "  return len(set([type(item) for item in lista])) == 1\n",
        "\n",
        "print(samedatatype([1,2,3,4,5]))"
      ],
      "metadata": {
        "id": "rlBHYKRH4Q8_",
        "colab": {
          "base_uri": "https://localhost:8080/"
        },
        "outputId": "5052d83d-2d33-4b11-c1e4-0c81364904df"
      },
      "execution_count": 111,
      "outputs": [
        {
          "output_type": "stream",
          "name": "stdout",
          "text": [
            "False\n"
          ]
        }
      ]
    },
    {
      "cell_type": "markdown",
      "source": [
        "4. Write a function which check if provided variable is a valid python variable\n"
      ],
      "metadata": {
        "id": "PL6wyrvE33Dq"
      }
    },
    {
      "cell_type": "code",
      "source": [],
      "metadata": {
        "id": "2FfSgdrx4Qlc"
      },
      "execution_count": null,
      "outputs": []
    },
    {
      "cell_type": "markdown",
      "source": [
        "5. Go to the data folder and access the countries-data.py file.\n",
        "\n",
        "- Create a function called the most_spoken_languages in the world. It should return 10 or 20 most spoken languages in the world in descending order\n",
        "- Create a function called the most_populated_countries. It should return 10 or 20 most populated countries in descending order.\n"
      ],
      "metadata": {
        "id": "DqPtuu9134w0"
      }
    },
    {
      "cell_type": "code",
      "source": [],
      "metadata": {
        "id": "wqh25JHl4SxK"
      },
      "execution_count": null,
      "outputs": []
    }
  ]
}