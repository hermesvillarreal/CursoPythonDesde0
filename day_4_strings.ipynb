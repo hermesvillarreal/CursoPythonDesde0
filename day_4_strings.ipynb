{
  "nbformat": 4,
  "nbformat_minor": 0,
  "metadata": {
    "colab": {
      "provenance": [],
      "authorship_tag": "ABX9TyMM5zCTKptglTcdYL5Wt6fr",
      "include_colab_link": true
    },
    "kernelspec": {
      "name": "python3",
      "display_name": "Python 3"
    },
    "language_info": {
      "name": "python"
    }
  },
  "cells": [
    {
      "cell_type": "markdown",
      "metadata": {
        "id": "view-in-github",
        "colab_type": "text"
      },
      "source": [
        "<a href=\"https://colab.research.google.com/github/hermesvillarreal/30-Days-Of-Python-master/blob/main/day_4.ipynb\" target=\"_parent\"><img src=\"https://colab.research.google.com/assets/colab-badge.svg\" alt=\"Open In Colab\"/></a>"
      ]
    },
    {
      "cell_type": "markdown",
      "source": [
        "# Exercises - Day 4"
      ],
      "metadata": {
        "id": "xmUgv5Ibn4Jk"
      }
    },
    {
      "cell_type": "markdown",
      "source": [
        "1. Concatenate the string 'Thirty', 'Days', 'Of', 'Python' to a single string, 'Thirty Days Of Python'."
      ],
      "metadata": {
        "id": "k97G8gvcoDzk"
      }
    },
    {
      "cell_type": "code",
      "execution_count": 38,
      "metadata": {
        "id": "dIfoDLZ5iBS9"
      },
      "outputs": [],
      "source": [
        "v1, v2, v3, v4 = 'Thirty', 'Days', 'Of', 'Python'\n",
        "tdop = v1 + ' ' + v2 + ' ' + v3 + ' ' + v4"
      ]
    },
    {
      "cell_type": "markdown",
      "source": [
        "2. Concatenate the string 'Coding', 'For' , 'All' to a single string, 'Coding For All'."
      ],
      "metadata": {
        "id": "pWMYNccPpJNN"
      }
    },
    {
      "cell_type": "code",
      "source": [
        "v1, v2, v3 = 'Coding', 'For', 'All'\n",
        "string = ' '.join([v1, v2, v3])"
      ],
      "metadata": {
        "id": "FmbINRAQpKvE"
      },
      "execution_count": 35,
      "outputs": []
    },
    {
      "cell_type": "markdown",
      "source": [
        "3. Declare a variable named company and assign it to an initial value \"Coding For All\"."
      ],
      "metadata": {
        "id": "aPUZqIo5pl5D"
      }
    },
    {
      "cell_type": "code",
      "source": [
        "company = \"Coding For All\""
      ],
      "metadata": {
        "id": "DQMjTtPopnVk"
      },
      "execution_count": 72,
      "outputs": []
    },
    {
      "cell_type": "markdown",
      "source": [
        "4. Print the variable company using print()."
      ],
      "metadata": {
        "id": "Cdm-BugKp1iw"
      }
    },
    {
      "cell_type": "code",
      "source": [
        "print(company)"
      ],
      "metadata": {
        "colab": {
          "base_uri": "https://localhost:8080/"
        },
        "id": "1qCSo31qp3BI",
        "outputId": "ff642c1d-1f6c-4470-9508-82688948afca"
      },
      "execution_count": 37,
      "outputs": [
        {
          "output_type": "stream",
          "name": "stdout",
          "text": [
            "Coding For All\n"
          ]
        }
      ]
    },
    {
      "cell_type": "markdown",
      "source": [
        "5. Print the length of the company string using len() method and print()."
      ],
      "metadata": {
        "id": "sqkoAIpVqbr_"
      }
    },
    {
      "cell_type": "code",
      "source": [
        "print(len(company))"
      ],
      "metadata": {
        "colab": {
          "base_uri": "https://localhost:8080/"
        },
        "id": "7nyF_ZvwqiQt",
        "outputId": "eed04c39-6857-4591-aeb6-1793c9bf7700"
      },
      "execution_count": 71,
      "outputs": [
        {
          "output_type": "stream",
          "name": "stdout",
          "text": [
            "14\n"
          ]
        }
      ]
    },
    {
      "cell_type": "markdown",
      "source": [
        "6. Change all the characters to uppercase letters using upper() method."
      ],
      "metadata": {
        "id": "kUOwySbYrIBR"
      }
    },
    {
      "cell_type": "code",
      "source": [
        "print(company.upper())"
      ],
      "metadata": {
        "colab": {
          "base_uri": "https://localhost:8080/"
        },
        "id": "qKQkdiI6rJxL",
        "outputId": "58a5d3fb-7659-448f-d595-e6bbe89e74d9"
      },
      "execution_count": 40,
      "outputs": [
        {
          "output_type": "stream",
          "name": "stdout",
          "text": [
            "CODING FOR ALL\n"
          ]
        }
      ]
    },
    {
      "cell_type": "markdown",
      "source": [
        "7. Change all the characters to lowercase letters using lower() method"
      ],
      "metadata": {
        "id": "FVziOrbBrbHh"
      }
    },
    {
      "cell_type": "code",
      "source": [
        "print(company.lower())"
      ],
      "metadata": {
        "colab": {
          "base_uri": "https://localhost:8080/"
        },
        "id": "tuKNivkdrcyy",
        "outputId": "090d00e0-62cc-4e91-bb2c-79bfa21efcbd"
      },
      "execution_count": 41,
      "outputs": [
        {
          "output_type": "stream",
          "name": "stdout",
          "text": [
            "coding for all\n"
          ]
        }
      ]
    },
    {
      "cell_type": "markdown",
      "source": [
        "8. Use capitalize(), title(), swapcase() methods to format the value of the string Coding For All."
      ],
      "metadata": {
        "id": "OH3nG2r_r1ki"
      }
    },
    {
      "cell_type": "code",
      "source": [
        "print(company.capitalize())\n",
        "print(company.title())\n",
        "print(company.swapcase())"
      ],
      "metadata": {
        "colab": {
          "base_uri": "https://localhost:8080/"
        },
        "id": "ggDkHXmpr21h",
        "outputId": "6b9f448c-7b56-4abe-b67a-4ba49e481bea"
      },
      "execution_count": 73,
      "outputs": [
        {
          "output_type": "stream",
          "name": "stdout",
          "text": [
            "Coding for all\n",
            "Coding For All\n",
            "cODING fOR aLL\n"
          ]
        }
      ]
    },
    {
      "cell_type": "markdown",
      "source": [
        "9. Cut(slice) out the first word of Coding For All string."
      ],
      "metadata": {
        "id": "1yjlPh60sLN3"
      }
    },
    {
      "cell_type": "code",
      "source": [
        "print(company[company.find(' ')+1:])"
      ],
      "metadata": {
        "colab": {
          "base_uri": "https://localhost:8080/"
        },
        "id": "E54XNJL6sNYY",
        "outputId": "5498a9ef-2388-46a3-caaf-ee954f512678"
      },
      "execution_count": 74,
      "outputs": [
        {
          "output_type": "stream",
          "name": "stdout",
          "text": [
            "For All\n"
          ]
        }
      ]
    },
    {
      "cell_type": "markdown",
      "source": [
        "10. Check if Coding For All string contains a word Coding using the method index, find or other methods."
      ],
      "metadata": {
        "id": "ab39yKxmtzI3"
      }
    },
    {
      "cell_type": "code",
      "source": [
        "company.find('Coding') >= 0"
      ],
      "metadata": {
        "colab": {
          "base_uri": "https://localhost:8080/"
        },
        "id": "nyWY4vyDt0cG",
        "outputId": "11aa7aff-cf4b-456c-fd8e-673c9a8f8e77"
      },
      "execution_count": 75,
      "outputs": [
        {
          "output_type": "execute_result",
          "data": {
            "text/plain": [
              "True"
            ]
          },
          "metadata": {},
          "execution_count": 75
        }
      ]
    },
    {
      "cell_type": "markdown",
      "source": [
        "11. Replace the word coding in the string 'Coding For All' to Python."
      ],
      "metadata": {
        "id": "JkDt1irOuTSR"
      }
    },
    {
      "cell_type": "code",
      "source": [
        "print(company.replace('Coding', 'Python'))"
      ],
      "metadata": {
        "colab": {
          "base_uri": "https://localhost:8080/"
        },
        "id": "xKQwQJCsuVHi",
        "outputId": "4719c70e-554b-480c-a398-78a5e90761d9"
      },
      "execution_count": 76,
      "outputs": [
        {
          "output_type": "stream",
          "name": "stdout",
          "text": [
            "Python For All\n"
          ]
        }
      ]
    },
    {
      "cell_type": "markdown",
      "source": [
        "12. Change Python for Everyone to Python for All using the replace method or other methods."
      ],
      "metadata": {
        "id": "VXVC0ZZcuzLy"
      }
    },
    {
      "cell_type": "code",
      "source": [
        "print('Python for Everyone'.replace('Everyone','All'))"
      ],
      "metadata": {
        "colab": {
          "base_uri": "https://localhost:8080/"
        },
        "id": "AAKmY-_lu0h1",
        "outputId": "424b0706-570b-48b9-c725-6a0db7fc05ca"
      },
      "execution_count": 77,
      "outputs": [
        {
          "output_type": "stream",
          "name": "stdout",
          "text": [
            "Python for All\n"
          ]
        }
      ]
    },
    {
      "cell_type": "markdown",
      "source": [
        "13. Split the string 'Coding For All' using space as the separator (split()) ."
      ],
      "metadata": {
        "id": "UNP2fcsLxW-M"
      }
    },
    {
      "cell_type": "code",
      "source": [
        "print('Coding For All'.split())"
      ],
      "metadata": {
        "colab": {
          "base_uri": "https://localhost:8080/"
        },
        "id": "z49JOtYyvpA5",
        "outputId": "a4463a06-5629-49c0-9482-446a29c87e1e"
      },
      "execution_count": 78,
      "outputs": [
        {
          "output_type": "stream",
          "name": "stdout",
          "text": [
            "['Coding', 'For', 'All']\n"
          ]
        }
      ]
    },
    {
      "cell_type": "markdown",
      "source": [
        "14. \"Facebook, Google, Microsoft, Apple, IBM, Oracle, Amazon\" split the string at the comma."
      ],
      "metadata": {
        "id": "AaItx20j0SWG"
      }
    },
    {
      "cell_type": "code",
      "source": [
        "lista = \"Facebook, Google, Microsoft, Apple, IBM, Oracle, Amazon\".split()\n",
        "print(lista)"
      ],
      "metadata": {
        "colab": {
          "base_uri": "https://localhost:8080/"
        },
        "id": "7c3xW2mV0T3T",
        "outputId": "cc618ec6-8a25-420c-92a5-79b335a0786e"
      },
      "execution_count": 80,
      "outputs": [
        {
          "output_type": "stream",
          "name": "stdout",
          "text": [
            "['Facebook,', 'Google,', 'Microsoft,', 'Apple,', 'IBM,', 'Oracle,', 'Amazon']\n"
          ]
        }
      ]
    },
    {
      "cell_type": "markdown",
      "source": [
        "15. What is the character at index 0 in the string Coding For All."
      ],
      "metadata": {
        "id": "qBzMnkql1Tm7"
      }
    },
    {
      "cell_type": "code",
      "source": [
        "print('Coding For All'[0])"
      ],
      "metadata": {
        "colab": {
          "base_uri": "https://localhost:8080/"
        },
        "id": "5POE3b951U28",
        "outputId": "e69e6088-542a-4a59-bfe1-cf258b75f8af"
      },
      "execution_count": 81,
      "outputs": [
        {
          "output_type": "stream",
          "name": "stdout",
          "text": [
            "C\n"
          ]
        }
      ]
    },
    {
      "cell_type": "markdown",
      "source": [
        "16. What is the last index of the string Coding For All."
      ],
      "metadata": {
        "id": "eTMJVVO61xE9"
      }
    },
    {
      "cell_type": "code",
      "source": [
        "print(len('Coding For All')-1)"
      ],
      "metadata": {
        "colab": {
          "base_uri": "https://localhost:8080/"
        },
        "id": "_-ac-pz01zeH",
        "outputId": "f69e7aa6-59a5-4b41-fd9e-c6ec39e691d4"
      },
      "execution_count": 86,
      "outputs": [
        {
          "output_type": "stream",
          "name": "stdout",
          "text": [
            "13\n"
          ]
        }
      ]
    },
    {
      "cell_type": "markdown",
      "source": [
        "17. What character is at index 10 in \"Coding For All\" string."
      ],
      "metadata": {
        "id": "p6NUcuT02g0l"
      }
    },
    {
      "cell_type": "code",
      "source": [
        "print(\"Coding For All\"[10])"
      ],
      "metadata": {
        "colab": {
          "base_uri": "https://localhost:8080/"
        },
        "id": "yzGJ3HRs2nPu",
        "outputId": "39f13201-3b9f-415a-a92d-a8b47304c801"
      },
      "execution_count": 89,
      "outputs": [
        {
          "output_type": "stream",
          "name": "stdout",
          "text": [
            " \n"
          ]
        }
      ]
    },
    {
      "cell_type": "markdown",
      "source": [
        "18. Create an acronym or an abbreviation for the name 'Python For Everyone'."
      ],
      "metadata": {
        "id": "p65u_TB43Kkm"
      }
    },
    {
      "cell_type": "code",
      "source": [
        "inicial = list()\n",
        "oracion = 'Python For Everyone'.split()\n",
        "for palabra in oracion:\n",
        "  inicial.append(palabra[0])\n",
        "print(''.join(inicial))"
      ],
      "metadata": {
        "colab": {
          "base_uri": "https://localhost:8080/"
        },
        "id": "4wnAS8Lb3MhS",
        "outputId": "e8ed7704-4f09-4341-c467-ab58e5ef82c0"
      },
      "execution_count": 94,
      "outputs": [
        {
          "output_type": "stream",
          "name": "stdout",
          "text": [
            "PFE\n"
          ]
        }
      ]
    },
    {
      "cell_type": "markdown",
      "source": [
        "19. Create an acronym or an abbreviation for the name 'Coding For All'."
      ],
      "metadata": {
        "id": "1UsskWD_6EpF"
      }
    },
    {
      "cell_type": "code",
      "source": [
        "inicial = list()\n",
        "oracion = 'Coding For All'.split()\n",
        "for palabra in oracion:\n",
        "  inicial.append(palabra[0])\n",
        "print(''.join(inicial))"
      ],
      "metadata": {
        "colab": {
          "base_uri": "https://localhost:8080/"
        },
        "id": "l-t1iKNR6G0U",
        "outputId": "1637b2ea-2aa2-4363-abe7-6ca9aeda4312"
      },
      "execution_count": 95,
      "outputs": [
        {
          "output_type": "stream",
          "name": "stdout",
          "text": [
            "CFA\n"
          ]
        }
      ]
    },
    {
      "cell_type": "markdown",
      "source": [
        "20. Use index to determine the position of the first occurrence of C in Coding For All."
      ],
      "metadata": {
        "id": "egdRvdcE638y"
      }
    },
    {
      "cell_type": "code",
      "source": [
        "'Coding For All'.index('C')"
      ],
      "metadata": {
        "colab": {
          "base_uri": "https://localhost:8080/"
        },
        "id": "9HPjHzKu652b",
        "outputId": "25916a55-8cc0-48c7-83ea-30ca6f9e2dab"
      },
      "execution_count": 96,
      "outputs": [
        {
          "output_type": "execute_result",
          "data": {
            "text/plain": [
              "0"
            ]
          },
          "metadata": {},
          "execution_count": 96
        }
      ]
    },
    {
      "cell_type": "markdown",
      "source": [
        "21. Use index to determine the position of the first occurrence of F in Coding For All."
      ],
      "metadata": {
        "id": "jjAhXlHY7Qkr"
      }
    },
    {
      "cell_type": "code",
      "source": [
        "'Coding For All'.index('F')"
      ],
      "metadata": {
        "colab": {
          "base_uri": "https://localhost:8080/"
        },
        "id": "P-1wh3PV7TDq",
        "outputId": "29755111-f2e6-489d-9ba5-cd4929785c36"
      },
      "execution_count": 97,
      "outputs": [
        {
          "output_type": "execute_result",
          "data": {
            "text/plain": [
              "7"
            ]
          },
          "metadata": {},
          "execution_count": 97
        }
      ]
    },
    {
      "cell_type": "markdown",
      "source": [
        "22. Use rfind to determine the position of the last occurrence of l in Coding For All People."
      ],
      "metadata": {
        "id": "aboA5NFZ7nZF"
      }
    },
    {
      "cell_type": "code",
      "source": [
        "'Coding For All People'.rfind('l')"
      ],
      "metadata": {
        "colab": {
          "base_uri": "https://localhost:8080/"
        },
        "id": "DYnJUx-G7xd2",
        "outputId": "225fd94b-9191-4c2e-bed0-0e1aaa2c3fac"
      },
      "execution_count": 99,
      "outputs": [
        {
          "output_type": "execute_result",
          "data": {
            "text/plain": [
              "19"
            ]
          },
          "metadata": {},
          "execution_count": 99
        }
      ]
    },
    {
      "cell_type": "markdown",
      "source": [
        "23. Use index or find to find the position of the first occurrence of the word 'because' in the following sentence: 'You cannot end a sentence with because because because is a conjunction'"
      ],
      "metadata": {
        "id": "eXY-j-3u8FYZ"
      }
    },
    {
      "cell_type": "code",
      "source": [
        "'You cannot end a sentence with because because because is a conjunction'.find('because')"
      ],
      "metadata": {
        "colab": {
          "base_uri": "https://localhost:8080/"
        },
        "id": "2tMwKMzT8MIq",
        "outputId": "b50c9347-1c84-4dc9-f47a-fbf2e0d3ce8c"
      },
      "execution_count": 100,
      "outputs": [
        {
          "output_type": "execute_result",
          "data": {
            "text/plain": [
              "31"
            ]
          },
          "metadata": {},
          "execution_count": 100
        }
      ]
    },
    {
      "cell_type": "markdown",
      "source": [
        "24. Use rindex to find the position of the last occurrence of the word because in the following sentence: 'You cannot end a sentence with because because because is a conjunction'"
      ],
      "metadata": {
        "id": "oyxexy2W8XJH"
      }
    },
    {
      "cell_type": "code",
      "source": [
        "'You cannot end a sentence with because because because is a conjunction'.rindex('because')"
      ],
      "metadata": {
        "colab": {
          "base_uri": "https://localhost:8080/"
        },
        "id": "QBkIIzqy8ZvD",
        "outputId": "08ca0038-0276-4638-9752-ebede3816532"
      },
      "execution_count": 101,
      "outputs": [
        {
          "output_type": "execute_result",
          "data": {
            "text/plain": [
              "47"
            ]
          },
          "metadata": {},
          "execution_count": 101
        }
      ]
    },
    {
      "cell_type": "markdown",
      "source": [
        "25. Slice out the phrase 'because because because' in the following sentence: 'You cannot end a sentence with because because because is a conjunction'"
      ],
      "metadata": {
        "id": "nKgAKJsJ9Kwp"
      }
    },
    {
      "cell_type": "code",
      "source": [
        "oracion = 'You cannot end a sentence with because because because is a conjunction'\n",
        "oracion[:oracion.index(' because because because')]"
      ],
      "metadata": {
        "colab": {
          "base_uri": "https://localhost:8080/",
          "height": 35
        },
        "id": "VcuLq66f9MVf",
        "outputId": "39377d73-42fa-4dfb-f8ad-d327c051f0ac"
      },
      "execution_count": 107,
      "outputs": [
        {
          "output_type": "execute_result",
          "data": {
            "text/plain": [
              "'You cannot end a sentence with'"
            ],
            "application/vnd.google.colaboratory.intrinsic+json": {
              "type": "string"
            }
          },
          "metadata": {},
          "execution_count": 107
        }
      ]
    },
    {
      "cell_type": "markdown",
      "source": [
        "26. Find the position of the first occurrence of the word 'because' in the following sentence: 'You cannot end a sentence with because because because is a conjunction'"
      ],
      "metadata": {
        "id": "jcu6j8kw9cJH"
      }
    },
    {
      "cell_type": "code",
      "source": [
        "'You cannot end a sentence with because because because is a conjunction'.index('because')"
      ],
      "metadata": {
        "colab": {
          "base_uri": "https://localhost:8080/"
        },
        "id": "QllgnfGe9e5G",
        "outputId": "d75411f4-fd55-427b-f805-cbb9b95ee103"
      },
      "execution_count": 103,
      "outputs": [
        {
          "output_type": "execute_result",
          "data": {
            "text/plain": [
              "31"
            ]
          },
          "metadata": {},
          "execution_count": 103
        }
      ]
    },
    {
      "cell_type": "markdown",
      "source": [
        "27. Slice out the phrase 'because because because' in the following sentence: 'You cannot end a sentence with because because because is a conjunction'"
      ],
      "metadata": {
        "id": "V-FdNsaK9txT"
      }
    },
    {
      "cell_type": "code",
      "source": [
        "'You cannot end a sentence with because because because is a conjunction'.split(' because because because')[0]"
      ],
      "metadata": {
        "colab": {
          "base_uri": "https://localhost:8080/",
          "height": 35
        },
        "id": "4VYl7sgT9wlU",
        "outputId": "1d69d502-857c-49d3-f317-9799d3f2b88d"
      },
      "execution_count": 108,
      "outputs": [
        {
          "output_type": "execute_result",
          "data": {
            "text/plain": [
              "'You cannot end a sentence with'"
            ],
            "application/vnd.google.colaboratory.intrinsic+json": {
              "type": "string"
            }
          },
          "metadata": {},
          "execution_count": 108
        }
      ]
    },
    {
      "cell_type": "markdown",
      "source": [
        "28. Does ''Coding For All' start with a substring Coding?"
      ],
      "metadata": {
        "id": "6rXrbCU2_5HW"
      }
    },
    {
      "cell_type": "code",
      "source": [
        "'Coding For All'.startswith('Coding')"
      ],
      "metadata": {
        "colab": {
          "base_uri": "https://localhost:8080/"
        },
        "id": "HJt68uJ3_7W9",
        "outputId": "320d7fa3-4b83-49a6-82d5-2b48479aaea5"
      },
      "execution_count": 109,
      "outputs": [
        {
          "output_type": "execute_result",
          "data": {
            "text/plain": [
              "True"
            ]
          },
          "metadata": {},
          "execution_count": 109
        }
      ]
    },
    {
      "cell_type": "markdown",
      "source": [
        "29. Does 'Coding For All' end with a substring coding?"
      ],
      "metadata": {
        "id": "Aar5tM4JAJqM"
      }
    },
    {
      "cell_type": "code",
      "source": [
        "'Coding For All'.endswith('Coding')"
      ],
      "metadata": {
        "colab": {
          "base_uri": "https://localhost:8080/"
        },
        "id": "xOKMX4M9AMYI",
        "outputId": "431ba0c9-e14b-4417-cd58-11ea6d8a9884"
      },
      "execution_count": 110,
      "outputs": [
        {
          "output_type": "execute_result",
          "data": {
            "text/plain": [
              "False"
            ]
          },
          "metadata": {},
          "execution_count": 110
        }
      ]
    },
    {
      "cell_type": "markdown",
      "source": [
        "30. '   Coding For All      '  , remove the left and right trailing spaces in the given string."
      ],
      "metadata": {
        "id": "4sfxX7COASEG"
      }
    },
    {
      "cell_type": "code",
      "source": [
        "'   Coding For All      '.strip()"
      ],
      "metadata": {
        "colab": {
          "base_uri": "https://localhost:8080/",
          "height": 35
        },
        "id": "s5YsLvI0AVKH",
        "outputId": "fb192902-47f8-41f2-987e-cdac4609eb2d"
      },
      "execution_count": 111,
      "outputs": [
        {
          "output_type": "execute_result",
          "data": {
            "text/plain": [
              "'Coding For All'"
            ],
            "application/vnd.google.colaboratory.intrinsic+json": {
              "type": "string"
            }
          },
          "metadata": {},
          "execution_count": 111
        }
      ]
    },
    {
      "cell_type": "markdown",
      "source": [
        "31. Which one of the following variables return True when we use the method isidentifier():\n",
        "30DaysOfPython\n",
        "thirty_days_of_python"
      ],
      "metadata": {
        "id": "t4Dh-w9yAfCD"
      }
    },
    {
      "cell_type": "code",
      "source": [
        "'30DaysOfPython'.isidentifier()"
      ],
      "metadata": {
        "colab": {
          "base_uri": "https://localhost:8080/"
        },
        "id": "Ux5mDmlTAins",
        "outputId": "cbd4667e-5678-411c-e18d-7ac121e9d7a4"
      },
      "execution_count": 115,
      "outputs": [
        {
          "output_type": "execute_result",
          "data": {
            "text/plain": [
              "False"
            ]
          },
          "metadata": {},
          "execution_count": 115
        }
      ]
    },
    {
      "cell_type": "code",
      "source": [
        "'thirty_days_of_python'.isidentifier()"
      ],
      "metadata": {
        "colab": {
          "base_uri": "https://localhost:8080/"
        },
        "id": "pGSnvTkPA2l9",
        "outputId": "2c528d82-f5d0-4449-8537-39d5289c3d36"
      },
      "execution_count": 116,
      "outputs": [
        {
          "output_type": "execute_result",
          "data": {
            "text/plain": [
              "True"
            ]
          },
          "metadata": {},
          "execution_count": 116
        }
      ]
    },
    {
      "cell_type": "markdown",
      "source": [
        "32. The following list contains the names of some of python libraries: ['Django', 'Flask', 'Bottle', 'Pyramid', 'Falcon']. Join the list with a hash with space string."
      ],
      "metadata": {
        "id": "i0pAlQ_0BBMM"
      }
    },
    {
      "cell_type": "code",
      "source": [
        "libraries = ['Django', 'Flask', 'Bottle', 'Pyramid', 'Falcon']\n",
        "print(' '.join(libraries))"
      ],
      "metadata": {
        "colab": {
          "base_uri": "https://localhost:8080/"
        },
        "id": "oW-y5cx1BGvF",
        "outputId": "baeffa51-2bab-476c-9cb5-ca9f50b6923d"
      },
      "execution_count": 119,
      "outputs": [
        {
          "output_type": "stream",
          "name": "stdout",
          "text": [
            "Django Flask Bottle Pyramid Falcon\n"
          ]
        }
      ]
    },
    {
      "cell_type": "markdown",
      "source": [
        "33. Use the new line escape sequence to separate the following sentences\n",
        "```\n",
        "I am enjoying this challenge.\n",
        "I just wonder what is next.\n",
        "```"
      ],
      "metadata": {
        "id": "8ICEj7BABshy"
      }
    },
    {
      "cell_type": "code",
      "source": [
        "parrafo = '''I am enjoying this challenge.\n",
        "I just wonder what is next.'''\n",
        "parrafo.splitlines()"
      ],
      "metadata": {
        "colab": {
          "base_uri": "https://localhost:8080/"
        },
        "id": "bX55HKAKBuAy",
        "outputId": "b36d33b1-13ed-4872-89cf-c077b90ffeaf"
      },
      "execution_count": 120,
      "outputs": [
        {
          "output_type": "execute_result",
          "data": {
            "text/plain": [
              "['I am enjoying this challenge.', 'I just wonder what is next.']"
            ]
          },
          "metadata": {},
          "execution_count": 120
        }
      ]
    },
    {
      "cell_type": "markdown",
      "source": [
        "34. Use a tab escape sequence to write the following lines\n",
        "```\n",
        "Name      Age     Country   City\n",
        "Asabeneh  250     Finland   Helsinki\n",
        "```"
      ],
      "metadata": {
        "id": "YgKr8DrmCFZZ"
      }
    },
    {
      "cell_type": "code",
      "source": [
        "print('Name\\tAge\\tCountry\\tCity')\n",
        "print('Hermes\\t45\\tPanama\\tPanama')"
      ],
      "metadata": {
        "colab": {
          "base_uri": "https://localhost:8080/"
        },
        "id": "fJvci77fCH2S",
        "outputId": "c5d8fc3b-55bf-4616-ea2e-43b9f33e149c"
      },
      "execution_count": 121,
      "outputs": [
        {
          "output_type": "stream",
          "name": "stdout",
          "text": [
            "Name\tAge\tCountry\tCity\n",
            "Hermes\t45\tPanama\tPanama\n"
          ]
        }
      ]
    },
    {
      "cell_type": "markdown",
      "source": [
        "35. Use the string formatting method to display the following:\n",
        "```\n",
        "radius = 10\n",
        "area = 3.14 * radius ** 2\n",
        "The area of a circle with radius 10 is 314 meters square.\n",
        "```"
      ],
      "metadata": {
        "id": "n2QAhJfWC0EH"
      }
    },
    {
      "cell_type": "code",
      "source": [
        "radius = 10\n",
        "area = 3.14 * radius ** 2\n",
        "\n",
        "print(f'radius = {radius}')\n",
        "print(f'area = 3.14 * radius ** 2')\n",
        "print(f'The area of a circle with radius {radius} is {int(area)} meters square.')"
      ],
      "metadata": {
        "colab": {
          "base_uri": "https://localhost:8080/"
        },
        "id": "Q3iJqjjiC1pL",
        "outputId": "769cae52-f589-4936-ab57-7ad3634afd0a"
      },
      "execution_count": 124,
      "outputs": [
        {
          "output_type": "stream",
          "name": "stdout",
          "text": [
            "radius = 10\n",
            "area = 3.14 * radius ** 2\n",
            "The area of a circle with radius 10 is 314 meters square.\n"
          ]
        }
      ]
    },
    {
      "cell_type": "markdown",
      "source": [
        "36. Make the following using string formatting methods:\n",
        "```\n",
        "8 + 6 = 14\n",
        "8 - 6 = 2\n",
        "8 * 6 = 48\n",
        "8 / 6 = 1.33\n",
        "8 % 6 = 2\n",
        "8 // 6 = 1\n",
        "8 ** 6 = 262144\n",
        "```"
      ],
      "metadata": {
        "id": "pj9gE5MyD9q7"
      }
    },
    {
      "cell_type": "code",
      "source": [
        "num_a = 8\n",
        "num_b = 6\n",
        "\n",
        "print(f'{num_a} + {num_b} = {num_a + num_b}')\n",
        "print(f'{num_a} - {num_b} = {num_a - num_b}')\n",
        "print(f'{num_a} * {num_b} = {num_a * num_b}')\n",
        "print(f'{num_a} / {num_b} = {num_a / num_b:.2f}')\n",
        "print(f'{num_a} % {num_b} = {num_a % num_b}')\n",
        "print(f'{num_a} // {num_b} = {num_a // num_b}')\n",
        "print(f'{num_a} ** {num_b} = {num_a ** num_b}')\n"
      ],
      "metadata": {
        "colab": {
          "base_uri": "https://localhost:8080/"
        },
        "id": "iLYGHVeJEAnH",
        "outputId": "e972d068-3ecf-4944-8eab-ec588697cf6c"
      },
      "execution_count": 128,
      "outputs": [
        {
          "output_type": "stream",
          "name": "stdout",
          "text": [
            "8 + 6 = 14\n",
            "8 - 6 = 2\n",
            "8 * 6 = 48\n",
            "8 / 6 = 1.33\n",
            "8 % 6 = 2\n",
            "8 // 6 = 1\n",
            "8 ** 6 = 262144\n"
          ]
        }
      ]
    }
  ]
}