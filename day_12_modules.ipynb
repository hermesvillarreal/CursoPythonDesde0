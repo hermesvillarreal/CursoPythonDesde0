{
  "nbformat": 4,
  "nbformat_minor": 0,
  "metadata": {
    "colab": {
      "provenance": [],
      "collapsed_sections": [],
      "authorship_tag": "ABX9TyN47IDimkBmBA1oi14SPvKt",
      "include_colab_link": true
    },
    "kernelspec": {
      "name": "python3",
      "display_name": "Python 3"
    },
    "language_info": {
      "name": "python"
    }
  },
  "cells": [
    {
      "cell_type": "markdown",
      "metadata": {
        "id": "view-in-github",
        "colab_type": "text"
      },
      "source": [
        "<a href=\"https://colab.research.google.com/github/hermesvillarreal/CursoPythonDesde0/blob/main/day_12_modules.ipynb\" target=\"_parent\"><img src=\"https://colab.research.google.com/assets/colab-badge.svg\" alt=\"Open In Colab\"/></a>"
      ]
    },
    {
      "cell_type": "markdown",
      "source": [
        "# Ejercicios: Día 12"
      ],
      "metadata": {
        "id": "s-oMvINyuwrh"
      }
    },
    {
      "cell_type": "markdown",
      "source": [
        "## Ejercicios: Nivel 1"
      ],
      "metadata": {
        "id": "2AwMTT8Wu1YJ"
      }
    },
    {
      "cell_type": "markdown",
      "source": [
        "1. Escriba una función que genere un id_usuario_aleatorio de seis dígitos/caracteres.\n",
        "   ```py\n",
        "     imprimir (random_user_id()) ;\n",
        "     ' 1ee33d '\n",
        "   ```"
      ],
      "metadata": {
        "id": "uAFVNLvhu4bm"
      }
    },
    {
      "cell_type": "code",
      "source": [
        "import string # costantes de cadenas de caracteres\n",
        "import random # seleccion de caracteres aleatorios"
      ],
      "metadata": {
        "id": "o3ULjWFtlb_7"
      },
      "execution_count": 2,
      "outputs": []
    },
    {
      "cell_type": "code",
      "execution_count": 3,
      "metadata": {
        "colab": {
          "base_uri": "https://localhost:8080/"
        },
        "id": "_lEFGFqmuVIV",
        "outputId": "39f6b0ad-67e7-4840-cba0-ef46ec037e3c"
      },
      "outputs": [
        {
          "output_type": "stream",
          "name": "stdout",
          "text": [
            "Qtwbby\n"
          ]
        }
      ],
      "source": [
        "def random_user_id(k):\n",
        "  '''\n",
        "  # usando un ciclo for\n",
        "  user_id = []\n",
        "  for c in range(6):\n",
        "    user_id.append (random.choice(list(string.ascii_lowercase + string.ascii_uppercase + string.digits)))\n",
        "  return ''.join(user_id)\n",
        "  '''\n",
        "  # usando random.choices\n",
        "  return ''.join(random.choices(list(string.ascii_lowercase + string.ascii_uppercase + string.digits), k=k))\n",
        "\n",
        "print(random_user_id(6))"
      ]
    },
    {
      "cell_type": "markdown",
      "source": [
        "2. Modificar la tarea anterior. Declare una función llamada user_id_gen_by_user. No toma ningún parámetro, pero toma dos entradas usando input(). Una de las entradas es la cantidad de caracteres y la segunda entrada es la cantidad de ID que se supone que se generarán.\n",
        "   ```py\n",
        "print(user_id_gen_by_user()) # user input: 5 5\n",
        "#output:\n",
        "#kcsy2\n",
        "#SMFYb\n",
        "#bWmeq\n",
        "#ZXOYh\n",
        "#2Rgxf\n",
        "print(user_id_gen_by_user()) # 16 5\n",
        "#1GCSgPLMaBAVQZ26\n",
        "#YD7eFwNQKNs7qXaT\n",
        "#ycArC5yrRupyG00S\n",
        "#UbGxOFI7UXSWAyKN\n",
        "#dIV0SSUTgAdKwStr\n",
        "  ```"
      ],
      "metadata": {
        "id": "LOVqz4EKv89b"
      }
    },
    {
      "cell_type": "code",
      "source": [
        "def user_id_gen_by_user():\n",
        "  k = int(input('Cantidad de Caracteres: '))\n",
        "  ids = int(input('Cantidad de Ids: '))\n",
        "  lista = []\n",
        "  for i in range(ids):\n",
        "    lista.append(random_user_id(k))\n",
        "  return lista\n",
        "\n",
        "print('\\n'.join(user_id_gen_by_user()))"
      ],
      "metadata": {
        "colab": {
          "base_uri": "https://localhost:8080/"
        },
        "id": "yXllppOZwMKL",
        "outputId": "64f6c9ee-52de-431b-b7cf-bf5e04bc67e0"
      },
      "execution_count": 4,
      "outputs": [
        {
          "output_type": "stream",
          "name": "stdout",
          "text": [
            "Cantidad de Caracteres: 16\n",
            "Cantidad de Ids: 5\n",
            "t9VIknTPGf2Dhqyj\n",
            "MKY753omTcOnMq7G\n",
            "juQHmalPF7E4QdVC\n",
            "RvJj9m0QlN2uTwOG\n",
            "5I95Dn911X3xGO5H\n"
          ]
        }
      ]
    },
    {
      "cell_type": "markdown",
      "source": [
        "3. Escriba una función llamada rgb_color_gen. Generará colores rgb (3 valores que van de 0 a 255 cada uno).\n",
        "```py\n",
        "print(rgb_color_gen())\n",
        "# rgb(125,244,255) - the output should be in this form\n",
        "```"
      ],
      "metadata": {
        "id": "QIdCQl93wM1g"
      }
    },
    {
      "cell_type": "code",
      "source": [
        "def rgb_color_gen():\n",
        "  return f'rgb({random.randint(0, 255)},{random.randint(0, 255)},{random.randint(0, 255)})'\n",
        "\n",
        "print(rgb_color_gen())"
      ],
      "metadata": {
        "colab": {
          "base_uri": "https://localhost:8080/"
        },
        "id": "9rTyqQD33Vci",
        "outputId": "b704ceae-96cd-44ef-ff81-9584c851672a"
      },
      "execution_count": 16,
      "outputs": [
        {
          "output_type": "stream",
          "name": "stdout",
          "text": [
            "rgb(203,50,218)\n"
          ]
        }
      ]
    },
    {
      "cell_type": "markdown",
      "source": [
        "##  Ejercicios: Nivel 2\n"
      ],
      "metadata": {
        "id": "TMONQW75wqhO"
      }
    },
    {
      "cell_type": "markdown",
      "source": [
        "1. Escriba una función list_of_hexa_colors que devuelva cualquier cantidad de colores hexadecimales en una matriz (seis números hexadecimales escritos después de #. El sistema de numeración hexadecimal está formado por 16 símbolos, 0-9 y las primeras 6 letras del alfabeto, af. Verifique la tarea 6 para ejemplos de salida)."
      ],
      "metadata": {
        "id": "zDouIAocxTbO"
      }
    },
    {
      "cell_type": "code",
      "source": [
        "def hexa_color_gen():\n",
        "  return f\"#{''.join(random.choices('0123456789ABCDEF', k=6))}\"\n",
        "\n",
        "def list_of_hexa_colors(n):\n",
        "  return [hexa_color_gen() for i in range(n)]\n",
        "\n",
        "list_of_hexa_colors(5)"
      ],
      "metadata": {
        "colab": {
          "base_uri": "https://localhost:8080/"
        },
        "id": "vu0PjLnHxlce",
        "outputId": "fe4e6e81-ac2c-44d1-a079-7f4dd34cd012"
      },
      "execution_count": 19,
      "outputs": [
        {
          "output_type": "execute_result",
          "data": {
            "text/plain": [
              "['#4E5E0D', '#9E3BB1', '#8E34EB', '#C1E443', '#9E372B']"
            ]
          },
          "metadata": {},
          "execution_count": 19
        }
      ]
    },
    {
      "cell_type": "markdown",
      "source": [
        "2. Escriba una función list_of_rgb_colors que devuelva cualquier cantidad de colores RGB en una matriz."
      ],
      "metadata": {
        "id": "CfCAlL8CxTBK"
      }
    },
    {
      "cell_type": "code",
      "source": [
        "def list_of_rgb_colors(n):\n",
        "  return [rgb_color_gen() for i in range(n)]\n",
        "  \n",
        "list_of_rgb_colors(3)"
      ],
      "metadata": {
        "colab": {
          "base_uri": "https://localhost:8080/"
        },
        "id": "s_pRPjU4xl0i",
        "outputId": "e4980ec8-659d-4d44-9692-08223c2a6cb9"
      },
      "execution_count": 21,
      "outputs": [
        {
          "output_type": "execute_result",
          "data": {
            "text/plain": [
              "['rgb(243,55,172)', 'rgb(52,11,23)', 'rgb(120,53,186)']"
            ]
          },
          "metadata": {},
          "execution_count": 21
        }
      ]
    },
    {
      "cell_type": "markdown",
      "source": [
        "3. Escriba una función generar_colores que pueda generar cualquier número de colores hexa o rgb.\n",
        "```py\n",
        "   generate_colors('hexa', 3) # ['#a3e12f','#03ed55','#eb3d2b'] \n",
        "   generate_colors('hexa', 1) # ['#b334ef']\n",
        "   generate_colors('rgb', 3)  # ['rgb(5, 55, 175','rgb(50, 105, 100','rgb(15, 26, 80'] \n",
        "   generate_colors('rgb', 1)  # ['rgb(33,79, 176)']\n",
        "   ```"
      ],
      "metadata": {
        "id": "r0CaK08MwsgD"
      }
    },
    {
      "cell_type": "code",
      "source": [
        "def generate_colors(tipo, n):\n",
        "  return list_of_hexa_colors(n) if tipo == 'hexa' else list_of_rgb_colors(n) if tipo == 'rgb' else None\n",
        "\n",
        "generate_colors('hexa', 3)"
      ],
      "metadata": {
        "colab": {
          "base_uri": "https://localhost:8080/"
        },
        "id": "OQDjTWZ6w6lN",
        "outputId": "33da3166-30d6-4758-c70c-a18aa0790c41"
      },
      "execution_count": 29,
      "outputs": [
        {
          "output_type": "execute_result",
          "data": {
            "text/plain": [
              "['#2E7F3A', '#26FB5A', '#56E474']"
            ]
          },
          "metadata": {},
          "execution_count": 29
        }
      ]
    },
    {
      "cell_type": "markdown",
      "source": [
        "## Exercises: Level 3\n"
      ],
      "metadata": {
        "id": "PQj-XjiSw7DP"
      }
    },
    {
      "cell_type": "markdown",
      "source": [
        "1. Llame a su función shuffle_list, toma una lista como parámetro y devuelve una lista mezclada"
      ],
      "metadata": {
        "id": "Qvy7iBTbxI2b"
      }
    },
    {
      "cell_type": "code",
      "source": [
        "def shuffle_list(lista):\n",
        "  mezcla = []\n",
        "  while len(lista) > 0:\n",
        "    elemento = random.choice(lista)\n",
        "    mezcla.append(elemento)\n",
        "    lista.remove(elemento)\n",
        "  return mezcla\n",
        "\n",
        "shuffle_list([0,1,2,3,4,5,6,7,8,9])"
      ],
      "metadata": {
        "colab": {
          "base_uri": "https://localhost:8080/"
        },
        "id": "d7fnoT3VxH6S",
        "outputId": "c920d15c-185f-476f-c781-85b33ed057c4"
      },
      "execution_count": 36,
      "outputs": [
        {
          "output_type": "execute_result",
          "data": {
            "text/plain": [
              "[2, 9, 5, 6, 1, 4, 3, 7, 8, 0]"
            ]
          },
          "metadata": {},
          "execution_count": 36
        }
      ]
    },
    {
      "cell_type": "markdown",
      "source": [
        "2. Escriba una función que devuelva una matriz de siete números aleatorios en un rango de 0-9. Todos los números deben ser únicos.\n"
      ],
      "metadata": {
        "id": "2YpUpEkgxMg9"
      }
    },
    {
      "cell_type": "code",
      "source": [
        "def matriz():\n",
        "  digitos = [0,1,2,3,4,5,6,7,8,9]\n",
        "  mezcla = []\n",
        "  for i in range(7):\n",
        "    elemento = random.choice(digitos)\n",
        "    mezcla.append(elemento)\n",
        "    digitos.remove(elemento)\n",
        "  return mezcla\n",
        "\n",
        "matriz()"
      ],
      "metadata": {
        "colab": {
          "base_uri": "https://localhost:8080/"
        },
        "id": "CPMVKqAmxOaW",
        "outputId": "97fc25d2-eae4-4123-c224-24267ad0a272"
      },
      "execution_count": 45,
      "outputs": [
        {
          "output_type": "execute_result",
          "data": {
            "text/plain": [
              "[4, 2, 1, 6, 3, 5, 7]"
            ]
          },
          "metadata": {},
          "execution_count": 45
        }
      ]
    }
  ]
}