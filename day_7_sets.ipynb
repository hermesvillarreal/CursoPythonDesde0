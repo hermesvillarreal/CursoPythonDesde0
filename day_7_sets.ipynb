{
  "nbformat": 4,
  "nbformat_minor": 0,
  "metadata": {
    "colab": {
      "provenance": [],
      "authorship_tag": "ABX9TyObecOG12546MOJvfnmBSXT",
      "include_colab_link": true
    },
    "kernelspec": {
      "name": "python3",
      "display_name": "Python 3"
    },
    "language_info": {
      "name": "python"
    }
  },
  "cells": [
    {
      "cell_type": "markdown",
      "metadata": {
        "id": "view-in-github",
        "colab_type": "text"
      },
      "source": [
        "<a href=\"https://colab.research.google.com/github/hermesvillarreal/CursoPythonDesde0/blob/main/day_7_sets.ipynb\" target=\"_parent\"><img src=\"https://colab.research.google.com/assets/colab-badge.svg\" alt=\"Open In Colab\"/></a>"
      ]
    },
    {
      "cell_type": "markdown",
      "source": [
        "# Ejercicios: Día 7"
      ],
      "metadata": {
        "id": "SkayIwFGlREM"
      }
    },
    {
      "cell_type": "code",
      "source": [
        "# sets\n",
        "it_companies = {'Facebook', 'Google', 'Microsoft', 'Apple', 'IBM', 'Oracle', 'Amazon'}\n",
        "A = {19, 22, 24, 20, 25, 26}\n",
        "B = {19, 22, 20, 25, 26, 24, 28, 27}\n",
        "age = [22, 19, 24, 25, 26, 24, 25, 24]"
      ],
      "metadata": {
        "id": "-bAGEuuHmzlW"
      },
      "execution_count": 32,
      "outputs": []
    },
    {
      "cell_type": "markdown",
      "source": [
        "# Ejercicios: Nivel 1"
      ],
      "metadata": {
        "id": "ek-L0e7HlY-I"
      }
    },
    {
      "cell_type": "markdown",
      "source": [
        "1. Encuentre la longitud del conjunto it_companies"
      ],
      "metadata": {
        "id": "9TFKxBNnldv2"
      }
    },
    {
      "cell_type": "code",
      "source": [
        "len(it_companies)"
      ],
      "metadata": {
        "colab": {
          "base_uri": "https://localhost:8080/"
        },
        "id": "IWIlMYGRmuF-",
        "outputId": "09ce7c27-6c79-460c-afde-07a73371c2ba"
      },
      "execution_count": 33,
      "outputs": [
        {
          "output_type": "execute_result",
          "data": {
            "text/plain": [
              "7"
            ]
          },
          "metadata": {},
          "execution_count": 33
        }
      ]
    },
    {
      "cell_type": "markdown",
      "source": [
        "2. Agregar 'Twitter' a it_companies"
      ],
      "metadata": {
        "id": "JphHn_iqld7D"
      }
    },
    {
      "cell_type": "code",
      "source": [
        "it_companies.add('Twitter')\n",
        "print(it_companies)"
      ],
      "metadata": {
        "colab": {
          "base_uri": "https://localhost:8080/"
        },
        "id": "aqRKf3E9nAKe",
        "outputId": "bc22cb9b-e546-47a6-91a0-1e59eb08e095"
      },
      "execution_count": 35,
      "outputs": [
        {
          "output_type": "stream",
          "name": "stdout",
          "text": [
            "{'Facebook', 'Microsoft', 'Oracle', 'Amazon', 'Twitter', 'Apple', 'IBM', 'Google'}\n"
          ]
        }
      ]
    },
    {
      "cell_type": "markdown",
      "source": [
        "3. Inserte varias empresas de TI a la vez en el conjunto it_companies"
      ],
      "metadata": {
        "id": "bPT176_zleEv"
      }
    },
    {
      "cell_type": "code",
      "source": [
        "it_companies.update(['C&W','Tigo','Digicel'])\n",
        "print(it_companies)"
      ],
      "metadata": {
        "colab": {
          "base_uri": "https://localhost:8080/"
        },
        "id": "sGJSLPMHnQPg",
        "outputId": "3da08054-8f31-4413-b0b1-0821b600ba5a"
      },
      "execution_count": 36,
      "outputs": [
        {
          "output_type": "stream",
          "name": "stdout",
          "text": [
            "{'Facebook', 'Tigo', 'Microsoft', 'Oracle', 'Amazon', 'Twitter', 'Digicel', 'Apple', 'IBM', 'Google', 'C&W'}\n"
          ]
        }
      ]
    },
    {
      "cell_type": "markdown",
      "source": [
        "4. Eliminar una de las empresas del conjunto it_companies"
      ],
      "metadata": {
        "id": "_IiBQSUcleP3"
      }
    },
    {
      "cell_type": "code",
      "source": [
        "it_companies.remove('C&W')\n",
        "print(it_companies)"
      ],
      "metadata": {
        "colab": {
          "base_uri": "https://localhost:8080/"
        },
        "id": "NQH3OshpngNx",
        "outputId": "c1a1776e-fb8d-4bfe-babd-1dc3b84a123c"
      },
      "execution_count": 37,
      "outputs": [
        {
          "output_type": "stream",
          "name": "stdout",
          "text": [
            "{'Facebook', 'Tigo', 'Microsoft', 'Oracle', 'Amazon', 'Twitter', 'Digicel', 'Apple', 'IBM', 'Google'}\n"
          ]
        }
      ]
    },
    {
      "cell_type": "markdown",
      "source": [
        "5. ¿Cuál es la diferencia entre eliminar y descartar?"
      ],
      "metadata": {
        "id": "Re97jQOGleZZ"
      }
    },
    {
      "cell_type": "code",
      "source": [
        "#remove quita el elemento dado\n",
        "#pop quita un elemento aleatorio"
      ],
      "metadata": {
        "id": "mDANUIxEn_xT"
      },
      "execution_count": null,
      "outputs": []
    },
    {
      "cell_type": "markdown",
      "source": [
        "# Ejercicios: Nivel 2"
      ],
      "metadata": {
        "id": "l_cefeEdl1wz"
      }
    },
    {
      "cell_type": "markdown",
      "source": [
        "1. Une A y B"
      ],
      "metadata": {
        "id": "5TpmhzbWl2Nw"
      }
    },
    {
      "cell_type": "code",
      "source": [
        "C = A.union(B)\n",
        "print(C)\n",
        "print(A, B)"
      ],
      "metadata": {
        "colab": {
          "base_uri": "https://localhost:8080/"
        },
        "id": "4opIh_sToRHL",
        "outputId": "7cdf1793-979d-4eb1-f889-c8315047acc7"
      },
      "execution_count": 42,
      "outputs": [
        {
          "output_type": "stream",
          "name": "stdout",
          "text": [
            "{19, 20, 22, 24, 25, 26, 27, 28}\n",
            "{19, 20, 22, 24, 25, 26} {19, 20, 22, 24, 25, 26, 27, 28}\n"
          ]
        }
      ]
    },
    {
      "cell_type": "markdown",
      "source": [
        "2. Encuentra una intersección B"
      ],
      "metadata": {
        "id": "RBuTzwnIl2ZC"
      }
    },
    {
      "cell_type": "code",
      "source": [
        "print(A.intersection(B))"
      ],
      "metadata": {
        "colab": {
          "base_uri": "https://localhost:8080/"
        },
        "id": "ul7EWAAsqopA",
        "outputId": "50fd6b6b-5d22-483e-efb4-0548dd8bfde2"
      },
      "execution_count": 41,
      "outputs": [
        {
          "output_type": "stream",
          "name": "stdout",
          "text": [
            "{19, 20, 22, 24, 25, 26}\n"
          ]
        }
      ]
    },
    {
      "cell_type": "markdown",
      "source": [
        "3. es un subconjunto de B"
      ],
      "metadata": {
        "id": "1SDhOc-vl2ib"
      }
    },
    {
      "cell_type": "code",
      "source": [
        "A.issubset(B)"
      ],
      "metadata": {
        "colab": {
          "base_uri": "https://localhost:8080/"
        },
        "id": "ursjkU2lq9Fh",
        "outputId": "ef0de7b7-c54d-4aaf-9907-b670ce22bf10"
      },
      "execution_count": 43,
      "outputs": [
        {
          "output_type": "execute_result",
          "data": {
            "text/plain": [
              "True"
            ]
          },
          "metadata": {},
          "execution_count": 43
        }
      ]
    },
    {
      "cell_type": "markdown",
      "source": [
        "4. ¿Son A y B conjuntos disjuntos?"
      ],
      "metadata": {
        "id": "2GiONy2Sl2sM"
      }
    },
    {
      "cell_type": "code",
      "source": [
        "A.isdisjoint(B)"
      ],
      "metadata": {
        "colab": {
          "base_uri": "https://localhost:8080/"
        },
        "id": "SRB8TEwFrFd1",
        "outputId": "ab63871d-e279-4f9b-f8a3-5c6b8db72265"
      },
      "execution_count": 44,
      "outputs": [
        {
          "output_type": "execute_result",
          "data": {
            "text/plain": [
              "False"
            ]
          },
          "metadata": {},
          "execution_count": 44
        }
      ]
    },
    {
      "cell_type": "markdown",
      "source": [
        "5. Unir A con B y B con A"
      ],
      "metadata": {
        "id": "2a8WHzkel21w"
      }
    },
    {
      "cell_type": "code",
      "source": [
        "print(A.difference(B))"
      ],
      "metadata": {
        "colab": {
          "base_uri": "https://localhost:8080/"
        },
        "id": "OdpSNPwwrNTW",
        "outputId": "b1bbe319-0c71-4fef-e2e7-44faee00e6c5"
      },
      "execution_count": 49,
      "outputs": [
        {
          "output_type": "stream",
          "name": "stdout",
          "text": [
            "set()\n"
          ]
        }
      ]
    },
    {
      "cell_type": "code",
      "source": [
        "print(B.difference(A))"
      ],
      "metadata": {
        "colab": {
          "base_uri": "https://localhost:8080/"
        },
        "id": "TxVI_GrxryJm",
        "outputId": "a3706a5e-a5c9-441a-ca3f-3d7aa87aa3a2"
      },
      "execution_count": 50,
      "outputs": [
        {
          "output_type": "stream",
          "name": "stdout",
          "text": [
            "{27, 28}\n"
          ]
        }
      ]
    },
    {
      "cell_type": "markdown",
      "source": [
        "6. ¿Cuál es la diferencia simétrica entre A y B?"
      ],
      "metadata": {
        "id": "nKv11G5Vl3AR"
      }
    },
    {
      "cell_type": "code",
      "source": [
        "print(A.symmetric_difference(B))"
      ],
      "metadata": {
        "colab": {
          "base_uri": "https://localhost:8080/"
        },
        "id": "w9LMKZWBsjyW",
        "outputId": "f089f5c3-952b-41f8-bc54-28f8b73af000"
      },
      "execution_count": 51,
      "outputs": [
        {
          "output_type": "stream",
          "name": "stdout",
          "text": [
            "{27, 28}\n"
          ]
        }
      ]
    },
    {
      "cell_type": "markdown",
      "source": [
        "7. Eliminar los conjuntos por completo"
      ],
      "metadata": {
        "id": "mmg24oZcl3KR"
      }
    },
    {
      "cell_type": "code",
      "source": [
        "del it_companies\n",
        "del A\n",
        "del B"
      ],
      "metadata": {
        "id": "ORVoitWGsudk"
      },
      "execution_count": 52,
      "outputs": []
    },
    {
      "cell_type": "markdown",
      "source": [
        "# Ejercicios: Nivel 3"
      ],
      "metadata": {
        "id": "JTYpnkr3mWph"
      }
    },
    {
      "cell_type": "markdown",
      "source": [
        "1. Convierta las edades en un conjunto y compare la longitud de la lista y el conjunto, ¿cuál es más grande?"
      ],
      "metadata": {
        "id": "4ez-i9xjmeJr"
      }
    },
    {
      "cell_type": "code",
      "source": [
        "age_set = set(age)\n",
        "print(f'La Lista es mas grande {len(age_set)} < {len(age)}') if len(age_set) < len(age) else print(f'Mismo tamaño {len(age_set)} = {len(age)}')\n",
        "print(age)\n",
        "print(age_set)"
      ],
      "metadata": {
        "colab": {
          "base_uri": "https://localhost:8080/"
        },
        "id": "QtWKdO9jtKev",
        "outputId": "d54bc046-b23b-4208-9887-d95d7ed3a9cb"
      },
      "execution_count": 55,
      "outputs": [
        {
          "output_type": "stream",
          "name": "stdout",
          "text": [
            "La Lista es mas grande 5 < 8\n",
            "[22, 19, 24, 25, 26, 24, 25, 24]\n",
            "{19, 22, 24, 25, 26}\n"
          ]
        }
      ]
    },
    {
      "cell_type": "markdown",
      "source": [
        "2. Explique la diferencia entre los siguientes tipos de datos: cadena, lista, tupla y conjunto (string, list, tuple and set)"
      ],
      "metadata": {
        "id": "SM6tMlxHmePu"
      }
    },
    {
      "cell_type": "code",
      "source": [
        "# string: cadena de caracteres\n",
        "# list: conjunto de elementos mutables, que se pueden repetir\n",
        "# tuple: conjunto de elementos mutables, que se pueden repetir\n",
        "# set: conjunto de elementos inmutables, de valores unicos"
      ],
      "metadata": {
        "id": "uclTImvaufWD"
      },
      "execution_count": null,
      "outputs": []
    },
    {
      "cell_type": "markdown",
      "source": [
        "3. Soy profesora y me encanta inspirar y enseñar a la gente. ¿Cuántas palabras únicas se han usado en la oración? Use los métodos de división y configure para obtener las palabras únicas."
      ],
      "metadata": {
        "id": "mykVcNTEmeXH"
      }
    },
    {
      "cell_type": "code",
      "source": [
        "oracion = 'Soy profesora y me encanta inspirar y enseñar a la gente.'\n",
        "palabras_unicas = set(oracion.strip('.,;:').split())\n",
        "print(palabras_unicas)\n",
        "print(f'Palabras unicas: {len(palabras_unicas)}')"
      ],
      "metadata": {
        "colab": {
          "base_uri": "https://localhost:8080/"
        },
        "id": "fx-U4SSivQtt",
        "outputId": "eca85cb8-f63a-4cff-d9d3-97e0e2f7b6bd"
      },
      "execution_count": 68,
      "outputs": [
        {
          "output_type": "stream",
          "name": "stdout",
          "text": [
            "{'profesora', 'encanta', 'gente', 'a', 'la', 'y', 'Soy', 'me', 'enseñar', 'inspirar'}\n",
            "Palabras unicas: 10\n"
          ]
        }
      ]
    }
  ]
}